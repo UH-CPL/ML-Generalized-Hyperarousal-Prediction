{
 "cells": [
  {
   "cell_type": "code",
   "execution_count": 3,
   "metadata": {},
   "outputs": [],
   "source": [
    "import os\n",
    "\n",
    "import pandas as pd\n",
    "import numpy as np\n",
    "\n",
    "import xlrd\n",
    "import glob\n",
    "\n",
    "\n",
    "import matplotlib.pyplot as plt\n",
    "import seaborn as sns\n",
    "\n",
    "%matplotlib inline\n",
    "\n",
    "data_dir = '../../data/deadline_study/'"
   ]
  },
  {
   "cell_type": "code",
   "execution_count": 4,
   "metadata": {},
   "outputs": [
    {
     "name": "stderr",
     "output_type": "stream",
     "text": [
      "/Users/shailazaman/opt/anaconda3/lib/python3.7/site-packages/IPython/core/interactiveshell.py:3524: DtypeWarning: Columns (19,20,23,24,26,27) have mixed types.Specify dtype option on import or set low_memory=False.\n",
      "  exec(code_obj, self.user_global_ns, self.user_ns)\n"
     ]
    }
   ],
   "source": [
    "physiological_df = pd.read_csv(data_dir + 'Physiological Data.csv')\n",
    "questionnaire_df = pd.read_csv(data_dir + 'Questionnaire Data.csv')\n",
    "biographic_df = pd.read_csv(data_dir + 'Biographic Data.csv')\n",
    "rb_mean_df = pd.read_csv(data_dir + 'RB Mean Data.csv')"
   ]
  },
  {
   "cell_type": "code",
   "execution_count": 5,
   "metadata": {},
   "outputs": [
    {
     "name": "stdout",
     "output_type": "stream",
     "text": [
      "Index(['Participant_ID', 'Day', 'Treatment', 'Timestamp', 'Sinterface_Time',\n",
      "       'TreatmentTime', 'Raw_PP', 'PP', 'Trans_PP', 'Raw_E4_EDA', 'E4_EDA',\n",
      "       'Trans_E4_EDA', 'Raw_E4_HR', 'E4_HR', 'Trans_E4_HR', 'Raw_iWatch_HR',\n",
      "       'iWatch_HR', 'Trans_iWatch_HR', 'Activity_One', 'Activity_Two',\n",
      "       'Activity_Three', 'Reduced_Activities_QC1', 'Reduced_Activity_One',\n",
      "       'Reduced_Activity_Two', 'Reduced_Activity_Three', 'Segments_Activity',\n",
      "       'Reduced_Application', 'Reduced_Application_final', 'Mask'],\n",
      "      dtype='object')\n"
     ]
    }
   ],
   "source": [
    "print(physiological_df.columns)"
   ]
  },
  {
   "cell_type": "code",
   "execution_count": 6,
   "metadata": {},
   "outputs": [
    {
     "name": "stdout",
     "output_type": "stream",
     "text": [
      "(619975, 29)\n",
      "(619975, 6)\n",
      "Index(['Participant_ID', 'Day', 'Treatment', 'TreatmentTime', 'PP',\n",
      "       'iWatch_HR'],\n",
      "      dtype='object')\n"
     ]
    }
   ],
   "source": [
    "print(physiological_df.shape)\n",
    "physiological_df = physiological_df[['Participant_ID', \n",
    "                                     'Day',\n",
    "                                     'Treatment',\n",
    "                                     'TreatmentTime',\n",
    "                                     'PP', \n",
    "#                                      'BR', #??? \n",
    "                                     'iWatch_HR'\n",
    "                                    ]]\n",
    "\n",
    "print(physiological_df.shape)\n",
    "print(physiological_df.columns)"
   ]
  },
  {
   "cell_type": "code",
   "execution_count": 7,
   "metadata": {},
   "outputs": [
    {
     "data": {
      "text/html": [
       "<div>\n",
       "<style scoped>\n",
       "    .dataframe tbody tr th:only-of-type {\n",
       "        vertical-align: middle;\n",
       "    }\n",
       "\n",
       "    .dataframe tbody tr th {\n",
       "        vertical-align: top;\n",
       "    }\n",
       "\n",
       "    .dataframe thead th {\n",
       "        text-align: right;\n",
       "    }\n",
       "</style>\n",
       "<table border=\"1\" class=\"dataframe\">\n",
       "  <thead>\n",
       "    <tr style=\"text-align: right;\">\n",
       "      <th></th>\n",
       "      <th>Participant_ID</th>\n",
       "      <th>Day</th>\n",
       "      <th>Treatment</th>\n",
       "      <th>TreatmentTime</th>\n",
       "      <th>PP</th>\n",
       "      <th>iWatch_HR</th>\n",
       "    </tr>\n",
       "  </thead>\n",
       "  <tbody>\n",
       "    <tr>\n",
       "      <th>619970</th>\n",
       "      <td>T019</td>\n",
       "      <td>Day4</td>\n",
       "      <td>WS</td>\n",
       "      <td>13082</td>\n",
       "      <td>0.030295</td>\n",
       "      <td>NaN</td>\n",
       "    </tr>\n",
       "    <tr>\n",
       "      <th>619971</th>\n",
       "      <td>T019</td>\n",
       "      <td>Day4</td>\n",
       "      <td>WS</td>\n",
       "      <td>13083</td>\n",
       "      <td>0.029643</td>\n",
       "      <td>NaN</td>\n",
       "    </tr>\n",
       "    <tr>\n",
       "      <th>619972</th>\n",
       "      <td>T019</td>\n",
       "      <td>Day4</td>\n",
       "      <td>WS</td>\n",
       "      <td>13084</td>\n",
       "      <td>0.029193</td>\n",
       "      <td>NaN</td>\n",
       "    </tr>\n",
       "    <tr>\n",
       "      <th>619973</th>\n",
       "      <td>T019</td>\n",
       "      <td>Day4</td>\n",
       "      <td>WS</td>\n",
       "      <td>13085</td>\n",
       "      <td>0.028934</td>\n",
       "      <td>NaN</td>\n",
       "    </tr>\n",
       "    <tr>\n",
       "      <th>619974</th>\n",
       "      <td>T019</td>\n",
       "      <td>Day4</td>\n",
       "      <td>WS</td>\n",
       "      <td>13086</td>\n",
       "      <td>0.028823</td>\n",
       "      <td>71.823861</td>\n",
       "    </tr>\n",
       "  </tbody>\n",
       "</table>\n",
       "</div>"
      ],
      "text/plain": [
       "       Participant_ID   Day Treatment  TreatmentTime        PP  iWatch_HR\n",
       "619970           T019  Day4        WS          13082  0.030295        NaN\n",
       "619971           T019  Day4        WS          13083  0.029643        NaN\n",
       "619972           T019  Day4        WS          13084  0.029193        NaN\n",
       "619973           T019  Day4        WS          13085  0.028934        NaN\n",
       "619974           T019  Day4        WS          13086  0.028823  71.823861"
      ]
     },
     "execution_count": 7,
     "metadata": {},
     "output_type": "execute_result"
    }
   ],
   "source": [
    "physiological_df.tail()"
   ]
  },
  {
   "cell_type": "code",
   "execution_count": 8,
   "metadata": {},
   "outputs": [
    {
     "data": {
      "text/plain": [
       "Index(['Subject', 'Day', 'Treatment', 'TreatmentTime', 'Perinasal', 'Heart'], dtype='object')"
      ]
     },
     "execution_count": 8,
     "metadata": {},
     "output_type": "execute_result"
    }
   ],
   "source": [
    "col_names = {\n",
    "    'Participant_ID': 'Subject',\n",
    "    'PP': 'Perinasal',\n",
    "    'iWatch_HR': 'Heart',\n",
    "#     'BR': 'Breathing'\n",
    "}\n",
    "  \n",
    "physiological_df.rename(columns = col_names, inplace=True)\n",
    "physiological_df.columns"
   ]
  },
  {
   "cell_type": "code",
   "execution_count": null,
   "metadata": {},
   "outputs": [],
   "source": [
    "\n",
    "\n",
    "\n"
   ]
  },
  {
   "cell_type": "markdown",
   "metadata": {},
   "source": [
    "### Parallel Study - Renaming Treatment"
   ]
  },
  {
   "cell_type": "code",
   "execution_count": 9,
   "metadata": {},
   "outputs": [
    {
     "data": {
      "text/plain": [
       "array(['Day1_RB', 'Day1_WS', 'Day2_RB', 'Day2_WS', 'Day3_RB', 'Day3_WS',\n",
       "       'Day4_RB', 'Day4_WS'], dtype=object)"
      ]
     },
     "execution_count": 9,
     "metadata": {},
     "output_type": "execute_result"
    }
   ],
   "source": [
    "physiological_df['Treatment'] = physiological_df['Day'] + '_' + physiological_df['Treatment']\n",
    "physiological_df.Treatment.unique()"
   ]
  },
  {
   "cell_type": "code",
   "execution_count": 10,
   "metadata": {},
   "outputs": [
    {
     "data": {
      "text/plain": [
       "(619975, 6)"
      ]
     },
     "execution_count": 10,
     "metadata": {},
     "output_type": "execute_result"
    }
   ],
   "source": [
    "physiological_df.shape"
   ]
  },
  {
   "cell_type": "code",
   "execution_count": 11,
   "metadata": {},
   "outputs": [
    {
     "data": {
      "text/plain": [
       "Subject               0\n",
       "Day                   0\n",
       "Treatment             0\n",
       "TreatmentTime         0\n",
       "Perinasal        333467\n",
       "Heart            519733\n",
       "dtype: int64"
      ]
     },
     "execution_count": 11,
     "metadata": {},
     "output_type": "execute_result"
    }
   ],
   "source": [
    "physiological_df.isnull().sum()"
   ]
  },
  {
   "cell_type": "code",
   "execution_count": 12,
   "metadata": {},
   "outputs": [],
   "source": [
    "# physiological_df.Subject.unique()"
   ]
  },
  {
   "cell_type": "code",
   "execution_count": null,
   "metadata": {},
   "outputs": [],
   "source": [
    "\n",
    "\n",
    "\n",
    "\n",
    "\n",
    "\n"
   ]
  },
  {
   "cell_type": "code",
   "execution_count": 13,
   "metadata": {},
   "outputs": [
    {
     "name": "stdout",
     "output_type": "stream",
     "text": [
      "(40, 10)\n",
      "Index(['Participant_ID', 'Day', 'N_MD', 'N_PD', 'N_TD', 'N_P', 'N_E', 'N_F',\n",
      "       'SA_B', 'SA_E'],\n",
      "      dtype='object')\n"
     ]
    }
   ],
   "source": [
    "print(questionnaire_df.shape)\n",
    "print(questionnaire_df.columns)"
   ]
  },
  {
   "cell_type": "code",
   "execution_count": 14,
   "metadata": {},
   "outputs": [
    {
     "name": "stdout",
     "output_type": "stream",
     "text": [
      "(40, 10)\n",
      "(40, 8)\n",
      "Index(['Participant_ID', 'Day', 'N_MD', 'N_PD', 'N_TD', 'N_P', 'N_E', 'N_F'], dtype='object')\n"
     ]
    }
   ],
   "source": [
    "print(questionnaire_df.shape)\n",
    "questionnaire_df = questionnaire_df[['Participant_ID',\n",
    "                                     'Day',\n",
    "                                     \n",
    "                                     'N_MD', \n",
    "                                     'N_PD', \n",
    "                                     'N_TD', \n",
    "                                     'N_P', \n",
    "                                     'N_E', \n",
    "                                     'N_F'\n",
    "                                     \n",
    "                                     # 'Mental', \n",
    "                                     # 'Physical', \n",
    "                                     # 'Temporal', \n",
    "                                     # 'Performance',\n",
    "                                     # 'Effort', \n",
    "                                     # 'Frustration'\n",
    "                                    \n",
    "                                    ]]\n",
    "\n",
    "print(questionnaire_df.shape)\n",
    "print(questionnaire_df.columns)"
   ]
  },
  {
   "cell_type": "code",
   "execution_count": 15,
   "metadata": {},
   "outputs": [
    {
     "data": {
      "text/plain": [
       "Index(['Subject', 'Day', 'Mental Demand', 'Physical Demand', 'Temporal Demand',\n",
       "       'Performance', 'Effort', 'Frustration'],\n",
       "      dtype='object')"
      ]
     },
     "execution_count": 15,
     "metadata": {},
     "output_type": "execute_result"
    }
   ],
   "source": [
    "col_names = {\n",
    "    'Participant_ID': 'Subject',\n",
    "    \n",
    "    'N_MD': 'Mental Demand', \n",
    "    'N_PD': 'Physical Demand', \n",
    "    'N_TD': 'Temporal Demand', \n",
    "    'N_P': 'Performance', \n",
    "    'N_E': 'Effort', \n",
    "    'N_F': 'Frustration'\n",
    "    \n",
    "    # 'Mental':  'Mental Demand', \n",
    "    # 'Physical':  'Physical Demand', \n",
    "    # 'Temporal':  'Temporal Demand',\n",
    "    # 'Performance': 'Performance', \n",
    "    # 'Effort': 'Effort', \n",
    "    # 'Frustration': 'Frustration'\n",
    "}\n",
    "  \n",
    "questionnaire_df.rename(columns = col_names, inplace=True)\n",
    "questionnaire_df.columns"
   ]
  },
  {
   "cell_type": "code",
   "execution_count": 16,
   "metadata": {},
   "outputs": [
    {
     "data": {
      "text/plain": [
       "Subject            0\n",
       "Day                0\n",
       "Mental Demand      0\n",
       "Physical Demand    0\n",
       "Temporal Demand    0\n",
       "Performance        0\n",
       "Effort             0\n",
       "Frustration        0\n",
       "dtype: int64"
      ]
     },
     "execution_count": 16,
     "metadata": {},
     "output_type": "execute_result"
    }
   ],
   "source": [
    "questionnaire_df.isnull().sum()"
   ]
  },
  {
   "cell_type": "code",
   "execution_count": 17,
   "metadata": {},
   "outputs": [
    {
     "name": "stdout",
     "output_type": "stream",
     "text": [
      "(40, 8)\n",
      "(40, 8)\n"
     ]
    }
   ],
   "source": [
    "print(questionnaire_df.shape)\n",
    "questionnaire_df.dropna(inplace=True)\n",
    "print(questionnaire_df.shape)"
   ]
  },
  {
   "cell_type": "code",
   "execution_count": 18,
   "metadata": {},
   "outputs": [
    {
     "data": {
      "text/html": [
       "<div>\n",
       "<style scoped>\n",
       "    .dataframe tbody tr th:only-of-type {\n",
       "        vertical-align: middle;\n",
       "    }\n",
       "\n",
       "    .dataframe tbody tr th {\n",
       "        vertical-align: top;\n",
       "    }\n",
       "\n",
       "    .dataframe thead th {\n",
       "        text-align: right;\n",
       "    }\n",
       "</style>\n",
       "<table border=\"1\" class=\"dataframe\">\n",
       "  <thead>\n",
       "    <tr style=\"text-align: right;\">\n",
       "      <th></th>\n",
       "      <th>Subject</th>\n",
       "      <th>Day</th>\n",
       "      <th>Mental Demand</th>\n",
       "      <th>Physical Demand</th>\n",
       "      <th>Temporal Demand</th>\n",
       "      <th>Performance</th>\n",
       "      <th>Effort</th>\n",
       "      <th>Frustration</th>\n",
       "    </tr>\n",
       "  </thead>\n",
       "  <tbody>\n",
       "    <tr>\n",
       "      <th>0</th>\n",
       "      <td>T001</td>\n",
       "      <td>Day1</td>\n",
       "      <td>11</td>\n",
       "      <td>1</td>\n",
       "      <td>4</td>\n",
       "      <td>6</td>\n",
       "      <td>8</td>\n",
       "      <td>2</td>\n",
       "    </tr>\n",
       "    <tr>\n",
       "      <th>1</th>\n",
       "      <td>T001</td>\n",
       "      <td>Day2</td>\n",
       "      <td>10</td>\n",
       "      <td>3</td>\n",
       "      <td>4</td>\n",
       "      <td>7</td>\n",
       "      <td>8</td>\n",
       "      <td>1</td>\n",
       "    </tr>\n",
       "    <tr>\n",
       "      <th>2</th>\n",
       "      <td>T001</td>\n",
       "      <td>Day3</td>\n",
       "      <td>1</td>\n",
       "      <td>1</td>\n",
       "      <td>1</td>\n",
       "      <td>10</td>\n",
       "      <td>2</td>\n",
       "      <td>1</td>\n",
       "    </tr>\n",
       "    <tr>\n",
       "      <th>3</th>\n",
       "      <td>T001</td>\n",
       "      <td>Day4</td>\n",
       "      <td>7</td>\n",
       "      <td>3</td>\n",
       "      <td>4</td>\n",
       "      <td>8</td>\n",
       "      <td>7</td>\n",
       "      <td>5</td>\n",
       "    </tr>\n",
       "    <tr>\n",
       "      <th>4</th>\n",
       "      <td>T003</td>\n",
       "      <td>Day1</td>\n",
       "      <td>18</td>\n",
       "      <td>15</td>\n",
       "      <td>18</td>\n",
       "      <td>12</td>\n",
       "      <td>18</td>\n",
       "      <td>17</td>\n",
       "    </tr>\n",
       "  </tbody>\n",
       "</table>\n",
       "</div>"
      ],
      "text/plain": [
       "  Subject   Day  Mental Demand  Physical Demand  Temporal Demand  Performance  \\\n",
       "0    T001  Day1             11                1                4            6   \n",
       "1    T001  Day2             10                3                4            7   \n",
       "2    T001  Day3              1                1                1           10   \n",
       "3    T001  Day4              7                3                4            8   \n",
       "4    T003  Day1             18               15               18           12   \n",
       "\n",
       "   Effort  Frustration  \n",
       "0       8            2  \n",
       "1       8            1  \n",
       "2       2            1  \n",
       "3       7            5  \n",
       "4      18           17  "
      ]
     },
     "execution_count": 18,
     "metadata": {},
     "output_type": "execute_result"
    }
   ],
   "source": [
    "questionnaire_df.head()"
   ]
  },
  {
   "cell_type": "code",
   "execution_count": 19,
   "metadata": {},
   "outputs": [
    {
     "data": {
      "text/html": [
       "<div>\n",
       "<style scoped>\n",
       "    .dataframe tbody tr th:only-of-type {\n",
       "        vertical-align: middle;\n",
       "    }\n",
       "\n",
       "    .dataframe tbody tr th {\n",
       "        vertical-align: top;\n",
       "    }\n",
       "\n",
       "    .dataframe thead th {\n",
       "        text-align: right;\n",
       "    }\n",
       "</style>\n",
       "<table border=\"1\" class=\"dataframe\">\n",
       "  <thead>\n",
       "    <tr style=\"text-align: right;\">\n",
       "      <th></th>\n",
       "      <th>Subject</th>\n",
       "      <th>Day</th>\n",
       "      <th>Mental Demand</th>\n",
       "      <th>Physical Demand</th>\n",
       "      <th>Temporal Demand</th>\n",
       "      <th>Performance</th>\n",
       "      <th>Effort</th>\n",
       "      <th>Frustration</th>\n",
       "    </tr>\n",
       "  </thead>\n",
       "  <tbody>\n",
       "    <tr>\n",
       "      <th>0</th>\n",
       "      <td>T001</td>\n",
       "      <td>Day1</td>\n",
       "      <td>11</td>\n",
       "      <td>1</td>\n",
       "      <td>4</td>\n",
       "      <td>6</td>\n",
       "      <td>8</td>\n",
       "      <td>2</td>\n",
       "    </tr>\n",
       "    <tr>\n",
       "      <th>1</th>\n",
       "      <td>T001</td>\n",
       "      <td>Day2</td>\n",
       "      <td>10</td>\n",
       "      <td>3</td>\n",
       "      <td>4</td>\n",
       "      <td>7</td>\n",
       "      <td>8</td>\n",
       "      <td>1</td>\n",
       "    </tr>\n",
       "    <tr>\n",
       "      <th>2</th>\n",
       "      <td>T001</td>\n",
       "      <td>Day3</td>\n",
       "      <td>1</td>\n",
       "      <td>1</td>\n",
       "      <td>1</td>\n",
       "      <td>10</td>\n",
       "      <td>2</td>\n",
       "      <td>1</td>\n",
       "    </tr>\n",
       "    <tr>\n",
       "      <th>3</th>\n",
       "      <td>T001</td>\n",
       "      <td>Day4</td>\n",
       "      <td>7</td>\n",
       "      <td>3</td>\n",
       "      <td>4</td>\n",
       "      <td>8</td>\n",
       "      <td>7</td>\n",
       "      <td>5</td>\n",
       "    </tr>\n",
       "    <tr>\n",
       "      <th>4</th>\n",
       "      <td>T003</td>\n",
       "      <td>Day1</td>\n",
       "      <td>18</td>\n",
       "      <td>15</td>\n",
       "      <td>18</td>\n",
       "      <td>12</td>\n",
       "      <td>18</td>\n",
       "      <td>17</td>\n",
       "    </tr>\n",
       "  </tbody>\n",
       "</table>\n",
       "</div>"
      ],
      "text/plain": [
       "  Subject   Day  Mental Demand  Physical Demand  Temporal Demand  Performance  \\\n",
       "0    T001  Day1             11                1                4            6   \n",
       "1    T001  Day2             10                3                4            7   \n",
       "2    T001  Day3              1                1                1           10   \n",
       "3    T001  Day4              7                3                4            8   \n",
       "4    T003  Day1             18               15               18           12   \n",
       "\n",
       "   Effort  Frustration  \n",
       "0       8            2  \n",
       "1       8            1  \n",
       "2       2            1  \n",
       "3       7            5  \n",
       "4      18           17  "
      ]
     },
     "execution_count": 19,
     "metadata": {},
     "output_type": "execute_result"
    }
   ],
   "source": [
    "nasal_cols = ['Mental Demand', 'Physical Demand', 'Temporal Demand', 'Performance', 'Effort', 'Frustration']\n",
    "\n",
    "questionnaire_df[nasal_cols] = questionnaire_df[nasal_cols].applymap(np.int64)\n",
    "questionnaire_df.head()"
   ]
  },
  {
   "cell_type": "code",
   "execution_count": null,
   "metadata": {},
   "outputs": [],
   "source": [
    "\n",
    "\n",
    "\n",
    "\n",
    "\n",
    "\n"
   ]
  },
  {
   "cell_type": "code",
   "execution_count": 20,
   "metadata": {},
   "outputs": [
    {
     "data": {
      "text/html": [
       "<div>\n",
       "<style scoped>\n",
       "    .dataframe tbody tr th:only-of-type {\n",
       "        vertical-align: middle;\n",
       "    }\n",
       "\n",
       "    .dataframe tbody tr th {\n",
       "        vertical-align: top;\n",
       "    }\n",
       "\n",
       "    .dataframe thead th {\n",
       "        text-align: right;\n",
       "    }\n",
       "</style>\n",
       "<table border=\"1\" class=\"dataframe\">\n",
       "  <thead>\n",
       "    <tr style=\"text-align: right;\">\n",
       "      <th></th>\n",
       "      <th>Subject</th>\n",
       "      <th>Day</th>\n",
       "      <th>Mental Demand</th>\n",
       "      <th>Physical Demand</th>\n",
       "      <th>Temporal Demand</th>\n",
       "      <th>Performance</th>\n",
       "      <th>Effort</th>\n",
       "      <th>Frustration</th>\n",
       "      <th>NASA Total Sum</th>\n",
       "    </tr>\n",
       "  </thead>\n",
       "  <tbody>\n",
       "    <tr>\n",
       "      <th>0</th>\n",
       "      <td>T001</td>\n",
       "      <td>Day1</td>\n",
       "      <td>11</td>\n",
       "      <td>1</td>\n",
       "      <td>4</td>\n",
       "      <td>6</td>\n",
       "      <td>8</td>\n",
       "      <td>2</td>\n",
       "      <td>32</td>\n",
       "    </tr>\n",
       "    <tr>\n",
       "      <th>1</th>\n",
       "      <td>T001</td>\n",
       "      <td>Day2</td>\n",
       "      <td>10</td>\n",
       "      <td>3</td>\n",
       "      <td>4</td>\n",
       "      <td>7</td>\n",
       "      <td>8</td>\n",
       "      <td>1</td>\n",
       "      <td>33</td>\n",
       "    </tr>\n",
       "    <tr>\n",
       "      <th>2</th>\n",
       "      <td>T001</td>\n",
       "      <td>Day3</td>\n",
       "      <td>1</td>\n",
       "      <td>1</td>\n",
       "      <td>1</td>\n",
       "      <td>10</td>\n",
       "      <td>2</td>\n",
       "      <td>1</td>\n",
       "      <td>16</td>\n",
       "    </tr>\n",
       "    <tr>\n",
       "      <th>3</th>\n",
       "      <td>T001</td>\n",
       "      <td>Day4</td>\n",
       "      <td>7</td>\n",
       "      <td>3</td>\n",
       "      <td>4</td>\n",
       "      <td>8</td>\n",
       "      <td>7</td>\n",
       "      <td>5</td>\n",
       "      <td>34</td>\n",
       "    </tr>\n",
       "    <tr>\n",
       "      <th>4</th>\n",
       "      <td>T003</td>\n",
       "      <td>Day1</td>\n",
       "      <td>18</td>\n",
       "      <td>15</td>\n",
       "      <td>18</td>\n",
       "      <td>12</td>\n",
       "      <td>18</td>\n",
       "      <td>17</td>\n",
       "      <td>98</td>\n",
       "    </tr>\n",
       "  </tbody>\n",
       "</table>\n",
       "</div>"
      ],
      "text/plain": [
       "  Subject   Day  Mental Demand  Physical Demand  Temporal Demand  Performance  \\\n",
       "0    T001  Day1             11                1                4            6   \n",
       "1    T001  Day2             10                3                4            7   \n",
       "2    T001  Day3              1                1                1           10   \n",
       "3    T001  Day4              7                3                4            8   \n",
       "4    T003  Day1             18               15               18           12   \n",
       "\n",
       "   Effort  Frustration  NASA Total Sum  \n",
       "0       8            2              32  \n",
       "1       8            1              33  \n",
       "2       2            1              16  \n",
       "3       7            5              34  \n",
       "4      18           17              98  "
      ]
     },
     "execution_count": 20,
     "metadata": {},
     "output_type": "execute_result"
    }
   ],
   "source": [
    "#----- Summation - Nasa -----#\n",
    "nasa_cols = ['Effort', 'Frustration', 'Mental Demand', 'Performance', 'Physical Demand', 'Temporal Demand']\n",
    "# final_df[nasa_cols] = final_df[nasa_cols].apply(pd.to_numeric) # Without converting, it was giving NAN summation for some cases\n",
    "questionnaire_df['NASA Total Sum'] = questionnaire_df[nasa_cols].sum(axis=1)\n",
    "questionnaire_df.head()"
   ]
  },
  {
   "cell_type": "code",
   "execution_count": null,
   "metadata": {},
   "outputs": [],
   "source": [
    "\n",
    "\n",
    "\n",
    "\n",
    "\n"
   ]
  },
  {
   "cell_type": "code",
   "execution_count": 21,
   "metadata": {},
   "outputs": [
    {
     "data": {
      "text/html": [
       "<div>\n",
       "<style scoped>\n",
       "    .dataframe tbody tr th:only-of-type {\n",
       "        vertical-align: middle;\n",
       "    }\n",
       "\n",
       "    .dataframe tbody tr th {\n",
       "        vertical-align: top;\n",
       "    }\n",
       "\n",
       "    .dataframe thead th {\n",
       "        text-align: right;\n",
       "    }\n",
       "</style>\n",
       "<table border=\"1\" class=\"dataframe\">\n",
       "  <thead>\n",
       "    <tr style=\"text-align: right;\">\n",
       "      <th></th>\n",
       "      <th>Subject_ID</th>\n",
       "      <th>Gender</th>\n",
       "      <th>Age</th>\n",
       "    </tr>\n",
       "  </thead>\n",
       "  <tbody>\n",
       "    <tr>\n",
       "      <th>0</th>\n",
       "      <td>T001</td>\n",
       "      <td>Male</td>\n",
       "      <td>44.0</td>\n",
       "    </tr>\n",
       "    <tr>\n",
       "      <th>1</th>\n",
       "      <td>T003</td>\n",
       "      <td>Female</td>\n",
       "      <td>NaN</td>\n",
       "    </tr>\n",
       "    <tr>\n",
       "      <th>2</th>\n",
       "      <td>T005</td>\n",
       "      <td>Male</td>\n",
       "      <td>35.0</td>\n",
       "    </tr>\n",
       "    <tr>\n",
       "      <th>3</th>\n",
       "      <td>T007</td>\n",
       "      <td>Female</td>\n",
       "      <td>30.0</td>\n",
       "    </tr>\n",
       "    <tr>\n",
       "      <th>4</th>\n",
       "      <td>T009</td>\n",
       "      <td>Male</td>\n",
       "      <td>29.0</td>\n",
       "    </tr>\n",
       "  </tbody>\n",
       "</table>\n",
       "</div>"
      ],
      "text/plain": [
       "  Subject_ID  Gender   Age\n",
       "0       T001    Male  44.0\n",
       "1       T003  Female   NaN\n",
       "2       T005    Male  35.0\n",
       "3       T007  Female  30.0\n",
       "4       T009    Male  29.0"
      ]
     },
     "execution_count": 21,
     "metadata": {},
     "output_type": "execute_result"
    }
   ],
   "source": [
    "biographic_df.head()"
   ]
  },
  {
   "cell_type": "code",
   "execution_count": 22,
   "metadata": {},
   "outputs": [
    {
     "name": "stdout",
     "output_type": "stream",
     "text": [
      "(10, 3)\n",
      "(9, 3)\n"
     ]
    }
   ],
   "source": [
    "print(biographic_df.shape)\n",
    "biographic_df.dropna(inplace=True)\n",
    "print(biographic_df.shape)"
   ]
  },
  {
   "cell_type": "code",
   "execution_count": 23,
   "metadata": {},
   "outputs": [
    {
     "data": {
      "text/plain": [
       "Index(['Subject', 'Gender', 'Age'], dtype='object')"
      ]
     },
     "execution_count": 23,
     "metadata": {},
     "output_type": "execute_result"
    }
   ],
   "source": [
    "biographic_df.rename(columns = {'Subject_ID': 'Subject'}, inplace=True)\n",
    "biographic_df.columns"
   ]
  },
  {
   "cell_type": "code",
   "execution_count": 24,
   "metadata": {},
   "outputs": [],
   "source": [
    "# biographic_df['Gender'].replace({'Male': 0, 'Female': 1}, inplace=True)\n",
    "# biographic_df.head()"
   ]
  },
  {
   "cell_type": "code",
   "execution_count": 25,
   "metadata": {},
   "outputs": [],
   "source": [
    "# biographic_df.Subject.unique()"
   ]
  },
  {
   "cell_type": "code",
   "execution_count": null,
   "metadata": {},
   "outputs": [],
   "source": [
    "\n",
    "\n",
    "\n",
    "\n",
    "\n"
   ]
  },
  {
   "cell_type": "code",
   "execution_count": 26,
   "metadata": {},
   "outputs": [
    {
     "name": "stdout",
     "output_type": "stream",
     "text": [
      "10\n",
      "(619975, 13)\n",
      "(619975, 13)\n",
      "10\n",
      "(619975, 15)\n",
      "(619975, 15)\n"
     ]
    }
   ],
   "source": [
    "final_df = physiological_df.merge(questionnaire_df, on=['Subject', 'Day'], how='left')\n",
    "\n",
    "print(len(final_df.Subject.unique()))\n",
    "print(final_df.shape)\n",
    "final_df.drop_duplicates(inplace = True)\n",
    "print(final_df.shape)\n",
    "\n",
    "\n",
    "final_df = final_df.merge(biographic_df, on=['Subject'], how='left')\n",
    "print(len(final_df.Subject.unique()))\n",
    "print(final_df.shape)\n",
    "final_df.drop_duplicates(inplace = True)\n",
    "print(final_df.shape)\n"
   ]
  },
  {
   "cell_type": "code",
   "execution_count": null,
   "metadata": {},
   "outputs": [],
   "source": [
    "\n",
    "\n"
   ]
  },
  {
   "cell_type": "code",
   "execution_count": 27,
   "metadata": {},
   "outputs": [
    {
     "data": {
      "text/plain": [
       "(619975, 15)"
      ]
     },
     "execution_count": 27,
     "metadata": {},
     "output_type": "execute_result"
    }
   ],
   "source": [
    "final_df.shape"
   ]
  },
  {
   "cell_type": "code",
   "execution_count": 28,
   "metadata": {},
   "outputs": [
    {
     "data": {
      "text/plain": [
       "Subject                 0\n",
       "Day                     0\n",
       "Treatment               0\n",
       "TreatmentTime           0\n",
       "Perinasal          333467\n",
       "Heart              519733\n",
       "Mental Demand           0\n",
       "Physical Demand         0\n",
       "Temporal Demand         0\n",
       "Performance             0\n",
       "Effort                  0\n",
       "Frustration             0\n",
       "NASA Total Sum          0\n",
       "Gender              52999\n",
       "Age                 52999\n",
       "dtype: int64"
      ]
     },
     "execution_count": 28,
     "metadata": {},
     "output_type": "execute_result"
    }
   ],
   "source": [
    "final_df.isnull().sum()"
   ]
  },
  {
   "cell_type": "code",
   "execution_count": 29,
   "metadata": {},
   "outputs": [],
   "source": [
    "final_df['Heart_ffill'] = final_df['Heart'].fillna(method='ffill')\n",
    "\n",
    "for col in ['Heart']:\n",
    "    final_df[col+'_interpolate_poly'] = final_df[col].interpolate(method='polynomial', order=1)\n",
    "    final_df[col+'_interpolate'] = final_df[col].interpolate()\n",
    "    \n",
    "final_df.drop('Heart', axis=1, inplace=True)\n",
    "    "
   ]
  },
  {
   "cell_type": "code",
   "execution_count": 30,
   "metadata": {},
   "outputs": [
    {
     "data": {
      "text/plain": [
       "Subject                        0\n",
       "Day                            0\n",
       "Treatment                      0\n",
       "TreatmentTime                  0\n",
       "Perinasal                 333467\n",
       "Mental Demand                  0\n",
       "Physical Demand                0\n",
       "Temporal Demand                0\n",
       "Performance                    0\n",
       "Effort                         0\n",
       "Frustration                    0\n",
       "NASA Total Sum                 0\n",
       "Gender                     52999\n",
       "Age                        52999\n",
       "Heart_ffill                56098\n",
       "Heart_interpolate_poly     56098\n",
       "Heart_interpolate          56098\n",
       "dtype: int64"
      ]
     },
     "execution_count": 30,
     "metadata": {},
     "output_type": "execute_result"
    }
   ],
   "source": [
    "final_df.isnull().sum()"
   ]
  },
  {
   "cell_type": "code",
   "execution_count": 31,
   "metadata": {},
   "outputs": [
    {
     "name": "stdout",
     "output_type": "stream",
     "text": [
      "  Subject  count\n",
      "0    T001  40527\n",
      "1    T003  12263\n",
      "2    T005  45461\n",
      "3    T007  23785\n",
      "4    T009  36806\n",
      "5    T011  39848\n",
      "6    T013  27818\n",
      "7    T015  41569\n",
      "8    T017  43779\n",
      "9    T019  21611\n"
     ]
    }
   ],
   "source": [
    "pp_null_df = final_df.Perinasal.isnull().groupby(final_df.Subject).sum().astype(int).reset_index(name='count')\n",
    "print(pp_null_df)"
   ]
  },
  {
   "cell_type": "code",
   "execution_count": 32,
   "metadata": {},
   "outputs": [
    {
     "name": "stdout",
     "output_type": "stream",
     "text": [
      "(619975, 17)\n",
      "(230202, 17)\n"
     ]
    }
   ],
   "source": [
    "print(final_df.shape)\n",
    "final_df.dropna(inplace=True)\n",
    "print(final_df.shape)"
   ]
  },
  {
   "cell_type": "code",
   "execution_count": 33,
   "metadata": {},
   "outputs": [
    {
     "data": {
      "text/plain": [
       "array(['T005', 'T007', 'T009', 'T011', 'T013', 'T015', 'T017', 'T019'],\n",
       "      dtype=object)"
      ]
     },
     "execution_count": 33,
     "metadata": {},
     "output_type": "execute_result"
    }
   ],
   "source": [
    "final_df.Subject.unique()"
   ]
  },
  {
   "cell_type": "code",
   "execution_count": 34,
   "metadata": {},
   "outputs": [
    {
     "data": {
      "text/html": [
       "<div>\n",
       "<style scoped>\n",
       "    .dataframe tbody tr th:only-of-type {\n",
       "        vertical-align: middle;\n",
       "    }\n",
       "\n",
       "    .dataframe tbody tr th {\n",
       "        vertical-align: top;\n",
       "    }\n",
       "\n",
       "    .dataframe thead th {\n",
       "        text-align: right;\n",
       "    }\n",
       "</style>\n",
       "<table border=\"1\" class=\"dataframe\">\n",
       "  <thead>\n",
       "    <tr style=\"text-align: right;\">\n",
       "      <th></th>\n",
       "      <th>Subject</th>\n",
       "      <th>Day</th>\n",
       "      <th>Treatment</th>\n",
       "      <th>TreatmentTime</th>\n",
       "      <th>Perinasal</th>\n",
       "      <th>Mental Demand</th>\n",
       "      <th>Physical Demand</th>\n",
       "      <th>Temporal Demand</th>\n",
       "      <th>Performance</th>\n",
       "      <th>Effort</th>\n",
       "      <th>Frustration</th>\n",
       "      <th>NASA Total Sum</th>\n",
       "      <th>Gender</th>\n",
       "      <th>Age</th>\n",
       "      <th>Heart_ffill</th>\n",
       "      <th>Heart_interpolate_poly</th>\n",
       "      <th>Heart_interpolate</th>\n",
       "    </tr>\n",
       "  </thead>\n",
       "  <tbody>\n",
       "    <tr>\n",
       "      <th>109096</th>\n",
       "      <td>T005</td>\n",
       "      <td>Day1</td>\n",
       "      <td>Day1_RB</td>\n",
       "      <td>0</td>\n",
       "      <td>0.003285</td>\n",
       "      <td>14</td>\n",
       "      <td>5</td>\n",
       "      <td>12</td>\n",
       "      <td>12</td>\n",
       "      <td>15</td>\n",
       "      <td>5</td>\n",
       "      <td>63</td>\n",
       "      <td>Male</td>\n",
       "      <td>35.0</td>\n",
       "      <td>71.171804</td>\n",
       "      <td>64.378670</td>\n",
       "      <td>64.378670</td>\n",
       "    </tr>\n",
       "    <tr>\n",
       "      <th>109097</th>\n",
       "      <td>T005</td>\n",
       "      <td>Day1</td>\n",
       "      <td>Day1_RB</td>\n",
       "      <td>1</td>\n",
       "      <td>0.003266</td>\n",
       "      <td>14</td>\n",
       "      <td>5</td>\n",
       "      <td>12</td>\n",
       "      <td>12</td>\n",
       "      <td>15</td>\n",
       "      <td>5</td>\n",
       "      <td>63</td>\n",
       "      <td>Male</td>\n",
       "      <td>35.0</td>\n",
       "      <td>71.171804</td>\n",
       "      <td>64.378149</td>\n",
       "      <td>64.378149</td>\n",
       "    </tr>\n",
       "    <tr>\n",
       "      <th>109098</th>\n",
       "      <td>T005</td>\n",
       "      <td>Day1</td>\n",
       "      <td>Day1_RB</td>\n",
       "      <td>2</td>\n",
       "      <td>0.002841</td>\n",
       "      <td>14</td>\n",
       "      <td>5</td>\n",
       "      <td>12</td>\n",
       "      <td>12</td>\n",
       "      <td>15</td>\n",
       "      <td>5</td>\n",
       "      <td>63</td>\n",
       "      <td>Male</td>\n",
       "      <td>35.0</td>\n",
       "      <td>71.171804</td>\n",
       "      <td>64.377627</td>\n",
       "      <td>64.377627</td>\n",
       "    </tr>\n",
       "    <tr>\n",
       "      <th>109099</th>\n",
       "      <td>T005</td>\n",
       "      <td>Day1</td>\n",
       "      <td>Day1_RB</td>\n",
       "      <td>3</td>\n",
       "      <td>0.002557</td>\n",
       "      <td>14</td>\n",
       "      <td>5</td>\n",
       "      <td>12</td>\n",
       "      <td>12</td>\n",
       "      <td>15</td>\n",
       "      <td>5</td>\n",
       "      <td>63</td>\n",
       "      <td>Male</td>\n",
       "      <td>35.0</td>\n",
       "      <td>71.171804</td>\n",
       "      <td>64.377106</td>\n",
       "      <td>64.377106</td>\n",
       "    </tr>\n",
       "    <tr>\n",
       "      <th>109100</th>\n",
       "      <td>T005</td>\n",
       "      <td>Day1</td>\n",
       "      <td>Day1_RB</td>\n",
       "      <td>4</td>\n",
       "      <td>0.002518</td>\n",
       "      <td>14</td>\n",
       "      <td>5</td>\n",
       "      <td>12</td>\n",
       "      <td>12</td>\n",
       "      <td>15</td>\n",
       "      <td>5</td>\n",
       "      <td>63</td>\n",
       "      <td>Male</td>\n",
       "      <td>35.0</td>\n",
       "      <td>71.171804</td>\n",
       "      <td>64.376585</td>\n",
       "      <td>64.376585</td>\n",
       "    </tr>\n",
       "  </tbody>\n",
       "</table>\n",
       "</div>"
      ],
      "text/plain": [
       "       Subject   Day Treatment  TreatmentTime  Perinasal  Mental Demand  \\\n",
       "109096    T005  Day1   Day1_RB              0   0.003285             14   \n",
       "109097    T005  Day1   Day1_RB              1   0.003266             14   \n",
       "109098    T005  Day1   Day1_RB              2   0.002841             14   \n",
       "109099    T005  Day1   Day1_RB              3   0.002557             14   \n",
       "109100    T005  Day1   Day1_RB              4   0.002518             14   \n",
       "\n",
       "        Physical Demand  Temporal Demand  Performance  Effort  Frustration  \\\n",
       "109096                5               12           12      15            5   \n",
       "109097                5               12           12      15            5   \n",
       "109098                5               12           12      15            5   \n",
       "109099                5               12           12      15            5   \n",
       "109100                5               12           12      15            5   \n",
       "\n",
       "        NASA Total Sum Gender   Age  Heart_ffill  Heart_interpolate_poly  \\\n",
       "109096              63   Male  35.0    71.171804               64.378670   \n",
       "109097              63   Male  35.0    71.171804               64.378149   \n",
       "109098              63   Male  35.0    71.171804               64.377627   \n",
       "109099              63   Male  35.0    71.171804               64.377106   \n",
       "109100              63   Male  35.0    71.171804               64.376585   \n",
       "\n",
       "        Heart_interpolate  \n",
       "109096          64.378670  \n",
       "109097          64.378149  \n",
       "109098          64.377627  \n",
       "109099          64.377106  \n",
       "109100          64.376585  "
      ]
     },
     "execution_count": 34,
     "metadata": {},
     "output_type": "execute_result"
    }
   ],
   "source": [
    "final_df.head()"
   ]
  },
  {
   "cell_type": "code",
   "execution_count": null,
   "metadata": {},
   "outputs": [],
   "source": [
    "\n",
    "\n",
    "\n",
    "\n"
   ]
  },
  {
   "cell_type": "code",
   "execution_count": 35,
   "metadata": {},
   "outputs": [
    {
     "data": {
      "text/plain": [
       "Index(['Participant_ID', 'Treatment', 'Signal', 'Day1', 'Day2', 'Day3', 'Day4',\n",
       "       'Day3_Day4_Mean', 'Day3_Day4_Min', 'Four_Day_Min', 'Four_Day_Mean',\n",
       "       'Day1_Normalize', 'Day2_Normalize'],\n",
       "      dtype='object')"
      ]
     },
     "execution_count": 35,
     "metadata": {},
     "output_type": "execute_result"
    }
   ],
   "source": [
    "rb_mean_df.columns"
   ]
  },
  {
   "cell_type": "code",
   "execution_count": 36,
   "metadata": {},
   "outputs": [
    {
     "data": {
      "text/html": [
       "<div>\n",
       "<style scoped>\n",
       "    .dataframe tbody tr th:only-of-type {\n",
       "        vertical-align: middle;\n",
       "    }\n",
       "\n",
       "    .dataframe tbody tr th {\n",
       "        vertical-align: top;\n",
       "    }\n",
       "\n",
       "    .dataframe thead th {\n",
       "        text-align: right;\n",
       "    }\n",
       "</style>\n",
       "<table border=\"1\" class=\"dataframe\">\n",
       "  <thead>\n",
       "    <tr style=\"text-align: right;\">\n",
       "      <th></th>\n",
       "      <th>Participant_ID</th>\n",
       "      <th>Treatment</th>\n",
       "      <th>Signal</th>\n",
       "      <th>Day1</th>\n",
       "      <th>Day2</th>\n",
       "      <th>Day3</th>\n",
       "      <th>Day4</th>\n",
       "      <th>Day3_Day4_Mean</th>\n",
       "      <th>Day3_Day4_Min</th>\n",
       "      <th>Four_Day_Min</th>\n",
       "      <th>Four_Day_Mean</th>\n",
       "      <th>Day1_Normalize</th>\n",
       "      <th>Day2_Normalize</th>\n",
       "    </tr>\n",
       "  </thead>\n",
       "  <tbody>\n",
       "    <tr>\n",
       "      <th>0</th>\n",
       "      <td>T001</td>\n",
       "      <td>RB</td>\n",
       "      <td>E4_EDA</td>\n",
       "      <td>-2.412245</td>\n",
       "      <td>-1.567338</td>\n",
       "      <td>-1.162796</td>\n",
       "      <td>-1.676802</td>\n",
       "      <td>-1.419799</td>\n",
       "      <td>-1.676802</td>\n",
       "      <td>-2.412245</td>\n",
       "      <td>-1.704795</td>\n",
       "      <td>-0.992446</td>\n",
       "      <td>-0.147539</td>\n",
       "    </tr>\n",
       "    <tr>\n",
       "      <th>1</th>\n",
       "      <td>T001</td>\n",
       "      <td>RB</td>\n",
       "      <td>E4_HR</td>\n",
       "      <td>4.437448</td>\n",
       "      <td>4.567275</td>\n",
       "      <td>4.515523</td>\n",
       "      <td>4.521744</td>\n",
       "      <td>4.518634</td>\n",
       "      <td>4.515523</td>\n",
       "      <td>4.437448</td>\n",
       "      <td>4.510498</td>\n",
       "      <td>-0.081186</td>\n",
       "      <td>0.048642</td>\n",
       "    </tr>\n",
       "    <tr>\n",
       "      <th>2</th>\n",
       "      <td>T001</td>\n",
       "      <td>RB</td>\n",
       "      <td>iWatch_HR</td>\n",
       "      <td>NaN</td>\n",
       "      <td>NaN</td>\n",
       "      <td>NaN</td>\n",
       "      <td>NaN</td>\n",
       "      <td>NaN</td>\n",
       "      <td>NaN</td>\n",
       "      <td>NaN</td>\n",
       "      <td>NaN</td>\n",
       "      <td>NaN</td>\n",
       "      <td>NaN</td>\n",
       "    </tr>\n",
       "    <tr>\n",
       "      <th>3</th>\n",
       "      <td>T001</td>\n",
       "      <td>RB</td>\n",
       "      <td>PP</td>\n",
       "      <td>-5.526786</td>\n",
       "      <td>-5.772137</td>\n",
       "      <td>-5.578108</td>\n",
       "      <td>-5.532394</td>\n",
       "      <td>-5.555251</td>\n",
       "      <td>-5.578108</td>\n",
       "      <td>-5.772137</td>\n",
       "      <td>-5.602357</td>\n",
       "      <td>0.028465</td>\n",
       "      <td>-0.216886</td>\n",
       "    </tr>\n",
       "    <tr>\n",
       "      <th>4</th>\n",
       "      <td>T001</td>\n",
       "      <td>WS</td>\n",
       "      <td>E4_EDA</td>\n",
       "      <td>-1.912728</td>\n",
       "      <td>-1.702012</td>\n",
       "      <td>-1.040432</td>\n",
       "      <td>-1.365789</td>\n",
       "      <td>-1.203110</td>\n",
       "      <td>-1.365789</td>\n",
       "      <td>-1.912728</td>\n",
       "      <td>-1.505240</td>\n",
       "      <td>-0.709617</td>\n",
       "      <td>-0.498901</td>\n",
       "    </tr>\n",
       "  </tbody>\n",
       "</table>\n",
       "</div>"
      ],
      "text/plain": [
       "  Participant_ID Treatment     Signal      Day1      Day2      Day3      Day4  \\\n",
       "0           T001        RB     E4_EDA -2.412245 -1.567338 -1.162796 -1.676802   \n",
       "1           T001        RB      E4_HR  4.437448  4.567275  4.515523  4.521744   \n",
       "2           T001        RB  iWatch_HR       NaN       NaN       NaN       NaN   \n",
       "3           T001        RB         PP -5.526786 -5.772137 -5.578108 -5.532394   \n",
       "4           T001        WS     E4_EDA -1.912728 -1.702012 -1.040432 -1.365789   \n",
       "\n",
       "   Day3_Day4_Mean  Day3_Day4_Min  Four_Day_Min  Four_Day_Mean  Day1_Normalize  \\\n",
       "0       -1.419799      -1.676802     -2.412245      -1.704795       -0.992446   \n",
       "1        4.518634       4.515523      4.437448       4.510498       -0.081186   \n",
       "2             NaN            NaN           NaN            NaN             NaN   \n",
       "3       -5.555251      -5.578108     -5.772137      -5.602357        0.028465   \n",
       "4       -1.203110      -1.365789     -1.912728      -1.505240       -0.709617   \n",
       "\n",
       "   Day2_Normalize  \n",
       "0       -0.147539  \n",
       "1        0.048642  \n",
       "2             NaN  \n",
       "3       -0.216886  \n",
       "4       -0.498901  "
      ]
     },
     "execution_count": 36,
     "metadata": {},
     "output_type": "execute_result"
    }
   ],
   "source": [
    "rb_mean_df.head()"
   ]
  },
  {
   "cell_type": "code",
   "execution_count": 37,
   "metadata": {},
   "outputs": [
    {
     "data": {
      "text/html": [
       "<div>\n",
       "<style scoped>\n",
       "    .dataframe tbody tr th:only-of-type {\n",
       "        vertical-align: middle;\n",
       "    }\n",
       "\n",
       "    .dataframe tbody tr th {\n",
       "        vertical-align: top;\n",
       "    }\n",
       "\n",
       "    .dataframe thead th {\n",
       "        text-align: right;\n",
       "    }\n",
       "</style>\n",
       "<table border=\"1\" class=\"dataframe\">\n",
       "  <thead>\n",
       "    <tr style=\"text-align: right;\">\n",
       "      <th></th>\n",
       "      <th>Participant_ID</th>\n",
       "      <th>Signal</th>\n",
       "      <th>Day1</th>\n",
       "      <th>Day2</th>\n",
       "      <th>Day3</th>\n",
       "      <th>Day4</th>\n",
       "      <th>Four_Day_Min</th>\n",
       "      <th>Four_Day_Mean</th>\n",
       "      <th>Day3_Day4_Mean</th>\n",
       "      <th>Day3_Day4_Min</th>\n",
       "    </tr>\n",
       "  </thead>\n",
       "  <tbody>\n",
       "    <tr>\n",
       "      <th>2</th>\n",
       "      <td>T001</td>\n",
       "      <td>iWatch_HR</td>\n",
       "      <td>NaN</td>\n",
       "      <td>NaN</td>\n",
       "      <td>NaN</td>\n",
       "      <td>NaN</td>\n",
       "      <td>NaN</td>\n",
       "      <td>NaN</td>\n",
       "      <td>NaN</td>\n",
       "      <td>NaN</td>\n",
       "    </tr>\n",
       "    <tr>\n",
       "      <th>3</th>\n",
       "      <td>T001</td>\n",
       "      <td>PP</td>\n",
       "      <td>-5.526786</td>\n",
       "      <td>-5.772137</td>\n",
       "      <td>-5.578108</td>\n",
       "      <td>-5.532394</td>\n",
       "      <td>-5.772137</td>\n",
       "      <td>-5.602357</td>\n",
       "      <td>-5.555251</td>\n",
       "      <td>-5.578108</td>\n",
       "    </tr>\n",
       "    <tr>\n",
       "      <th>10</th>\n",
       "      <td>T003</td>\n",
       "      <td>iWatch_HR</td>\n",
       "      <td>4.277996</td>\n",
       "      <td>4.388172</td>\n",
       "      <td>4.200830</td>\n",
       "      <td>NaN</td>\n",
       "      <td>4.200830</td>\n",
       "      <td>4.288999</td>\n",
       "      <td>4.200830</td>\n",
       "      <td>4.200830</td>\n",
       "    </tr>\n",
       "    <tr>\n",
       "      <th>11</th>\n",
       "      <td>T003</td>\n",
       "      <td>PP</td>\n",
       "      <td>-5.469680</td>\n",
       "      <td>-5.384378</td>\n",
       "      <td>-5.513176</td>\n",
       "      <td>-5.576488</td>\n",
       "      <td>-5.576488</td>\n",
       "      <td>-5.485930</td>\n",
       "      <td>-5.544832</td>\n",
       "      <td>-5.576488</td>\n",
       "    </tr>\n",
       "    <tr>\n",
       "      <th>18</th>\n",
       "      <td>T005</td>\n",
       "      <td>iWatch_HR</td>\n",
       "      <td>NaN</td>\n",
       "      <td>4.353730</td>\n",
       "      <td>4.356851</td>\n",
       "      <td>4.474037</td>\n",
       "      <td>4.353730</td>\n",
       "      <td>4.394873</td>\n",
       "      <td>4.415444</td>\n",
       "      <td>4.356851</td>\n",
       "    </tr>\n",
       "  </tbody>\n",
       "</table>\n",
       "</div>"
      ],
      "text/plain": [
       "   Participant_ID     Signal      Day1      Day2      Day3      Day4  \\\n",
       "2            T001  iWatch_HR       NaN       NaN       NaN       NaN   \n",
       "3            T001         PP -5.526786 -5.772137 -5.578108 -5.532394   \n",
       "10           T003  iWatch_HR  4.277996  4.388172  4.200830       NaN   \n",
       "11           T003         PP -5.469680 -5.384378 -5.513176 -5.576488   \n",
       "18           T005  iWatch_HR       NaN  4.353730  4.356851  4.474037   \n",
       "\n",
       "    Four_Day_Min  Four_Day_Mean  Day3_Day4_Mean  Day3_Day4_Min  \n",
       "2            NaN            NaN             NaN            NaN  \n",
       "3      -5.772137      -5.602357       -5.555251      -5.578108  \n",
       "10      4.200830       4.288999        4.200830       4.200830  \n",
       "11     -5.576488      -5.485930       -5.544832      -5.576488  \n",
       "18      4.353730       4.394873        4.415444       4.356851  "
      ]
     },
     "execution_count": 37,
     "metadata": {},
     "output_type": "execute_result"
    }
   ],
   "source": [
    "rb_mean_df = rb_mean_df[(rb_mean_df.Treatment.isin(['RB'])) & (rb_mean_df.Signal.isin(['iWatch_HR', 'PP']))]\n",
    "rb_mean_df = rb_mean_df[['Participant_ID', 'Signal', 'Day1', 'Day2', 'Day3', 'Day4', 'Four_Day_Min', 'Four_Day_Mean', 'Day3_Day4_Mean', 'Day3_Day4_Min']]\n",
    "rb_mean_df.head()"
   ]
  },
  {
   "cell_type": "code",
   "execution_count": 38,
   "metadata": {},
   "outputs": [],
   "source": [
    "# rb_col = 'Four_Day_Mean'   # 'Day3_Day4_Mean', 'Day3_Day4_Min', 'Four_Day_Min', 'Four_Day_Mean'\n",
    "\n",
    "# col_names = {\n",
    "#     'Participant_ID': 'Subject',\n",
    "#     'PP': 'Perinasal_RB',\n",
    "#     'iWatch_HR': 'Heart_RB',\n",
    "# #     'BR': 'Breathing_RB_Mean'\n",
    "# }\n",
    "\n",
    "\n",
    "\n",
    "# rb_mean_long_df = rb_mean_df.copy().pivot(['Participant_ID'], columns='Signal', values=rb_col).reset_index().rename_axis(None, axis=1)\n",
    "# rb_mean_long_df['Heart_RB'] = np.exp(rb_mean_long_df['iWatch_HR'])\n",
    "# rb_mean_long_df.rename(columns = col_names, inplace=True)\n",
    "# rb_mean_long_df.dropna(inplace=True)\n",
    "# # rb_mean_long_df['Perinasal_RB_Log'] = np.log(rb_mean_long_df['Perinasal_RB'])\n",
    "# # rb_mean_long_df.drop('Perinasal_RB', axis=1, inplace=True)\n",
    "# rb_mean_long_df.drop('Heart_Log_RB', axis=1, inplace=True)\n",
    "# rb_mean_long_df.head()"
   ]
  },
  {
   "cell_type": "code",
   "execution_count": 39,
   "metadata": {},
   "outputs": [],
   "source": [
    "final_rd_df = pd.DataFrame()\n",
    "\n",
    "for rb_col in ['Day1', 'Day2', 'Day3', 'Day4', 'Day3_Day4_Mean', 'Day3_Day4_Min', 'Four_Day_Min', 'Four_Day_Mean']:\n",
    "    rb_mean_long_df = rb_mean_df.copy().pivot(['Participant_ID'], columns='Signal', values=rb_col).reset_index().rename_axis(None, axis=1)\n",
    "    rb_mean_long_df['HR_RB_Mean'] = np.exp(rb_mean_long_df['iWatch_HR'])\n",
    "    rb_mean_long_df['Breathing_RB'] = 0 \n",
    "    rb_mean_long_df['Treatment'] = rb_col if rb_col not in ['Day1', 'Day2', 'Day3', 'Day4'] else 'Corresponding_Day_RB'\n",
    "    \n",
    "    final_rd_df = final_rd_df.append(rb_mean_long_df)\n",
    "   \n",
    "    \n",
    "final_rd_df.rename(columns={\n",
    "    'Participant_ID': 'Subject',\n",
    "    'PP': 'PP_RB_Mean',\n",
    "    'Breathing_RB': 'BR_RB_Mean',\n",
    "}, inplace=True)\n",
    "\n",
    "\n",
    "final_rd_df.dropna(inplace=True)\n",
    "final_rd_df['Subject_Txx'] = final_rd_df['Subject'] \n",
    "final_rd_df['Subject'] = final_rd_df.apply(lambda row : int(row['Subject'][1:]), axis = 1)\n",
    "\n",
    "\n",
    "final_rd_df\n",
    "final_rd_df.to_csv(data_dir + 'rb_data.csv', sep=',')"
   ]
  },
  {
   "cell_type": "code",
   "execution_count": 40,
   "metadata": {},
   "outputs": [
    {
     "name": "stderr",
     "output_type": "stream",
     "text": [
      "/Users/shailazaman/opt/anaconda3/lib/python3.7/site-packages/ipykernel_launcher.py:3: SettingWithCopyWarning: \n",
      "A value is trying to be set on a copy of a slice from a DataFrame.\n",
      "Try using .loc[row_indexer,col_indexer] = value instead\n",
      "\n",
      "See the caveats in the documentation: https://pandas.pydata.org/pandas-docs/stable/user_guide/indexing.html#returning-a-view-versus-a-copy\n",
      "  This is separate from the ipykernel package so we can avoid doing imports until\n",
      "/Users/shailazaman/opt/anaconda3/lib/python3.7/site-packages/pandas/core/frame.py:4913: SettingWithCopyWarning: \n",
      "A value is trying to be set on a copy of a slice from a DataFrame\n",
      "\n",
      "See the caveats in the documentation: https://pandas.pydata.org/pandas-docs/stable/user_guide/indexing.html#returning-a-view-versus-a-copy\n",
      "  errors=errors,\n"
     ]
    },
    {
     "data": {
      "text/html": [
       "<div>\n",
       "<style scoped>\n",
       "    .dataframe tbody tr th:only-of-type {\n",
       "        vertical-align: middle;\n",
       "    }\n",
       "\n",
       "    .dataframe tbody tr th {\n",
       "        vertical-align: top;\n",
       "    }\n",
       "\n",
       "    .dataframe thead th {\n",
       "        text-align: right;\n",
       "    }\n",
       "</style>\n",
       "<table border=\"1\" class=\"dataframe\">\n",
       "  <thead>\n",
       "    <tr style=\"text-align: right;\">\n",
       "      <th></th>\n",
       "      <th>Subject</th>\n",
       "      <th>PP_RB_Mean</th>\n",
       "      <th>iWatch_HR</th>\n",
       "      <th>HR_RB_Mean</th>\n",
       "      <th>BR_RB_Mean</th>\n",
       "      <th>Subject_Txx</th>\n",
       "    </tr>\n",
       "  </thead>\n",
       "  <tbody>\n",
       "    <tr>\n",
       "      <th>1</th>\n",
       "      <td>T003</td>\n",
       "      <td>-5.485930</td>\n",
       "      <td>4.288999</td>\n",
       "      <td>72.893475</td>\n",
       "      <td>0</td>\n",
       "      <td>T003</td>\n",
       "    </tr>\n",
       "    <tr>\n",
       "      <th>2</th>\n",
       "      <td>T005</td>\n",
       "      <td>-5.847930</td>\n",
       "      <td>4.394873</td>\n",
       "      <td>81.034325</td>\n",
       "      <td>0</td>\n",
       "      <td>T005</td>\n",
       "    </tr>\n",
       "    <tr>\n",
       "      <th>3</th>\n",
       "      <td>T007</td>\n",
       "      <td>-5.844810</td>\n",
       "      <td>4.336591</td>\n",
       "      <td>76.446463</td>\n",
       "      <td>0</td>\n",
       "      <td>T007</td>\n",
       "    </tr>\n",
       "    <tr>\n",
       "      <th>4</th>\n",
       "      <td>T009</td>\n",
       "      <td>-5.817429</td>\n",
       "      <td>4.465042</td>\n",
       "      <td>86.924688</td>\n",
       "      <td>0</td>\n",
       "      <td>T009</td>\n",
       "    </tr>\n",
       "    <tr>\n",
       "      <th>5</th>\n",
       "      <td>T011</td>\n",
       "      <td>-5.809303</td>\n",
       "      <td>4.172162</td>\n",
       "      <td>64.855539</td>\n",
       "      <td>0</td>\n",
       "      <td>T011</td>\n",
       "    </tr>\n",
       "    <tr>\n",
       "      <th>6</th>\n",
       "      <td>T013</td>\n",
       "      <td>-5.600590</td>\n",
       "      <td>4.290896</td>\n",
       "      <td>73.031872</td>\n",
       "      <td>0</td>\n",
       "      <td>T013</td>\n",
       "    </tr>\n",
       "    <tr>\n",
       "      <th>7</th>\n",
       "      <td>T015</td>\n",
       "      <td>-5.437464</td>\n",
       "      <td>4.431051</td>\n",
       "      <td>84.019697</td>\n",
       "      <td>0</td>\n",
       "      <td>T015</td>\n",
       "    </tr>\n",
       "    <tr>\n",
       "      <th>8</th>\n",
       "      <td>T017</td>\n",
       "      <td>-5.634446</td>\n",
       "      <td>4.364426</td>\n",
       "      <td>78.604242</td>\n",
       "      <td>0</td>\n",
       "      <td>T017</td>\n",
       "    </tr>\n",
       "    <tr>\n",
       "      <th>9</th>\n",
       "      <td>T019</td>\n",
       "      <td>-4.687683</td>\n",
       "      <td>4.174871</td>\n",
       "      <td>65.031467</td>\n",
       "      <td>0</td>\n",
       "      <td>T019</td>\n",
       "    </tr>\n",
       "  </tbody>\n",
       "</table>\n",
       "</div>"
      ],
      "text/plain": [
       "  Subject  PP_RB_Mean  iWatch_HR  HR_RB_Mean  BR_RB_Mean Subject_Txx\n",
       "1    T003   -5.485930   4.288999   72.893475           0        T003\n",
       "2    T005   -5.847930   4.394873   81.034325           0        T005\n",
       "3    T007   -5.844810   4.336591   76.446463           0        T007\n",
       "4    T009   -5.817429   4.465042   86.924688           0        T009\n",
       "5    T011   -5.809303   4.172162   64.855539           0        T011\n",
       "6    T013   -5.600590   4.290896   73.031872           0        T013\n",
       "7    T015   -5.437464   4.431051   84.019697           0        T015\n",
       "8    T017   -5.634446   4.364426   78.604242           0        T017\n",
       "9    T019   -4.687683   4.174871   65.031467           0        T019"
      ]
     },
     "execution_count": 40,
     "metadata": {},
     "output_type": "execute_result"
    }
   ],
   "source": [
    "# 'Day3_Day4_Mean', 'Day3_Day4_Min', 'Four_Day_Min', 'Four_Day_Mean', Corresponding_Day_RB\n",
    "final_rd_long_df = final_rd_df[final_rd_df.Treatment=='Four_Day_Mean']\n",
    "final_rd_long_df['Subject'] = final_rd_long_df['Subject_Txx']\n",
    "\n",
    "final_rd_long_df.drop('Treatment', axis=1, inplace=True)\n",
    "final_rd_long_df"
   ]
  },
  {
   "cell_type": "code",
   "execution_count": null,
   "metadata": {},
   "outputs": [],
   "source": [
    "\n",
    "\n",
    "\n",
    "\n"
   ]
  },
  {
   "cell_type": "code",
   "execution_count": 41,
   "metadata": {},
   "outputs": [
    {
     "name": "stdout",
     "output_type": "stream",
     "text": [
      "8\n",
      "(230202, 22)\n",
      "(230202, 22)\n"
     ]
    }
   ],
   "source": [
    "final_df = final_df.merge(final_rd_long_df, on=['Subject'], how='left')\n",
    "\n",
    "print(len(final_df.Subject.unique()))\n",
    "print(final_df.shape)\n",
    "final_df.drop_duplicates(inplace = True)\n",
    "print(final_df.shape)"
   ]
  },
  {
   "cell_type": "code",
   "execution_count": 42,
   "metadata": {},
   "outputs": [
    {
     "data": {
      "text/html": [
       "<div>\n",
       "<style scoped>\n",
       "    .dataframe tbody tr th:only-of-type {\n",
       "        vertical-align: middle;\n",
       "    }\n",
       "\n",
       "    .dataframe tbody tr th {\n",
       "        vertical-align: top;\n",
       "    }\n",
       "\n",
       "    .dataframe thead th {\n",
       "        text-align: right;\n",
       "    }\n",
       "</style>\n",
       "<table border=\"1\" class=\"dataframe\">\n",
       "  <thead>\n",
       "    <tr style=\"text-align: right;\">\n",
       "      <th></th>\n",
       "      <th>Subject</th>\n",
       "      <th>Day</th>\n",
       "      <th>Treatment</th>\n",
       "      <th>TreatmentTime</th>\n",
       "      <th>Perinasal</th>\n",
       "      <th>Mental Demand</th>\n",
       "      <th>Physical Demand</th>\n",
       "      <th>Temporal Demand</th>\n",
       "      <th>Performance</th>\n",
       "      <th>Effort</th>\n",
       "      <th>...</th>\n",
       "      <th>Gender</th>\n",
       "      <th>Age</th>\n",
       "      <th>Heart_ffill</th>\n",
       "      <th>Heart_interpolate_poly</th>\n",
       "      <th>Heart_interpolate</th>\n",
       "      <th>PP_RB_Mean</th>\n",
       "      <th>iWatch_HR</th>\n",
       "      <th>HR_RB_Mean</th>\n",
       "      <th>BR_RB_Mean</th>\n",
       "      <th>Subject_Txx</th>\n",
       "    </tr>\n",
       "  </thead>\n",
       "  <tbody>\n",
       "    <tr>\n",
       "      <th>0</th>\n",
       "      <td>T005</td>\n",
       "      <td>Day1</td>\n",
       "      <td>Day1_RB</td>\n",
       "      <td>0</td>\n",
       "      <td>0.003285</td>\n",
       "      <td>14</td>\n",
       "      <td>5</td>\n",
       "      <td>12</td>\n",
       "      <td>12</td>\n",
       "      <td>15</td>\n",
       "      <td>...</td>\n",
       "      <td>Male</td>\n",
       "      <td>35.0</td>\n",
       "      <td>71.171804</td>\n",
       "      <td>64.378670</td>\n",
       "      <td>64.378670</td>\n",
       "      <td>-5.84793</td>\n",
       "      <td>4.394873</td>\n",
       "      <td>81.034325</td>\n",
       "      <td>0</td>\n",
       "      <td>T005</td>\n",
       "    </tr>\n",
       "    <tr>\n",
       "      <th>1</th>\n",
       "      <td>T005</td>\n",
       "      <td>Day1</td>\n",
       "      <td>Day1_RB</td>\n",
       "      <td>1</td>\n",
       "      <td>0.003266</td>\n",
       "      <td>14</td>\n",
       "      <td>5</td>\n",
       "      <td>12</td>\n",
       "      <td>12</td>\n",
       "      <td>15</td>\n",
       "      <td>...</td>\n",
       "      <td>Male</td>\n",
       "      <td>35.0</td>\n",
       "      <td>71.171804</td>\n",
       "      <td>64.378149</td>\n",
       "      <td>64.378149</td>\n",
       "      <td>-5.84793</td>\n",
       "      <td>4.394873</td>\n",
       "      <td>81.034325</td>\n",
       "      <td>0</td>\n",
       "      <td>T005</td>\n",
       "    </tr>\n",
       "    <tr>\n",
       "      <th>2</th>\n",
       "      <td>T005</td>\n",
       "      <td>Day1</td>\n",
       "      <td>Day1_RB</td>\n",
       "      <td>2</td>\n",
       "      <td>0.002841</td>\n",
       "      <td>14</td>\n",
       "      <td>5</td>\n",
       "      <td>12</td>\n",
       "      <td>12</td>\n",
       "      <td>15</td>\n",
       "      <td>...</td>\n",
       "      <td>Male</td>\n",
       "      <td>35.0</td>\n",
       "      <td>71.171804</td>\n",
       "      <td>64.377627</td>\n",
       "      <td>64.377627</td>\n",
       "      <td>-5.84793</td>\n",
       "      <td>4.394873</td>\n",
       "      <td>81.034325</td>\n",
       "      <td>0</td>\n",
       "      <td>T005</td>\n",
       "    </tr>\n",
       "    <tr>\n",
       "      <th>3</th>\n",
       "      <td>T005</td>\n",
       "      <td>Day1</td>\n",
       "      <td>Day1_RB</td>\n",
       "      <td>3</td>\n",
       "      <td>0.002557</td>\n",
       "      <td>14</td>\n",
       "      <td>5</td>\n",
       "      <td>12</td>\n",
       "      <td>12</td>\n",
       "      <td>15</td>\n",
       "      <td>...</td>\n",
       "      <td>Male</td>\n",
       "      <td>35.0</td>\n",
       "      <td>71.171804</td>\n",
       "      <td>64.377106</td>\n",
       "      <td>64.377106</td>\n",
       "      <td>-5.84793</td>\n",
       "      <td>4.394873</td>\n",
       "      <td>81.034325</td>\n",
       "      <td>0</td>\n",
       "      <td>T005</td>\n",
       "    </tr>\n",
       "    <tr>\n",
       "      <th>4</th>\n",
       "      <td>T005</td>\n",
       "      <td>Day1</td>\n",
       "      <td>Day1_RB</td>\n",
       "      <td>4</td>\n",
       "      <td>0.002518</td>\n",
       "      <td>14</td>\n",
       "      <td>5</td>\n",
       "      <td>12</td>\n",
       "      <td>12</td>\n",
       "      <td>15</td>\n",
       "      <td>...</td>\n",
       "      <td>Male</td>\n",
       "      <td>35.0</td>\n",
       "      <td>71.171804</td>\n",
       "      <td>64.376585</td>\n",
       "      <td>64.376585</td>\n",
       "      <td>-5.84793</td>\n",
       "      <td>4.394873</td>\n",
       "      <td>81.034325</td>\n",
       "      <td>0</td>\n",
       "      <td>T005</td>\n",
       "    </tr>\n",
       "  </tbody>\n",
       "</table>\n",
       "<p>5 rows × 22 columns</p>\n",
       "</div>"
      ],
      "text/plain": [
       "  Subject   Day Treatment  TreatmentTime  Perinasal  Mental Demand  \\\n",
       "0    T005  Day1   Day1_RB              0   0.003285             14   \n",
       "1    T005  Day1   Day1_RB              1   0.003266             14   \n",
       "2    T005  Day1   Day1_RB              2   0.002841             14   \n",
       "3    T005  Day1   Day1_RB              3   0.002557             14   \n",
       "4    T005  Day1   Day1_RB              4   0.002518             14   \n",
       "\n",
       "   Physical Demand  Temporal Demand  Performance  Effort  ...  Gender   Age  \\\n",
       "0                5               12           12      15  ...    Male  35.0   \n",
       "1                5               12           12      15  ...    Male  35.0   \n",
       "2                5               12           12      15  ...    Male  35.0   \n",
       "3                5               12           12      15  ...    Male  35.0   \n",
       "4                5               12           12      15  ...    Male  35.0   \n",
       "\n",
       "  Heart_ffill  Heart_interpolate_poly  Heart_interpolate  PP_RB_Mean  \\\n",
       "0   71.171804               64.378670          64.378670    -5.84793   \n",
       "1   71.171804               64.378149          64.378149    -5.84793   \n",
       "2   71.171804               64.377627          64.377627    -5.84793   \n",
       "3   71.171804               64.377106          64.377106    -5.84793   \n",
       "4   71.171804               64.376585          64.376585    -5.84793   \n",
       "\n",
       "   iWatch_HR  HR_RB_Mean  BR_RB_Mean  Subject_Txx  \n",
       "0   4.394873   81.034325           0         T005  \n",
       "1   4.394873   81.034325           0         T005  \n",
       "2   4.394873   81.034325           0         T005  \n",
       "3   4.394873   81.034325           0         T005  \n",
       "4   4.394873   81.034325           0         T005  \n",
       "\n",
       "[5 rows x 22 columns]"
      ]
     },
     "execution_count": 42,
     "metadata": {},
     "output_type": "execute_result"
    }
   ],
   "source": [
    "final_df.head()"
   ]
  },
  {
   "cell_type": "code",
   "execution_count": null,
   "metadata": {},
   "outputs": [],
   "source": [
    "\n",
    "\n",
    "\n",
    "\n",
    "\n",
    "\n",
    "\n",
    "\n"
   ]
  },
  {
   "cell_type": "code",
   "execution_count": 43,
   "metadata": {},
   "outputs": [
    {
     "data": {
      "text/html": [
       "<div>\n",
       "<style scoped>\n",
       "    .dataframe tbody tr th:only-of-type {\n",
       "        vertical-align: middle;\n",
       "    }\n",
       "\n",
       "    .dataframe tbody tr th {\n",
       "        vertical-align: top;\n",
       "    }\n",
       "\n",
       "    .dataframe thead th {\n",
       "        text-align: right;\n",
       "    }\n",
       "</style>\n",
       "<table border=\"1\" class=\"dataframe\">\n",
       "  <thead>\n",
       "    <tr style=\"text-align: right;\">\n",
       "      <th></th>\n",
       "      <th>Subject</th>\n",
       "      <th>Day</th>\n",
       "      <th>Treatment</th>\n",
       "      <th>TreatmentTime</th>\n",
       "      <th>Perinasal</th>\n",
       "      <th>Mental Demand</th>\n",
       "      <th>Physical Demand</th>\n",
       "      <th>Temporal Demand</th>\n",
       "      <th>Performance</th>\n",
       "      <th>Effort</th>\n",
       "      <th>...</th>\n",
       "      <th>Gender</th>\n",
       "      <th>Age</th>\n",
       "      <th>Heart_ffill</th>\n",
       "      <th>Heart_interpolate_poly</th>\n",
       "      <th>Heart_interpolate</th>\n",
       "      <th>PP_RB_Mean</th>\n",
       "      <th>iWatch_HR</th>\n",
       "      <th>HR_RB_Mean</th>\n",
       "      <th>BR_RB_Mean</th>\n",
       "      <th>Subject_Txx</th>\n",
       "    </tr>\n",
       "  </thead>\n",
       "  <tbody>\n",
       "    <tr>\n",
       "      <th>0</th>\n",
       "      <td>5</td>\n",
       "      <td>Day1</td>\n",
       "      <td>Day1_RB</td>\n",
       "      <td>0</td>\n",
       "      <td>0.003285</td>\n",
       "      <td>14</td>\n",
       "      <td>5</td>\n",
       "      <td>12</td>\n",
       "      <td>12</td>\n",
       "      <td>15</td>\n",
       "      <td>...</td>\n",
       "      <td>Male</td>\n",
       "      <td>35.0</td>\n",
       "      <td>71.171804</td>\n",
       "      <td>64.378670</td>\n",
       "      <td>64.378670</td>\n",
       "      <td>-5.84793</td>\n",
       "      <td>4.394873</td>\n",
       "      <td>81.034325</td>\n",
       "      <td>0</td>\n",
       "      <td>T005</td>\n",
       "    </tr>\n",
       "    <tr>\n",
       "      <th>1</th>\n",
       "      <td>5</td>\n",
       "      <td>Day1</td>\n",
       "      <td>Day1_RB</td>\n",
       "      <td>1</td>\n",
       "      <td>0.003266</td>\n",
       "      <td>14</td>\n",
       "      <td>5</td>\n",
       "      <td>12</td>\n",
       "      <td>12</td>\n",
       "      <td>15</td>\n",
       "      <td>...</td>\n",
       "      <td>Male</td>\n",
       "      <td>35.0</td>\n",
       "      <td>71.171804</td>\n",
       "      <td>64.378149</td>\n",
       "      <td>64.378149</td>\n",
       "      <td>-5.84793</td>\n",
       "      <td>4.394873</td>\n",
       "      <td>81.034325</td>\n",
       "      <td>0</td>\n",
       "      <td>T005</td>\n",
       "    </tr>\n",
       "    <tr>\n",
       "      <th>2</th>\n",
       "      <td>5</td>\n",
       "      <td>Day1</td>\n",
       "      <td>Day1_RB</td>\n",
       "      <td>2</td>\n",
       "      <td>0.002841</td>\n",
       "      <td>14</td>\n",
       "      <td>5</td>\n",
       "      <td>12</td>\n",
       "      <td>12</td>\n",
       "      <td>15</td>\n",
       "      <td>...</td>\n",
       "      <td>Male</td>\n",
       "      <td>35.0</td>\n",
       "      <td>71.171804</td>\n",
       "      <td>64.377627</td>\n",
       "      <td>64.377627</td>\n",
       "      <td>-5.84793</td>\n",
       "      <td>4.394873</td>\n",
       "      <td>81.034325</td>\n",
       "      <td>0</td>\n",
       "      <td>T005</td>\n",
       "    </tr>\n",
       "    <tr>\n",
       "      <th>3</th>\n",
       "      <td>5</td>\n",
       "      <td>Day1</td>\n",
       "      <td>Day1_RB</td>\n",
       "      <td>3</td>\n",
       "      <td>0.002557</td>\n",
       "      <td>14</td>\n",
       "      <td>5</td>\n",
       "      <td>12</td>\n",
       "      <td>12</td>\n",
       "      <td>15</td>\n",
       "      <td>...</td>\n",
       "      <td>Male</td>\n",
       "      <td>35.0</td>\n",
       "      <td>71.171804</td>\n",
       "      <td>64.377106</td>\n",
       "      <td>64.377106</td>\n",
       "      <td>-5.84793</td>\n",
       "      <td>4.394873</td>\n",
       "      <td>81.034325</td>\n",
       "      <td>0</td>\n",
       "      <td>T005</td>\n",
       "    </tr>\n",
       "    <tr>\n",
       "      <th>4</th>\n",
       "      <td>5</td>\n",
       "      <td>Day1</td>\n",
       "      <td>Day1_RB</td>\n",
       "      <td>4</td>\n",
       "      <td>0.002518</td>\n",
       "      <td>14</td>\n",
       "      <td>5</td>\n",
       "      <td>12</td>\n",
       "      <td>12</td>\n",
       "      <td>15</td>\n",
       "      <td>...</td>\n",
       "      <td>Male</td>\n",
       "      <td>35.0</td>\n",
       "      <td>71.171804</td>\n",
       "      <td>64.376585</td>\n",
       "      <td>64.376585</td>\n",
       "      <td>-5.84793</td>\n",
       "      <td>4.394873</td>\n",
       "      <td>81.034325</td>\n",
       "      <td>0</td>\n",
       "      <td>T005</td>\n",
       "    </tr>\n",
       "  </tbody>\n",
       "</table>\n",
       "<p>5 rows × 22 columns</p>\n",
       "</div>"
      ],
      "text/plain": [
       "   Subject   Day Treatment  TreatmentTime  Perinasal  Mental Demand  \\\n",
       "0        5  Day1   Day1_RB              0   0.003285             14   \n",
       "1        5  Day1   Day1_RB              1   0.003266             14   \n",
       "2        5  Day1   Day1_RB              2   0.002841             14   \n",
       "3        5  Day1   Day1_RB              3   0.002557             14   \n",
       "4        5  Day1   Day1_RB              4   0.002518             14   \n",
       "\n",
       "   Physical Demand  Temporal Demand  Performance  Effort  ...  Gender   Age  \\\n",
       "0                5               12           12      15  ...    Male  35.0   \n",
       "1                5               12           12      15  ...    Male  35.0   \n",
       "2                5               12           12      15  ...    Male  35.0   \n",
       "3                5               12           12      15  ...    Male  35.0   \n",
       "4                5               12           12      15  ...    Male  35.0   \n",
       "\n",
       "  Heart_ffill  Heart_interpolate_poly  Heart_interpolate  PP_RB_Mean  \\\n",
       "0   71.171804               64.378670          64.378670    -5.84793   \n",
       "1   71.171804               64.378149          64.378149    -5.84793   \n",
       "2   71.171804               64.377627          64.377627    -5.84793   \n",
       "3   71.171804               64.377106          64.377106    -5.84793   \n",
       "4   71.171804               64.376585          64.376585    -5.84793   \n",
       "\n",
       "   iWatch_HR  HR_RB_Mean  BR_RB_Mean  Subject_Txx  \n",
       "0   4.394873   81.034325           0         T005  \n",
       "1   4.394873   81.034325           0         T005  \n",
       "2   4.394873   81.034325           0         T005  \n",
       "3   4.394873   81.034325           0         T005  \n",
       "4   4.394873   81.034325           0         T005  \n",
       "\n",
       "[5 rows x 22 columns]"
      ]
     },
     "execution_count": 43,
     "metadata": {},
     "output_type": "execute_result"
    }
   ],
   "source": [
    "final_df['Subject'] = final_df.apply(lambda row : int(row['Subject'][1:]), axis = 1)\n",
    "final_df.head()"
   ]
  },
  {
   "cell_type": "code",
   "execution_count": 44,
   "metadata": {},
   "outputs": [
    {
     "data": {
      "text/plain": [
       "array([ 5,  7,  9, 11, 13, 15, 17, 19])"
      ]
     },
     "execution_count": 44,
     "metadata": {},
     "output_type": "execute_result"
    }
   ],
   "source": [
    "final_df.Subject.unique()"
   ]
  },
  {
   "cell_type": "code",
   "execution_count": 45,
   "metadata": {},
   "outputs": [
    {
     "data": {
      "text/plain": [
       "array(['Day1_RB', 'Day1_WS', 'Day2_RB', 'Day2_WS', 'Day3_RB', 'Day3_WS',\n",
       "       'Day4_RB', 'Day4_WS'], dtype=object)"
      ]
     },
     "execution_count": 45,
     "metadata": {},
     "output_type": "execute_result"
    }
   ],
   "source": [
    "final_df.Treatment.unique()"
   ]
  },
  {
   "cell_type": "code",
   "execution_count": 46,
   "metadata": {},
   "outputs": [],
   "source": [
    "final_df.rename(columns={\n",
    "    'PP_RB_Mean': 'Perinasal_RB_Log',\n",
    "    'HR_RB_Mean': 'Heart_RB',\n",
    "    'BR_RB_Mean': 'Breathing_RB',\n",
    "}, inplace=True)"
   ]
  },
  {
   "cell_type": "code",
   "execution_count": null,
   "metadata": {},
   "outputs": [],
   "source": [
    "\n",
    "\n",
    "\n",
    "\n"
   ]
  },
  {
   "cell_type": "code",
   "execution_count": 47,
   "metadata": {},
   "outputs": [],
   "source": [
    "# This is the final export\n",
    "# The feature_eng file will read this dataset and proceed next\n",
    "final_df.to_csv(data_dir + 'data_1.csv', sep=',', index=False)\n",
    "final_df.to_csv(data_dir + 'data_2.csv', sep=',', index=False)"
   ]
  },
  {
   "cell_type": "code",
   "execution_count": null,
   "metadata": {},
   "outputs": [],
   "source": [
    "\n",
    "\n",
    "\n",
    "\n",
    "\n",
    "\n",
    "\n",
    "\n",
    "\n",
    "\n"
   ]
  }
 ],
 "metadata": {
  "kernelspec": {
   "display_name": "Python 3 (ipykernel)",
   "language": "python",
   "name": "python3"
  },
  "language_info": {
   "codemirror_mode": {
    "name": "ipython",
    "version": 3
   },
   "file_extension": ".py",
   "mimetype": "text/x-python",
   "name": "python",
   "nbconvert_exporter": "python",
   "pygments_lexer": "ipython3",
   "version": "3.7.4"
  }
 },
 "nbformat": 4,
 "nbformat_minor": 4
}
