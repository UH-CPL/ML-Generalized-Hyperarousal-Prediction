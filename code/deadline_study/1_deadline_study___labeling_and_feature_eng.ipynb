{
 "cells": [
  {
   "cell_type": "markdown",
   "metadata": {},
   "source": [
    "----\n",
    "----\n",
    "# *** After getting BR - Follow SIM1 - Feature Engineering code file ***\n",
    "----\n",
    "----"
   ]
  },
  {
   "cell_type": "code",
   "execution_count": 1,
   "metadata": {},
   "outputs": [],
   "source": [
    "import pandas as pd\n",
    "import numpy as np\n",
    "\n",
    "from statistics import stdev\n",
    "from scipy.stats import mode\n",
    "\n",
    "from IPython.display import IFrame, display\n",
    "\n",
    "import matplotlib.pyplot as plt\n",
    "import seaborn as sns\n",
    "\n",
    "\n",
    "# from sklearn.model_selection import train_test_split, RandomizedSearchCV\n",
    "# from sklearn.ensemble import RandomForestClassifier\n",
    "# from sklearn.metrics import accuracy_score, f1_score, recall_score, precision_score, confusion_matrix, ConfusionMatrixDisplay\n",
    "\n",
    "\n",
    "\n",
    "%run ../all_studies/us_common_functions.ipynb\n",
    "\n",
    "\n",
    "\n",
    "\n",
    "\n",
    "\n",
    "#########################################\n",
    "window_size=10\n",
    "overlappping_window=False\n",
    "#########################################\n",
    "\n",
    "\n",
    "\n",
    "\n",
    "# data_dir = '../../data/'\n",
    "# fig_dir = '../../figure/'\n",
    "\n",
    "data_dir = '../../data/deadline_study/'\n",
    "fig_dir = '../../figure/deadline_study/'\n",
    "\n",
    "\n",
    "\n",
    "\n",
    "heart_cols = ['Heart_ffill', 'Heart_interpolate', 'Heart_interpolate_poly']\n",
    "heart_col = 'Heart_interpolate' # Interpolation data looks good\n",
    "\n",
    "\n",
    "\n",
    "\n"
   ]
  },
  {
   "cell_type": "code",
   "execution_count": 2,
   "metadata": {},
   "outputs": [
    {
     "data": {
      "text/html": [
       "<div>\n",
       "<style scoped>\n",
       "    .dataframe tbody tr th:only-of-type {\n",
       "        vertical-align: middle;\n",
       "    }\n",
       "\n",
       "    .dataframe tbody tr th {\n",
       "        vertical-align: top;\n",
       "    }\n",
       "\n",
       "    .dataframe thead th {\n",
       "        text-align: right;\n",
       "    }\n",
       "</style>\n",
       "<table border=\"1\" class=\"dataframe\">\n",
       "  <thead>\n",
       "    <tr style=\"text-align: right;\">\n",
       "      <th></th>\n",
       "      <th>Subject</th>\n",
       "      <th>Day</th>\n",
       "      <th>Treatment</th>\n",
       "      <th>TreatmentTime</th>\n",
       "      <th>Perinasal</th>\n",
       "      <th>Mental Demand</th>\n",
       "      <th>Physical Demand</th>\n",
       "      <th>Temporal Demand</th>\n",
       "      <th>Performance</th>\n",
       "      <th>Effort</th>\n",
       "      <th>Frustration</th>\n",
       "      <th>NASA Total Sum</th>\n",
       "      <th>Gender</th>\n",
       "      <th>Age</th>\n",
       "      <th>Heart_ffill</th>\n",
       "      <th>Heart_interpolate_poly</th>\n",
       "      <th>Heart_interpolate</th>\n",
       "      <th>Perinasal_RB_Log</th>\n",
       "      <th>iWatch_HR</th>\n",
       "      <th>Heart_RB</th>\n",
       "      <th>Breathing_RB</th>\n",
       "      <th>Subject_Txx</th>\n",
       "    </tr>\n",
       "  </thead>\n",
       "  <tbody>\n",
       "    <tr>\n",
       "      <th>0</th>\n",
       "      <td>5</td>\n",
       "      <td>Day1</td>\n",
       "      <td>Day1_RB</td>\n",
       "      <td>0</td>\n",
       "      <td>0.003285</td>\n",
       "      <td>14</td>\n",
       "      <td>5</td>\n",
       "      <td>12</td>\n",
       "      <td>12</td>\n",
       "      <td>15</td>\n",
       "      <td>5</td>\n",
       "      <td>63</td>\n",
       "      <td>Male</td>\n",
       "      <td>35.0</td>\n",
       "      <td>71.171804</td>\n",
       "      <td>64.378670</td>\n",
       "      <td>64.378670</td>\n",
       "      <td>-5.84793</td>\n",
       "      <td>4.394873</td>\n",
       "      <td>81.034325</td>\n",
       "      <td>0</td>\n",
       "      <td>T005</td>\n",
       "    </tr>\n",
       "    <tr>\n",
       "      <th>1</th>\n",
       "      <td>5</td>\n",
       "      <td>Day1</td>\n",
       "      <td>Day1_RB</td>\n",
       "      <td>1</td>\n",
       "      <td>0.003266</td>\n",
       "      <td>14</td>\n",
       "      <td>5</td>\n",
       "      <td>12</td>\n",
       "      <td>12</td>\n",
       "      <td>15</td>\n",
       "      <td>5</td>\n",
       "      <td>63</td>\n",
       "      <td>Male</td>\n",
       "      <td>35.0</td>\n",
       "      <td>71.171804</td>\n",
       "      <td>64.378149</td>\n",
       "      <td>64.378149</td>\n",
       "      <td>-5.84793</td>\n",
       "      <td>4.394873</td>\n",
       "      <td>81.034325</td>\n",
       "      <td>0</td>\n",
       "      <td>T005</td>\n",
       "    </tr>\n",
       "    <tr>\n",
       "      <th>2</th>\n",
       "      <td>5</td>\n",
       "      <td>Day1</td>\n",
       "      <td>Day1_RB</td>\n",
       "      <td>2</td>\n",
       "      <td>0.002841</td>\n",
       "      <td>14</td>\n",
       "      <td>5</td>\n",
       "      <td>12</td>\n",
       "      <td>12</td>\n",
       "      <td>15</td>\n",
       "      <td>5</td>\n",
       "      <td>63</td>\n",
       "      <td>Male</td>\n",
       "      <td>35.0</td>\n",
       "      <td>71.171804</td>\n",
       "      <td>64.377627</td>\n",
       "      <td>64.377627</td>\n",
       "      <td>-5.84793</td>\n",
       "      <td>4.394873</td>\n",
       "      <td>81.034325</td>\n",
       "      <td>0</td>\n",
       "      <td>T005</td>\n",
       "    </tr>\n",
       "    <tr>\n",
       "      <th>3</th>\n",
       "      <td>5</td>\n",
       "      <td>Day1</td>\n",
       "      <td>Day1_RB</td>\n",
       "      <td>3</td>\n",
       "      <td>0.002557</td>\n",
       "      <td>14</td>\n",
       "      <td>5</td>\n",
       "      <td>12</td>\n",
       "      <td>12</td>\n",
       "      <td>15</td>\n",
       "      <td>5</td>\n",
       "      <td>63</td>\n",
       "      <td>Male</td>\n",
       "      <td>35.0</td>\n",
       "      <td>71.171804</td>\n",
       "      <td>64.377106</td>\n",
       "      <td>64.377106</td>\n",
       "      <td>-5.84793</td>\n",
       "      <td>4.394873</td>\n",
       "      <td>81.034325</td>\n",
       "      <td>0</td>\n",
       "      <td>T005</td>\n",
       "    </tr>\n",
       "    <tr>\n",
       "      <th>4</th>\n",
       "      <td>5</td>\n",
       "      <td>Day1</td>\n",
       "      <td>Day1_RB</td>\n",
       "      <td>4</td>\n",
       "      <td>0.002518</td>\n",
       "      <td>14</td>\n",
       "      <td>5</td>\n",
       "      <td>12</td>\n",
       "      <td>12</td>\n",
       "      <td>15</td>\n",
       "      <td>5</td>\n",
       "      <td>63</td>\n",
       "      <td>Male</td>\n",
       "      <td>35.0</td>\n",
       "      <td>71.171804</td>\n",
       "      <td>64.376585</td>\n",
       "      <td>64.376585</td>\n",
       "      <td>-5.84793</td>\n",
       "      <td>4.394873</td>\n",
       "      <td>81.034325</td>\n",
       "      <td>0</td>\n",
       "      <td>T005</td>\n",
       "    </tr>\n",
       "  </tbody>\n",
       "</table>\n",
       "</div>"
      ],
      "text/plain": [
       "   Subject   Day Treatment  TreatmentTime  Perinasal  Mental Demand  \\\n",
       "0        5  Day1   Day1_RB              0   0.003285             14   \n",
       "1        5  Day1   Day1_RB              1   0.003266             14   \n",
       "2        5  Day1   Day1_RB              2   0.002841             14   \n",
       "3        5  Day1   Day1_RB              3   0.002557             14   \n",
       "4        5  Day1   Day1_RB              4   0.002518             14   \n",
       "\n",
       "   Physical Demand  Temporal Demand  Performance  Effort  Frustration  \\\n",
       "0                5               12           12      15            5   \n",
       "1                5               12           12      15            5   \n",
       "2                5               12           12      15            5   \n",
       "3                5               12           12      15            5   \n",
       "4                5               12           12      15            5   \n",
       "\n",
       "   NASA Total Sum Gender   Age  Heart_ffill  Heart_interpolate_poly  \\\n",
       "0              63   Male  35.0    71.171804               64.378670   \n",
       "1              63   Male  35.0    71.171804               64.378149   \n",
       "2              63   Male  35.0    71.171804               64.377627   \n",
       "3              63   Male  35.0    71.171804               64.377106   \n",
       "4              63   Male  35.0    71.171804               64.376585   \n",
       "\n",
       "   Heart_interpolate  Perinasal_RB_Log  iWatch_HR   Heart_RB  Breathing_RB  \\\n",
       "0          64.378670          -5.84793   4.394873  81.034325             0   \n",
       "1          64.378149          -5.84793   4.394873  81.034325             0   \n",
       "2          64.377627          -5.84793   4.394873  81.034325             0   \n",
       "3          64.377106          -5.84793   4.394873  81.034325             0   \n",
       "4          64.376585          -5.84793   4.394873  81.034325             0   \n",
       "\n",
       "  Subject_Txx  \n",
       "0        T005  \n",
       "1        T005  \n",
       "2        T005  \n",
       "3        T005  \n",
       "4        T005  "
      ]
     },
     "execution_count": 2,
     "metadata": {},
     "output_type": "execute_result"
    }
   ],
   "source": [
    "df = pd.read_csv(data_dir + 'data_2.csv')\n",
    "df.head()"
   ]
  },
  {
   "cell_type": "code",
   "execution_count": 3,
   "metadata": {},
   "outputs": [
    {
     "data": {
      "text/plain": [
       "Index(['Subject', 'Day', 'Treatment', 'TreatmentTime', 'Perinasal',\n",
       "       'Mental Demand', 'Physical Demand', 'Temporal Demand', 'Performance',\n",
       "       'Effort', 'Frustration', 'NASA Total Sum', 'Gender', 'Age',\n",
       "       'Heart_ffill', 'Heart_interpolate_poly', 'Heart_interpolate',\n",
       "       'Perinasal_RB_Log', 'iWatch_HR', 'Heart_RB', 'Breathing_RB',\n",
       "       'Subject_Txx'],\n",
       "      dtype='object')"
      ]
     },
     "execution_count": 3,
     "metadata": {},
     "output_type": "execute_result"
    }
   ],
   "source": [
    "df.columns"
   ]
  },
  {
   "cell_type": "code",
   "execution_count": 4,
   "metadata": {},
   "outputs": [
    {
     "name": "stdout",
     "output_type": "stream",
     "text": [
      "Total Subjects: 8\n",
      "[ 5  7  9 11 13 15 17 19]\n"
     ]
    }
   ],
   "source": [
    "print('Total Subjects: ' + str(len(df.Subject.unique())))\n",
    "print(df.Subject.unique())"
   ]
  },
  {
   "cell_type": "code",
   "execution_count": 5,
   "metadata": {},
   "outputs": [
    {
     "data": {
      "text/plain": [
       "array(['Day1_RB', 'Day1_WS', 'Day2_RB', 'Day2_WS', 'Day3_RB', 'Day3_WS',\n",
       "       'Day4_RB', 'Day4_WS'], dtype=object)"
      ]
     },
     "execution_count": 5,
     "metadata": {},
     "output_type": "execute_result"
    }
   ],
   "source": [
    "df.Treatment.unique()"
   ]
  },
  {
   "cell_type": "code",
   "execution_count": null,
   "metadata": {},
   "outputs": [],
   "source": [
    "\n",
    "\n",
    "\n",
    "\n",
    "\n"
   ]
  },
  {
   "cell_type": "code",
   "execution_count": 6,
   "metadata": {},
   "outputs": [
    {
     "name": "stdout",
     "output_type": "stream",
     "text": [
      "Heart_ffill: 74.280088\n",
      "Heart_interpolate: 74.280088\n",
      "Heart_interpolate_poly: 74.280088\n"
     ]
    }
   ],
   "source": [
    "for col in heart_cols:\n",
    "    print('%s: %f' % (col, df[['Heart_ffill']].mean()))"
   ]
  },
  {
   "cell_type": "code",
   "execution_count": null,
   "metadata": {},
   "outputs": [],
   "source": [
    "\n",
    "\n",
    "\n",
    "\n",
    "\n"
   ]
  },
  {
   "cell_type": "markdown",
   "metadata": {},
   "source": [
    "----\n",
    "----\n",
    "# !!!! Breathing - BR !!!!\n",
    "----\n",
    "----"
   ]
  },
  {
   "cell_type": "code",
   "execution_count": 7,
   "metadata": {},
   "outputs": [],
   "source": [
    "df['Breathing'] = df[heart_col]\n",
    "df['Breathing_RB'] = df['Heart_RB']"
   ]
  },
  {
   "cell_type": "code",
   "execution_count": null,
   "metadata": {},
   "outputs": [],
   "source": [
    "\n",
    "\n",
    "\n",
    "\n",
    "\n",
    "\n",
    "\n"
   ]
  },
  {
   "cell_type": "markdown",
   "metadata": {},
   "source": [
    "# Creating csv for additional plots for paper -->"
   ]
  },
  {
   "cell_type": "code",
   "execution_count": 8,
   "metadata": {},
   "outputs": [
    {
     "name": "stdout",
     "output_type": "stream",
     "text": [
      "(230202, 25)\n",
      "(0, 25)\n"
     ]
    }
   ],
   "source": [
    "df['TimeElapsed'] = df.groupby(['Subject', 'Treatment']).cumcount()+1\n",
    "df.head()\n",
    "\n",
    "\n",
    "plot_df = df.copy()\n",
    "plot_df.to_csv(data_dir + 'data_2.1.csv', sep=',', index=False)\n",
    "\n",
    "\n",
    "\n",
    "\n",
    "\n",
    "plot_df['Perinasal_Log'] = np.log(plot_df['Perinasal'])\n",
    "\n",
    "\n",
    "def quality_control_phase1(df, col, validMin, validMax):\n",
    "    return df[(validMin <= df[col]) & (df[col] <= validMax)]\n",
    "\n",
    "print(plot_df.shape)\n",
    "\n",
    "for col in heart_cols:\n",
    "    plot_df = quality_control_phase1(plot_df, col, 40, 140)\n",
    "\n",
    "plot_df = quality_control_phase1(plot_df, 'Breathing', 4, 40)\n",
    "\n",
    "print(plot_df.shape)\n",
    "\n",
    "\n",
    "plot_df.to_csv(data_dir + 'data_2.2.csv', sep=',', index=False)"
   ]
  },
  {
   "cell_type": "code",
   "execution_count": null,
   "metadata": {},
   "outputs": [],
   "source": [
    "\n",
    "\n",
    "\n",
    "\n",
    "\n",
    "\n",
    "\n"
   ]
  },
  {
   "cell_type": "code",
   "execution_count": 9,
   "metadata": {},
   "outputs": [
    {
     "data": {
      "text/plain": [
       "Subject                   0\n",
       "Day                       0\n",
       "Treatment                 0\n",
       "TreatmentTime             0\n",
       "Perinasal                 0\n",
       "Mental Demand             0\n",
       "Physical Demand           0\n",
       "Temporal Demand           0\n",
       "Performance               0\n",
       "Effort                    0\n",
       "Frustration               0\n",
       "NASA Total Sum            0\n",
       "Gender                    0\n",
       "Age                       0\n",
       "Heart_ffill               0\n",
       "Heart_interpolate_poly    0\n",
       "Heart_interpolate         0\n",
       "Perinasal_RB_Log          0\n",
       "iWatch_HR                 0\n",
       "Heart_RB                  0\n",
       "Breathing_RB              0\n",
       "Subject_Txx               0\n",
       "Breathing                 0\n",
       "TimeElapsed               0\n",
       "dtype: int64"
      ]
     },
     "execution_count": 9,
     "metadata": {},
     "output_type": "execute_result"
    }
   ],
   "source": [
    "df.isnull().sum()"
   ]
  },
  {
   "cell_type": "code",
   "execution_count": 10,
   "metadata": {},
   "outputs": [],
   "source": [
    "# df.drop('Palm', axis=1, inplace=True)\n",
    "# df.isnull().sum()"
   ]
  },
  {
   "cell_type": "code",
   "execution_count": 11,
   "metadata": {},
   "outputs": [
    {
     "data": {
      "text/plain": [
       "array(['Day1_RB', 'Day1_WS', 'Day2_RB', 'Day2_WS', 'Day3_RB', 'Day3_WS',\n",
       "       'Day4_RB', 'Day4_WS'], dtype=object)"
      ]
     },
     "execution_count": 11,
     "metadata": {},
     "output_type": "execute_result"
    }
   ],
   "source": [
    "df.Treatment.unique()"
   ]
  },
  {
   "cell_type": "code",
   "execution_count": null,
   "metadata": {},
   "outputs": [],
   "source": [
    "\n",
    "\n",
    "\n",
    "\n",
    "\n",
    "\n",
    "\n",
    "\n",
    "\n",
    "\n"
   ]
  },
  {
   "cell_type": "code",
   "execution_count": 12,
   "metadata": {},
   "outputs": [
    {
     "name": "stdout",
     "output_type": "stream",
     "text": [
      "['Day1_RB' 'Day1_WS' 'Day2_RB' 'Day2_WS' 'Day3_RB' 'Day3_WS' 'Day4_RB'\n",
      " 'Day4_WS']\n",
      "(230202, 24)\n",
      "(223477, 24)\n",
      "['Day1_WS' 'Day2_WS' 'Day3_WS' 'Day4_WS']\n"
     ]
    }
   ],
   "source": [
    "print(df.Treatment.unique())\n",
    "print(df.shape)\n",
    "df = df.loc[df['Treatment'].str.contains('WS', case=False)]\n",
    "print(df.shape)\n",
    "print(df.Treatment.unique())"
   ]
  },
  {
   "cell_type": "code",
   "execution_count": 13,
   "metadata": {},
   "outputs": [
    {
     "data": {
      "text/plain": [
       "Subject                   0\n",
       "Day                       0\n",
       "Treatment                 0\n",
       "TreatmentTime             0\n",
       "Perinasal                 0\n",
       "Mental Demand             0\n",
       "Physical Demand           0\n",
       "Temporal Demand           0\n",
       "Performance               0\n",
       "Effort                    0\n",
       "Frustration               0\n",
       "NASA Total Sum            0\n",
       "Gender                    0\n",
       "Age                       0\n",
       "Heart_ffill               0\n",
       "Heart_interpolate_poly    0\n",
       "Heart_interpolate         0\n",
       "Perinasal_RB_Log          0\n",
       "iWatch_HR                 0\n",
       "Heart_RB                  0\n",
       "Breathing_RB              0\n",
       "Subject_Txx               0\n",
       "Breathing                 0\n",
       "TimeElapsed               0\n",
       "dtype: int64"
      ]
     },
     "execution_count": 13,
     "metadata": {},
     "output_type": "execute_result"
    }
   ],
   "source": [
    "df.isnull().sum()"
   ]
  },
  {
   "cell_type": "code",
   "execution_count": null,
   "metadata": {},
   "outputs": [],
   "source": [
    "\n",
    "\n",
    "\n",
    "\n",
    "\n"
   ]
  },
  {
   "cell_type": "code",
   "execution_count": 14,
   "metadata": {},
   "outputs": [
    {
     "name": "stdout",
     "output_type": "stream",
     "text": [
      "[0.0001300276540667, 0.0430817170300772]\n",
      "[57.6357245459173, 118.4512819978056]\n",
      "[57.6526769718853, 118.595008897403]\n",
      "[57.6357245459173, 118.4512819978056]\n",
      "[57.6357245459173, 118.4512819978056]\n"
     ]
    }
   ],
   "source": [
    "def get_range(df, col):\n",
    "    return [df[col].min(), df[col].max()]\n",
    "\n",
    "print(get_range(df, 'Perinasal'))\n",
    "print(get_range(df, 'Breathing'))\n",
    "\n",
    "for col in heart_cols:\n",
    "    print(get_range(df, col))\n",
    "\n"
   ]
  },
  {
   "cell_type": "code",
   "execution_count": 15,
   "metadata": {},
   "outputs": [],
   "source": [
    "# def quality_control_phase1(df, col, validMin, validMax):\n",
    "#     return df[(validMin <= df[col]) & (df[col] <= validMax)]\n",
    "\n",
    "# print(df.shape)\n",
    "# df = quality_control_phase1(df, 'Heart', 40, 140)\n",
    "# df = quality_control_phase1(df, 'Breathing', 4, 40)\n",
    "# print(df.shape)\n",
    "\n",
    "# print(get_range(df, 'Heart'))\n",
    "# print(get_range(df, 'Breathing'))"
   ]
  },
  {
   "cell_type": "code",
   "execution_count": null,
   "metadata": {},
   "outputs": [],
   "source": [
    "\n",
    "\n",
    "\n",
    "\n"
   ]
  },
  {
   "cell_type": "code",
   "execution_count": 16,
   "metadata": {},
   "outputs": [
    {
     "data": {
      "text/plain": [
       "256       0.004286\n",
       "257       0.004304\n",
       "258       0.004323\n",
       "259       0.004295\n",
       "260       0.004207\n",
       "            ...   \n",
       "230197    0.030295\n",
       "230198    0.029643\n",
       "230199    0.029193\n",
       "230200    0.028934\n",
       "230201    0.028823\n",
       "Name: Perinasal, Length: 223477, dtype: float64"
      ]
     },
     "execution_count": 16,
     "metadata": {},
     "output_type": "execute_result"
    }
   ],
   "source": [
    "df.Perinasal"
   ]
  },
  {
   "cell_type": "code",
   "execution_count": 17,
   "metadata": {},
   "outputs": [],
   "source": [
    "df['Perinasal_Log'] = np.log(df['Perinasal'])"
   ]
  },
  {
   "cell_type": "code",
   "execution_count": 18,
   "metadata": {},
   "outputs": [
    {
     "name": "stdout",
     "output_type": "stream",
     "text": [
      "Index(['Subject', 'Day', 'Treatment', 'TreatmentTime', 'Perinasal',\n",
      "       'Mental Demand', 'Physical Demand', 'Temporal Demand', 'Performance',\n",
      "       'Effort', 'Frustration', 'NASA Total Sum', 'Gender', 'Age',\n",
      "       'Heart_ffill', 'Heart_interpolate_poly', 'Heart_interpolate',\n",
      "       'Perinasal_RB_Log', 'iWatch_HR', 'Heart_RB', 'Breathing_RB',\n",
      "       'Subject_Txx', 'Breathing', 'TimeElapsed', 'Perinasal_Log'],\n",
      "      dtype='object')\n"
     ]
    }
   ],
   "source": [
    "print(df.columns)"
   ]
  },
  {
   "cell_type": "code",
   "execution_count": 19,
   "metadata": {},
   "outputs": [
    {
     "data": {
      "text/html": [
       "<div>\n",
       "<style scoped>\n",
       "    .dataframe tbody tr th:only-of-type {\n",
       "        vertical-align: middle;\n",
       "    }\n",
       "\n",
       "    .dataframe tbody tr th {\n",
       "        vertical-align: top;\n",
       "    }\n",
       "\n",
       "    .dataframe thead th {\n",
       "        text-align: right;\n",
       "    }\n",
       "</style>\n",
       "<table border=\"1\" class=\"dataframe\">\n",
       "  <thead>\n",
       "    <tr style=\"text-align: right;\">\n",
       "      <th></th>\n",
       "      <th>Subject</th>\n",
       "      <th>Day</th>\n",
       "      <th>Treatment</th>\n",
       "      <th>TreatmentTime</th>\n",
       "      <th>Perinasal</th>\n",
       "      <th>Mental Demand</th>\n",
       "      <th>Physical Demand</th>\n",
       "      <th>Temporal Demand</th>\n",
       "      <th>Performance</th>\n",
       "      <th>Effort</th>\n",
       "      <th>Frustration</th>\n",
       "      <th>NASA Total Sum</th>\n",
       "      <th>Gender</th>\n",
       "      <th>Age</th>\n",
       "      <th>Heart_ffill</th>\n",
       "      <th>Heart_interpolate_poly</th>\n",
       "      <th>Heart_interpolate</th>\n",
       "      <th>Perinasal_RB_Log</th>\n",
       "      <th>iWatch_HR</th>\n",
       "      <th>Heart_RB</th>\n",
       "      <th>Breathing_RB</th>\n",
       "      <th>Subject_Txx</th>\n",
       "      <th>Breathing</th>\n",
       "      <th>TimeElapsed</th>\n",
       "      <th>Perinasal_Log</th>\n",
       "    </tr>\n",
       "  </thead>\n",
       "  <tbody>\n",
       "    <tr>\n",
       "      <th>256</th>\n",
       "      <td>5</td>\n",
       "      <td>Day1</td>\n",
       "      <td>Day1_WS</td>\n",
       "      <td>0</td>\n",
       "      <td>0.004286</td>\n",
       "      <td>14</td>\n",
       "      <td>5</td>\n",
       "      <td>12</td>\n",
       "      <td>12</td>\n",
       "      <td>15</td>\n",
       "      <td>5</td>\n",
       "      <td>63</td>\n",
       "      <td>Male</td>\n",
       "      <td>35.0</td>\n",
       "      <td>71.171804</td>\n",
       "      <td>64.245195</td>\n",
       "      <td>64.245195</td>\n",
       "      <td>-5.84793</td>\n",
       "      <td>4.394873</td>\n",
       "      <td>81.034325</td>\n",
       "      <td>81.034325</td>\n",
       "      <td>T005</td>\n",
       "      <td>64.245195</td>\n",
       "      <td>1</td>\n",
       "      <td>-5.452373</td>\n",
       "    </tr>\n",
       "    <tr>\n",
       "      <th>257</th>\n",
       "      <td>5</td>\n",
       "      <td>Day1</td>\n",
       "      <td>Day1_WS</td>\n",
       "      <td>1</td>\n",
       "      <td>0.004304</td>\n",
       "      <td>14</td>\n",
       "      <td>5</td>\n",
       "      <td>12</td>\n",
       "      <td>12</td>\n",
       "      <td>15</td>\n",
       "      <td>5</td>\n",
       "      <td>63</td>\n",
       "      <td>Male</td>\n",
       "      <td>35.0</td>\n",
       "      <td>71.171804</td>\n",
       "      <td>64.244674</td>\n",
       "      <td>64.244674</td>\n",
       "      <td>-5.84793</td>\n",
       "      <td>4.394873</td>\n",
       "      <td>81.034325</td>\n",
       "      <td>81.034325</td>\n",
       "      <td>T005</td>\n",
       "      <td>64.244674</td>\n",
       "      <td>2</td>\n",
       "      <td>-5.448237</td>\n",
       "    </tr>\n",
       "    <tr>\n",
       "      <th>258</th>\n",
       "      <td>5</td>\n",
       "      <td>Day1</td>\n",
       "      <td>Day1_WS</td>\n",
       "      <td>2</td>\n",
       "      <td>0.004323</td>\n",
       "      <td>14</td>\n",
       "      <td>5</td>\n",
       "      <td>12</td>\n",
       "      <td>12</td>\n",
       "      <td>15</td>\n",
       "      <td>5</td>\n",
       "      <td>63</td>\n",
       "      <td>Male</td>\n",
       "      <td>35.0</td>\n",
       "      <td>71.171804</td>\n",
       "      <td>64.244153</td>\n",
       "      <td>64.244153</td>\n",
       "      <td>-5.84793</td>\n",
       "      <td>4.394873</td>\n",
       "      <td>81.034325</td>\n",
       "      <td>81.034325</td>\n",
       "      <td>T005</td>\n",
       "      <td>64.244153</td>\n",
       "      <td>3</td>\n",
       "      <td>-5.443881</td>\n",
       "    </tr>\n",
       "    <tr>\n",
       "      <th>259</th>\n",
       "      <td>5</td>\n",
       "      <td>Day1</td>\n",
       "      <td>Day1_WS</td>\n",
       "      <td>3</td>\n",
       "      <td>0.004295</td>\n",
       "      <td>14</td>\n",
       "      <td>5</td>\n",
       "      <td>12</td>\n",
       "      <td>12</td>\n",
       "      <td>15</td>\n",
       "      <td>5</td>\n",
       "      <td>63</td>\n",
       "      <td>Male</td>\n",
       "      <td>35.0</td>\n",
       "      <td>71.171804</td>\n",
       "      <td>64.243631</td>\n",
       "      <td>64.243631</td>\n",
       "      <td>-5.84793</td>\n",
       "      <td>4.394873</td>\n",
       "      <td>81.034325</td>\n",
       "      <td>81.034325</td>\n",
       "      <td>T005</td>\n",
       "      <td>64.243631</td>\n",
       "      <td>4</td>\n",
       "      <td>-5.450332</td>\n",
       "    </tr>\n",
       "    <tr>\n",
       "      <th>260</th>\n",
       "      <td>5</td>\n",
       "      <td>Day1</td>\n",
       "      <td>Day1_WS</td>\n",
       "      <td>4</td>\n",
       "      <td>0.004207</td>\n",
       "      <td>14</td>\n",
       "      <td>5</td>\n",
       "      <td>12</td>\n",
       "      <td>12</td>\n",
       "      <td>15</td>\n",
       "      <td>5</td>\n",
       "      <td>63</td>\n",
       "      <td>Male</td>\n",
       "      <td>35.0</td>\n",
       "      <td>71.171804</td>\n",
       "      <td>64.243110</td>\n",
       "      <td>64.243110</td>\n",
       "      <td>-5.84793</td>\n",
       "      <td>4.394873</td>\n",
       "      <td>81.034325</td>\n",
       "      <td>81.034325</td>\n",
       "      <td>T005</td>\n",
       "      <td>64.243110</td>\n",
       "      <td>5</td>\n",
       "      <td>-5.470944</td>\n",
       "    </tr>\n",
       "  </tbody>\n",
       "</table>\n",
       "</div>"
      ],
      "text/plain": [
       "     Subject   Day Treatment  TreatmentTime  Perinasal  Mental Demand  \\\n",
       "256        5  Day1   Day1_WS              0   0.004286             14   \n",
       "257        5  Day1   Day1_WS              1   0.004304             14   \n",
       "258        5  Day1   Day1_WS              2   0.004323             14   \n",
       "259        5  Day1   Day1_WS              3   0.004295             14   \n",
       "260        5  Day1   Day1_WS              4   0.004207             14   \n",
       "\n",
       "     Physical Demand  Temporal Demand  Performance  Effort  Frustration  \\\n",
       "256                5               12           12      15            5   \n",
       "257                5               12           12      15            5   \n",
       "258                5               12           12      15            5   \n",
       "259                5               12           12      15            5   \n",
       "260                5               12           12      15            5   \n",
       "\n",
       "     NASA Total Sum Gender   Age  Heart_ffill  Heart_interpolate_poly  \\\n",
       "256              63   Male  35.0    71.171804               64.245195   \n",
       "257              63   Male  35.0    71.171804               64.244674   \n",
       "258              63   Male  35.0    71.171804               64.244153   \n",
       "259              63   Male  35.0    71.171804               64.243631   \n",
       "260              63   Male  35.0    71.171804               64.243110   \n",
       "\n",
       "     Heart_interpolate  Perinasal_RB_Log  iWatch_HR   Heart_RB  Breathing_RB  \\\n",
       "256          64.245195          -5.84793   4.394873  81.034325     81.034325   \n",
       "257          64.244674          -5.84793   4.394873  81.034325     81.034325   \n",
       "258          64.244153          -5.84793   4.394873  81.034325     81.034325   \n",
       "259          64.243631          -5.84793   4.394873  81.034325     81.034325   \n",
       "260          64.243110          -5.84793   4.394873  81.034325     81.034325   \n",
       "\n",
       "    Subject_Txx  Breathing  TimeElapsed  Perinasal_Log  \n",
       "256        T005  64.245195            1      -5.452373  \n",
       "257        T005  64.244674            2      -5.448237  \n",
       "258        T005  64.244153            3      -5.443881  \n",
       "259        T005  64.243631            4      -5.450332  \n",
       "260        T005  64.243110            5      -5.470944  "
      ]
     },
     "execution_count": 19,
     "metadata": {},
     "output_type": "execute_result"
    }
   ],
   "source": [
    "df.head()"
   ]
  },
  {
   "cell_type": "code",
   "execution_count": 20,
   "metadata": {},
   "outputs": [
    {
     "data": {
      "text/html": [
       "<div>\n",
       "<style scoped>\n",
       "    .dataframe tbody tr th:only-of-type {\n",
       "        vertical-align: middle;\n",
       "    }\n",
       "\n",
       "    .dataframe tbody tr th {\n",
       "        vertical-align: top;\n",
       "    }\n",
       "\n",
       "    .dataframe thead th {\n",
       "        text-align: right;\n",
       "    }\n",
       "</style>\n",
       "<table border=\"1\" class=\"dataframe\">\n",
       "  <thead>\n",
       "    <tr style=\"text-align: right;\">\n",
       "      <th></th>\n",
       "      <th>nunique</th>\n",
       "      <th>min</th>\n",
       "      <th>max</th>\n",
       "      <th>count</th>\n",
       "    </tr>\n",
       "    <tr>\n",
       "      <th>Subject</th>\n",
       "      <th></th>\n",
       "      <th></th>\n",
       "      <th></th>\n",
       "      <th></th>\n",
       "    </tr>\n",
       "  </thead>\n",
       "  <tbody>\n",
       "    <tr>\n",
       "      <th>5</th>\n",
       "      <td>4</td>\n",
       "      <td>Day1_WS</td>\n",
       "      <td>Day4_WS</td>\n",
       "      <td>30836</td>\n",
       "    </tr>\n",
       "    <tr>\n",
       "      <th>7</th>\n",
       "      <td>4</td>\n",
       "      <td>Day1_WS</td>\n",
       "      <td>Day4_WS</td>\n",
       "      <td>33553</td>\n",
       "    </tr>\n",
       "    <tr>\n",
       "      <th>9</th>\n",
       "      <td>4</td>\n",
       "      <td>Day1_WS</td>\n",
       "      <td>Day4_WS</td>\n",
       "      <td>30857</td>\n",
       "    </tr>\n",
       "    <tr>\n",
       "      <th>11</th>\n",
       "      <td>4</td>\n",
       "      <td>Day1_WS</td>\n",
       "      <td>Day4_WS</td>\n",
       "      <td>34811</td>\n",
       "    </tr>\n",
       "    <tr>\n",
       "      <th>13</th>\n",
       "      <td>4</td>\n",
       "      <td>Day1_WS</td>\n",
       "      <td>Day4_WS</td>\n",
       "      <td>30535</td>\n",
       "    </tr>\n",
       "    <tr>\n",
       "      <th>15</th>\n",
       "      <td>4</td>\n",
       "      <td>Day1_WS</td>\n",
       "      <td>Day4_WS</td>\n",
       "      <td>15964</td>\n",
       "    </tr>\n",
       "    <tr>\n",
       "      <th>17</th>\n",
       "      <td>4</td>\n",
       "      <td>Day1_WS</td>\n",
       "      <td>Day4_WS</td>\n",
       "      <td>23787</td>\n",
       "    </tr>\n",
       "    <tr>\n",
       "      <th>19</th>\n",
       "      <td>4</td>\n",
       "      <td>Day1_WS</td>\n",
       "      <td>Day4_WS</td>\n",
       "      <td>23134</td>\n",
       "    </tr>\n",
       "  </tbody>\n",
       "</table>\n",
       "</div>"
      ],
      "text/plain": [
       "         nunique      min      max  count\n",
       "Subject                                  \n",
       "5              4  Day1_WS  Day4_WS  30836\n",
       "7              4  Day1_WS  Day4_WS  33553\n",
       "9              4  Day1_WS  Day4_WS  30857\n",
       "11             4  Day1_WS  Day4_WS  34811\n",
       "13             4  Day1_WS  Day4_WS  30535\n",
       "15             4  Day1_WS  Day4_WS  15964\n",
       "17             4  Day1_WS  Day4_WS  23787\n",
       "19             4  Day1_WS  Day4_WS  23134"
      ]
     },
     "execution_count": 20,
     "metadata": {},
     "output_type": "execute_result"
    }
   ],
   "source": [
    "df.groupby(['Subject'])['Treatment'].agg(['nunique','min','max','count'])"
   ]
  },
  {
   "cell_type": "code",
   "execution_count": null,
   "metadata": {},
   "outputs": [],
   "source": [
    "\n",
    "\n",
    "\n",
    "\n",
    "\n"
   ]
  },
  {
   "cell_type": "code",
   "execution_count": 21,
   "metadata": {},
   "outputs": [],
   "source": [
    "df['Heart'] = df[heart_col]"
   ]
  },
  {
   "cell_type": "code",
   "execution_count": 22,
   "metadata": {},
   "outputs": [
    {
     "name": "stdout",
     "output_type": "stream",
     "text": [
      "8 8 8\n"
     ]
    }
   ],
   "source": [
    "print(len(df.Subject.unique()), \n",
    "      len(df.Heart_RB.unique()), \n",
    "      len(df.Perinasal_RB_Log.unique()))"
   ]
  },
  {
   "cell_type": "code",
   "execution_count": 23,
   "metadata": {},
   "outputs": [],
   "source": [
    "df['PP_Normalized'] = df.Perinasal_Log - df.Perinasal_RB_Log\n",
    "df['HR_Normalized'] = df.Heart - df.Heart_RB\n",
    "df['BR_Normalized'] = df.Breathing - df.Breathing_RB"
   ]
  },
  {
   "cell_type": "code",
   "execution_count": 24,
   "metadata": {},
   "outputs": [],
   "source": [
    "# rb_df = df.groupby(['Subject', 'Perinasal_RB_Log', 'Heart_RB', 'Breathing_RB'], as_index = False)['TimeElapsed'].count()\n",
    "# rb_df.rename(columns={'Perinasal_RB_Log': 'PP_RB_Mean', \n",
    "#                       'Heart_RB': 'HR_RB_Mean',\n",
    "#                       'Breathing_RB': 'BR_RB_Mean',\n",
    "#                      }, inplace=True)\n",
    "# rb_df['Treatment'] = 'RB_Four_Day_Min'\n",
    "# rb_df.to_csv(data_dir + 'rb_data.csv', sep=',')"
   ]
  },
  {
   "cell_type": "code",
   "execution_count": null,
   "metadata": {},
   "outputs": [],
   "source": [
    "\n",
    "\n",
    "\n",
    "\n",
    "\n"
   ]
  },
  {
   "cell_type": "code",
   "execution_count": 25,
   "metadata": {},
   "outputs": [
    {
     "name": "stdout",
     "output_type": "stream",
     "text": [
      "           Treatment\n",
      "Treatment           \n",
      "Day1_WS        55874\n",
      "Day2_WS        59703\n",
      "Day3_WS        50093\n",
      "Day4_WS        57807 \n",
      "\n"
     ]
    }
   ],
   "source": [
    "print_row_count(df, 'Treatment')"
   ]
  },
  {
   "cell_type": "code",
   "execution_count": null,
   "metadata": {},
   "outputs": [],
   "source": [
    "\n",
    "\n",
    "\n",
    "\n",
    "\n",
    "\n",
    "\n",
    "\n"
   ]
  },
  {
   "cell_type": "code",
   "execution_count": 26,
   "metadata": {},
   "outputs": [],
   "source": [
    "def get_mean(df, col_name):\n",
    "    return df[col_name].mean() \n",
    "\n",
    "def get_sd(df, col_name):\n",
    "    return stdev(df[col_name])\n",
    "\n",
    "def convert_str(num):\n",
    "    return(str(round(num, 2)))\n",
    "\n",
    "def print_mean_sd_stress_marker(signal, mean, sd, stress_marker): \n",
    "    print(signal + ':\\t' + convert_str(mean) + u' \\u00B1 ' + convert_str(sd) \n",
    "          + '\\tstress_marker: ' + convert_str(stress_marker))\n"
   ]
  },
  {
   "cell_type": "code",
   "execution_count": 27,
   "metadata": {},
   "outputs": [
    {
     "name": "stdout",
     "output_type": "stream",
     "text": [
      "PP:\t0.15 ± 0.31\tstress_marker: 0.31\n",
      "PP_2:\t0.15 ± 0.31\tstress_marker: 0.15\n",
      "HR:\t-1.59 ± 8.57\tstress_marker: 0\n",
      "BR:\t-1.59 ± 8.57\tstress_marker: 0\n"
     ]
    }
   ],
   "source": [
    "############################################################################################\n",
    "pp_diff_mean = get_mean(df, 'PP_Normalized')\n",
    "pp_diff_sd = get_sd(df, 'PP_Normalized')\n",
    "\n",
    "pp_stress_marker = pp_diff_mean + 0.5*pp_diff_sd\n",
    "\n",
    "df.loc[df.PP_Normalized < pp_stress_marker, 'PP_Arousal'] = 'relaxed'\n",
    "df.loc[df.PP_Normalized >= pp_stress_marker, 'PP_Arousal'] = 'stressed'\n",
    "############################################################################################\n",
    "\n",
    "\n",
    "\n",
    "############################################################################################\n",
    "pp_2_stress_marker = pp_diff_mean\n",
    "\n",
    "df.loc[df.PP_Normalized < pp_2_stress_marker, 'PP_Arousal_2'] = 'relaxed'\n",
    "df.loc[df.PP_Normalized >= pp_2_stress_marker, 'PP_Arousal_2'] = 'stressed'\n",
    "############################################################################################\n",
    "\n",
    "\n",
    "\n",
    "\n",
    "############################################################################################\n",
    "hr_diff_mean = get_mean(df, 'HR_Normalized')\n",
    "hr_diff_sd = get_sd(df, 'HR_Normalized')\n",
    "\n",
    "hr_stress_marker = 0\n",
    "\n",
    "df.loc[df.HR_Normalized < hr_stress_marker, 'HR_Arousal'] = 'relaxed'\n",
    "df.loc[df.HR_Normalized >= hr_stress_marker, 'HR_Arousal'] = 'stressed'\n",
    "############################################################################################\n",
    "\n",
    "\n",
    "\n",
    "\n",
    "############################################################################################\n",
    "br_diff_mean = get_mean(df, 'BR_Normalized')\n",
    "br_diff_sd = get_sd(df, 'BR_Normalized')\n",
    "\n",
    "br_stress_marker = 0\n",
    "\n",
    "df.loc[df.BR_Normalized < br_stress_marker, 'BR_Arousal'] = 'relaxed'\n",
    "df.loc[df.BR_Normalized >= br_stress_marker, 'BR_Arousal'] = 'stressed'\n",
    "############################################################################################\n",
    "\n",
    "    \n",
    "    \n",
    "############################################################################################\n",
    "print_mean_sd_stress_marker('PP', pp_diff_mean, pp_diff_sd, pp_stress_marker)\n",
    "print_mean_sd_stress_marker('PP_2', pp_diff_mean, pp_diff_sd, pp_2_stress_marker)\n",
    "print_mean_sd_stress_marker('HR', hr_diff_mean, hr_diff_sd, hr_stress_marker)\n",
    "print_mean_sd_stress_marker('BR', br_diff_mean, br_diff_sd, br_stress_marker)\n",
    "############################################################################################\n",
    "\n",
    "\n",
    "# ############################################################################################\n",
    "# print(round(pp_diff_mean, 2), round(pp_diff_sd, 2), round(pp_stress_marker, 2))\n",
    "# print(round(pp_diff_mean, 2), round(pp_diff_sd, 2), round(pp_2_stress_marker, 2))\n",
    "# print(round(hr_diff_mean, 2), round(hr_diff_sd, 2), round(hr_stress_marker, 2))\n",
    "# print(round(br_diff_mean, 2), round(br_diff_sd, 2), round(br_stress_marker, 2))\n",
    "# ############################################################################################\n",
    "\n",
    "\n",
    "\n",
    "# 'PP_Normalized', 'HR_Normalized', 'BR_Normalized'"
   ]
  },
  {
   "cell_type": "code",
   "execution_count": 28,
   "metadata": {},
   "outputs": [
    {
     "name": "stderr",
     "output_type": "stream",
     "text": [
      "No artists with labels found to put in legend.  Note that artists whose label start with an underscore are ignored when legend() is called with no argument.\n",
      "No artists with labels found to put in legend.  Note that artists whose label start with an underscore are ignored when legend() is called with no argument.\n",
      "No artists with labels found to put in legend.  Note that artists whose label start with an underscore are ignored when legend() is called with no argument.\n",
      "No artists with labels found to put in legend.  Note that artists whose label start with an underscore are ignored when legend() is called with no argument.\n"
     ]
    },
    {
     "data": {
      "image/png": "[encoded data removed]",
      "text/plain": [
       "<Figure size 1440x864 with 4 Axes>"
      ]
     },
     "metadata": {
      "needs_background": "light"
     },
     "output_type": "display_data"
    }
   ],
   "source": [
    "line_width = 2\n",
    "palette ={'relaxed': 'lightgreen', 'stressed': 'red'}\n",
    "        \n",
    "\n",
    "fig = plt.figure()\n",
    "\n",
    "# https://stackoverflow.com/questions/332289/how-do-you-change-the-size-of-figures-drawn-with-matplotlib\n",
    "fig.set_size_inches(20, 12, forward=True)\n",
    "fig.subplots_adjust(\n",
    "    top=0.98,\n",
    "    bottom=0.049,\n",
    "    left=0.042,\n",
    "    right=0.98,\n",
    "    hspace=0.4,\n",
    "    wspace=0.15\n",
    ")\n",
    "\n",
    "for i, label in enumerate(('A', 'B', 'C', 'D')):\n",
    "# for i, label in enumerate(('A', 'B', 'C')):\n",
    "# for i, label in enumerate(('A')):\n",
    "    ax = fig.add_subplot(2, 2, i+1)\n",
    "    generate_arousal_extraction_plots(df, i)\n",
    "    ax.text(-0.05, \n",
    "            1.1, \n",
    "            label, \n",
    "            transform=ax.transAxes,\n",
    "            fontsize=24, \n",
    "            fontweight='bold', \n",
    "            va='top', \n",
    "            ha='left')\n",
    "    \n",
    "      \n",
    "# fig.tight_layout()\n",
    "fig.savefig(fig_dir + 'deadline_pp_br_hr_arousal_extraction.pdf', dpi=300, bbox_inches='tight')\n",
    "plt.show()"
   ]
  },
  {
   "cell_type": "code",
   "execution_count": 29,
   "metadata": {},
   "outputs": [
    {
     "data": {
      "image/png": "[encoded data removed]",
      "text/plain": [
       "<Figure size 1440x864 with 3 Axes>"
      ]
     },
     "metadata": {
      "needs_background": "light"
     },
     "output_type": "display_data"
    }
   ],
   "source": [
    "fig = plt.figure()\n",
    "\n",
    "# https://stackoverflow.com/questions/332289/how-do-you-change-the-size-of-figures-drawn-with-matplotlib\n",
    "fig.set_size_inches(20, 12, forward=True)\n",
    "fig.subplots_adjust(\n",
    "    top=0.98,\n",
    "    bottom=0.049,\n",
    "    left=0.042,\n",
    "    right=0.98,\n",
    "    hspace=0.4,\n",
    "    wspace=0.15\n",
    ")\n",
    "\n",
    "# for i, label in enumerate(('A', 'B')):\n",
    "for i, label in enumerate(('A', 'B', 'C')):\n",
    "    ax = fig.add_subplot(2, 2, i+1)\n",
    "    df = generate_ecdf_plots(df, i)\n",
    "    ax.text(-0.05, \n",
    "            1.1, \n",
    "            label, \n",
    "            transform=ax.transAxes,\n",
    "            fontsize=24, \n",
    "            fontweight='bold', \n",
    "            va='top', \n",
    "            ha='left')\n",
    "    \n",
    "      \n",
    "# fig.tight_layout()\n",
    "fig.savefig(fig_dir + 'deadline_pp_br_hr_ecdf.png', dpi=300, bbox_inches='tight')\n",
    "fig.savefig(fig_dir + 'deadline_pp_br_hr_ecdf.pdf', dpi=300, bbox_inches='tight')\n",
    "plt.show()   "
   ]
  },
  {
   "cell_type": "code",
   "execution_count": null,
   "metadata": {},
   "outputs": [],
   "source": [
    "\n",
    "\n",
    "\n",
    "\n",
    "\n",
    "\n",
    "\n"
   ]
  },
  {
   "cell_type": "code",
   "execution_count": 30,
   "metadata": {},
   "outputs": [],
   "source": [
    "# signals = ['PP', 'HR']\n",
    "signals = ['PP', 'HR', 'BR']\n",
    "\n",
    "df = generate_ecdf_arousal_cols(df, signals)"
   ]
  },
  {
   "cell_type": "code",
   "execution_count": 31,
   "metadata": {},
   "outputs": [
    {
     "name": "stdout",
     "output_type": "stream",
     "text": [
      "['Day1_WS' 'Day2_WS' 'Day3_WS' 'Day4_WS']\n",
      "Index(['Subject', 'Day', 'Treatment', 'TreatmentTime', 'Perinasal',\n",
      "       'Mental Demand', 'Physical Demand', 'Temporal Demand', 'Performance',\n",
      "       'Effort', 'Frustration', 'NASA Total Sum', 'Gender', 'Age',\n",
      "       'Heart_ffill', 'Heart_interpolate_poly', 'Heart_interpolate',\n",
      "       'Perinasal_RB_Log', 'iWatch_HR', 'Heart_RB', 'Breathing_RB',\n",
      "       'Subject_Txx', 'Breathing', 'TimeElapsed', 'Perinasal_Log', 'Heart',\n",
      "       'PP_Normalized', 'HR_Normalized', 'BR_Normalized', 'PP_Arousal',\n",
      "       'PP_Arousal_2', 'HR_Arousal', 'BR_Arousal', 'PP_ecdf', 'HR_ecdf',\n",
      "       'BR_ecdf', 'PP_HR_ecdf', 'PP_BR_ecdf', 'HR_BR_ecdf', 'PP_HR_BR_ecdf',\n",
      "       'PP_Arousal_ecdf', 'HR_Arousal_ecdf', 'BR_Arousal_ecdf',\n",
      "       'PP_HR_Arousal_ecdf', 'PP_BR_Arousal_ecdf', 'HR_BR_Arousal_ecdf',\n",
      "       'PP_HR_BR_Arousal_ecdf'],\n",
      "      dtype='object')\n"
     ]
    }
   ],
   "source": [
    "df.to_csv(data_dir + 'data_2.5.csv', sep=',')\n",
    "print(df.Treatment.unique())\n",
    "print(df.columns)"
   ]
  },
  {
   "cell_type": "code",
   "execution_count": null,
   "metadata": {},
   "outputs": [],
   "source": [
    "\n",
    "\n",
    "\n",
    "\n",
    "\n",
    "\n",
    "\n",
    "\n",
    "\n",
    "\n",
    "\n"
   ]
  },
  {
   "cell_type": "markdown",
   "metadata": {},
   "source": [
    "-----\n",
    "# REPLACE WITH THE FUNCTION IN COMMON SCRIPT - WHEN BR IS AVAILABLE - CHECK SIM1 CODE\n",
    "-----"
   ]
  },
  {
   "cell_type": "code",
   "execution_count": 32,
   "metadata": {},
   "outputs": [],
   "source": [
    "# def get_deadline_aggregrated_df(df):\n",
    "#     aggregrated_df = pd.DataFrame()\n",
    "    \n",
    "#     print('Subject Processing: ')\n",
    "#     # for subj in df.Subject.unique():\n",
    "#     for subj in df.Subject.unique()[:2]:\n",
    "#         print(subj)\n",
    "        \n",
    "#         for treatment in df.Treatment.unique():\n",
    "#             subj_treatment_df = df.copy()[(df.Subject == subj) & (df.Treatment == treatment )]\n",
    "\n",
    "#             i = 0\n",
    "#             totalRows = subj_treatment_df.shape[0]\n",
    "            \n",
    "#             while i+2 < totalRows: # proceed for atleast 3 rows\n",
    "#                 subj_treatment_aggregrated_df = subj_treatment_df.copy().iloc[i: min(totalRows, i+10)]\n",
    "#                 i += 10\n",
    "                \n",
    "#                 subj_treatment_window_first_row = subj_treatment_aggregrated_df.iloc[0]\n",
    "                \n",
    "#                 temp_df = pd.DataFrame({'Subject': [subj], \n",
    "#                                         # 'Treatment': [treatment], \n",
    "#                                         'Treatment': [subj_treatment_window_first_row.Treatment],\n",
    "#                                         'Gender': [subj_treatment_window_first_row.Gender],\n",
    "#                                         'Age': [subj_treatment_window_first_row.Age],\n",
    "#                                         # 'STAI': [subj_treatment_window_first_row.STAI],\n",
    "#                                         # 'Type_AB': [subj_treatment_window_first_row.Type_AB],\n",
    "#                                         'Effort': [subj_treatment_window_first_row.Effort],\n",
    "#                                         'Frustration': [subj_treatment_window_first_row.Frustration],\n",
    "#                                         'Mental_Demand': [subj_treatment_window_first_row['Mental Demand']],\n",
    "#                                         'Performance': [subj_treatment_window_first_row['Performance']],\n",
    "#                                         'Physical_Demand': [subj_treatment_window_first_row['Physical Demand']],\n",
    "#                                         'Temporal_Demand': [subj_treatment_window_first_row['Temporal Demand']],\n",
    "#                                         'NASA_Total_Sum': [subj_treatment_window_first_row['NASA Total Sum']]\n",
    "#                                        })\n",
    "                \n",
    "#                 # temp_df['PP_Arousal_Mode'] = subj_drive_window_df.PP_Arousal.mode()\n",
    "#                 # temp_df['PP_2_Arousal_Mode'] = subj_drive_window_df.PP_Arousal_2.mode()\n",
    "#                 # temp_df['HR_Arousal_Mode'] = subj_drive_window_df.HR_Arousal.mode()\n",
    "#                 # temp_df['BR_Arousal_Mode'] = subj_drive_window_df.BR_Arousal.mode()\n",
    "                \n",
    "                \n",
    "#                 temp_df['PP_Arousal_Mode_Hist'] = subj_treatment_aggregrated_df.PP_Arousal.mode()\n",
    "#                 temp_df['PP_2_Arousal_Mode_Hist'] = subj_treatment_aggregrated_df.PP_Arousal_2.mode()\n",
    "#                 temp_df['HR_Arousal_Mode_Hist'] = subj_treatment_aggregrated_df.HR_Arousal.mode()\n",
    "#                 # temp_df['BR_Arousal_Mode_Hist'] = subj_treatment_aggregrated_df.BR_Arousal.mode()\n",
    "                \n",
    "#                 temp_df['PP_Arousal_Mode_ecdf'] = subj_treatment_aggregrated_df.PP_Arousal_ecdf.mode()\n",
    "#                 temp_df['HR_Arousal_Mode_ecdf'] = subj_treatment_aggregrated_df.HR_Arousal_ecdf.mode()\n",
    "#                 # temp_df['BR_Arousal_Mode_ecdf'] = subj_treatment_aggregrated_df.BR_Arousal_ecdf.mode()\n",
    "\n",
    "                \n",
    "#                 temp_df['Perinasal_Mean'] = subj_treatment_aggregrated_df.Perinasal_Log.mean()\n",
    "#                 temp_df['Perinasal_Median'] = subj_treatment_aggregrated_df.Perinasal_Log.median()\n",
    "#                 temp_df['Perinasal_SD'] = stdev(subj_treatment_aggregrated_df.Perinasal_Log)\n",
    "#                 temp_df['Perinasal_SS'] = sum_of_squares(subj_treatment_aggregrated_df.Perinasal_Log)\n",
    "\n",
    "#                 temp_df['Hr_Mean'] = subj_treatment_aggregrated_df.Heart.mean()\n",
    "#                 temp_df['Hr_Median'] = subj_treatment_aggregrated_df.Heart.median()\n",
    "#                 temp_df['Hr_SD'] = stdev(subj_treatment_aggregrated_df.Heart)\n",
    "#                 temp_df['Hr_SS'] = sum_of_squares(subj_treatment_aggregrated_df.Heart)\n",
    "                \n",
    "#                 # temp_df['Br_Mean'] = subj_treatment_aggregrated_df.Breathing.mean()\n",
    "#                 # temp_df['Br_Median'] = subj_treatment_aggregrated_df.Breathing.median()\n",
    "#                 # temp_df['Br_SD'] = stdev(subj_treatment_aggregrated_df.Breathing)\n",
    "#                 # temp_df['Br_SS'] = sum_of_squares(subj_treatment_aggregrated_df.Breathing)\n",
    "  \n",
    "#                 aggregrated_df = aggregrated_df.append(temp_df)\n",
    "                \n",
    "#     return aggregrated_df\n",
    "\n",
    "\n",
    "\n",
    "# final_df = get_deadline_aggregrated_df(df)"
   ]
  },
  {
   "cell_type": "markdown",
   "metadata": {},
   "source": [
    "-----\n",
    "# REPLACE WITH THE FUNCTION IN COMMON SCRIPT - WHEN BR IS AVAILABLE - CHECK SIM1 CODE\n",
    "-----"
   ]
  },
  {
   "cell_type": "code",
   "execution_count": 33,
   "metadata": {},
   "outputs": [
    {
     "name": "stdout",
     "output_type": "stream",
     "text": [
      "Subject Processing: \n",
      "5\n",
      "7\n",
      "9\n",
      "11\n",
      "13\n",
      "15\n",
      "17\n",
      "19\n",
      "                 PP_Arousal_Mode\n",
      "PP_Arousal_Mode                 \n",
      "arousal                    33.77\n",
      "neutral                    33.81\n",
      "non-arousal                32.42 \n",
      "\n",
      "                 HR_Arousal_Mode\n",
      "HR_Arousal_Mode                 \n",
      "arousal                    33.06\n",
      "neutral                    33.96\n",
      "non-arousal                32.98 \n",
      "\n",
      "                 BR_Arousal_Mode\n",
      "BR_Arousal_Mode                 \n",
      "arousal                    33.06\n",
      "neutral                    33.96\n",
      "non-arousal                32.98 \n",
      "\n",
      "                    PP_HR_Arousal_Mode\n",
      "PP_HR_Arousal_Mode                    \n",
      "arousal                          21.21\n",
      "neutral                          57.22\n",
      "non-arousal                      21.58 \n",
      "\n",
      "                    PP_BR_Arousal_Mode\n",
      "PP_BR_Arousal_Mode                    \n",
      "arousal                          21.21\n",
      "neutral                          57.22\n",
      "non-arousal                      21.58 \n",
      "\n",
      "                    HR_BR_Arousal_Mode\n",
      "HR_BR_Arousal_Mode                    \n",
      "arousal                          33.06\n",
      "neutral                          33.96\n",
      "non-arousal                      32.98 \n",
      "\n",
      "                       PP_HR_BR_Arousal_Mode\n",
      "PP_HR_BR_Arousal_Mode                       \n",
      "arousal                                22.39\n",
      "neutral                                54.03\n",
      "non-arousal                            23.58 \n",
      "\n"
     ]
    }
   ],
   "source": [
    "final_df = get_non_overlapping_aggregrated_df(df)"
   ]
  },
  {
   "cell_type": "code",
   "execution_count": 34,
   "metadata": {},
   "outputs": [
    {
     "data": {
      "text/plain": [
       "Subject                  0\n",
       "Treatment                0\n",
       "Age                      0\n",
       "Effort                   0\n",
       "Frustration              0\n",
       "Mental_Demand            0\n",
       "Performance              0\n",
       "Physical_Demand          0\n",
       "Temporal_Demand          0\n",
       "NASA_Total_Sum           0\n",
       "PP_Arousal_Mode          0\n",
       "HR_Arousal_Mode          0\n",
       "BR_Arousal_Mode          0\n",
       "PP_HR_Arousal_Mode       0\n",
       "PP_BR_Arousal_Mode       0\n",
       "HR_BR_Arousal_Mode       0\n",
       "PP_HR_BR_Arousal_Mode    0\n",
       "PP_Mean                  0\n",
       "PP_Median                0\n",
       "PP_SD                    0\n",
       "PP_SS                    0\n",
       "Hr_Mean                  0\n",
       "Hr_Median                0\n",
       "Hr_SD                    0\n",
       "Hr_SS                    0\n",
       "Br_Mean                  0\n",
       "Br_Median                0\n",
       "Br_SD                    0\n",
       "Br_SS                    0\n",
       "Gender_Female            0\n",
       "Gender_Male              0\n",
       "dtype: int64"
      ]
     },
     "execution_count": 34,
     "metadata": {},
     "output_type": "execute_result"
    }
   ],
   "source": [
    "final_df.isnull().sum()"
   ]
  },
  {
   "cell_type": "code",
   "execution_count": 35,
   "metadata": {},
   "outputs": [],
   "source": [
    "final_df.to_csv(data_dir + 'data_3.csv', sep=',', index=False)"
   ]
  },
  {
   "cell_type": "code",
   "execution_count": null,
   "metadata": {},
   "outputs": [],
   "source": [
    "\n",
    "\n",
    "\n",
    "\n",
    "\n",
    "\n",
    "\n",
    "\n",
    "\n"
   ]
  },
  {
   "cell_type": "markdown",
   "metadata": {},
   "source": [
    "-----------------------------------------------------\n",
    "# This part is to get info for paper/report\n",
    "-----------------------------------------------------"
   ]
  },
  {
   "cell_type": "code",
   "execution_count": 36,
   "metadata": {},
   "outputs": [
    {
     "data": {
      "text/html": [
       "<div>\n",
       "<style scoped>\n",
       "    .dataframe tbody tr th:only-of-type {\n",
       "        vertical-align: middle;\n",
       "    }\n",
       "\n",
       "    .dataframe tbody tr th {\n",
       "        vertical-align: top;\n",
       "    }\n",
       "\n",
       "    .dataframe thead th {\n",
       "        text-align: right;\n",
       "    }\n",
       "</style>\n",
       "<table border=\"1\" class=\"dataframe\">\n",
       "  <thead>\n",
       "    <tr style=\"text-align: right;\">\n",
       "      <th></th>\n",
       "      <th>Subject</th>\n",
       "      <th>Treatment</th>\n",
       "      <th>Age</th>\n",
       "      <th>Effort</th>\n",
       "      <th>Frustration</th>\n",
       "      <th>Mental_Demand</th>\n",
       "      <th>Performance</th>\n",
       "      <th>Physical_Demand</th>\n",
       "      <th>Temporal_Demand</th>\n",
       "      <th>NASA_Total_Sum</th>\n",
       "      <th>PP_Arousal_Mode</th>\n",
       "      <th>HR_Arousal_Mode</th>\n",
       "      <th>BR_Arousal_Mode</th>\n",
       "      <th>PP_HR_Arousal_Mode</th>\n",
       "      <th>PP_BR_Arousal_Mode</th>\n",
       "      <th>HR_BR_Arousal_Mode</th>\n",
       "      <th>PP_HR_BR_Arousal_Mode</th>\n",
       "      <th>PP_Mean</th>\n",
       "      <th>PP_Median</th>\n",
       "      <th>PP_SD</th>\n",
       "      <th>PP_SS</th>\n",
       "      <th>Hr_Mean</th>\n",
       "      <th>Hr_Median</th>\n",
       "      <th>Hr_SD</th>\n",
       "      <th>Hr_SS</th>\n",
       "      <th>Br_Mean</th>\n",
       "      <th>Br_Median</th>\n",
       "      <th>Br_SD</th>\n",
       "      <th>Br_SS</th>\n",
       "      <th>Gender_Female</th>\n",
       "      <th>Gender_Male</th>\n",
       "    </tr>\n",
       "  </thead>\n",
       "  <tbody>\n",
       "    <tr>\n",
       "      <th>0</th>\n",
       "      <td>5</td>\n",
       "      <td>Day1_WS</td>\n",
       "      <td>35.0</td>\n",
       "      <td>15</td>\n",
       "      <td>5</td>\n",
       "      <td>14</td>\n",
       "      <td>12</td>\n",
       "      <td>5</td>\n",
       "      <td>12</td>\n",
       "      <td>63</td>\n",
       "      <td>arousal</td>\n",
       "      <td>non-arousal</td>\n",
       "      <td>non-arousal</td>\n",
       "      <td>neutral</td>\n",
       "      <td>neutral</td>\n",
       "      <td>non-arousal</td>\n",
       "      <td>non-arousal</td>\n",
       "      <td>0.346319</td>\n",
       "      <td>0.361038</td>\n",
       "      <td>0.055406</td>\n",
       "      <td>1.227000</td>\n",
       "      <td>-16.791476</td>\n",
       "      <td>-16.791476</td>\n",
       "      <td>0.001579</td>\n",
       "      <td>2819.536619</td>\n",
       "      <td>-16.791476</td>\n",
       "      <td>-16.791476</td>\n",
       "      <td>0.001579</td>\n",
       "      <td>2819.536619</td>\n",
       "      <td>0</td>\n",
       "      <td>1</td>\n",
       "    </tr>\n",
       "    <tr>\n",
       "      <th>1</th>\n",
       "      <td>5</td>\n",
       "      <td>Day1_WS</td>\n",
       "      <td>35.0</td>\n",
       "      <td>15</td>\n",
       "      <td>5</td>\n",
       "      <td>14</td>\n",
       "      <td>12</td>\n",
       "      <td>5</td>\n",
       "      <td>12</td>\n",
       "      <td>63</td>\n",
       "      <td>arousal</td>\n",
       "      <td>non-arousal</td>\n",
       "      <td>non-arousal</td>\n",
       "      <td>neutral</td>\n",
       "      <td>neutral</td>\n",
       "      <td>non-arousal</td>\n",
       "      <td>non-arousal</td>\n",
       "      <td>0.261452</td>\n",
       "      <td>0.268220</td>\n",
       "      <td>0.017390</td>\n",
       "      <td>0.686292</td>\n",
       "      <td>-16.796690</td>\n",
       "      <td>-16.796690</td>\n",
       "      <td>0.001579</td>\n",
       "      <td>2821.287858</td>\n",
       "      <td>-16.796690</td>\n",
       "      <td>-16.796690</td>\n",
       "      <td>0.001579</td>\n",
       "      <td>2821.287858</td>\n",
       "      <td>0</td>\n",
       "      <td>1</td>\n",
       "    </tr>\n",
       "    <tr>\n",
       "      <th>2</th>\n",
       "      <td>5</td>\n",
       "      <td>Day1_WS</td>\n",
       "      <td>35.0</td>\n",
       "      <td>15</td>\n",
       "      <td>5</td>\n",
       "      <td>14</td>\n",
       "      <td>12</td>\n",
       "      <td>5</td>\n",
       "      <td>12</td>\n",
       "      <td>63</td>\n",
       "      <td>neutral</td>\n",
       "      <td>non-arousal</td>\n",
       "      <td>non-arousal</td>\n",
       "      <td>neutral</td>\n",
       "      <td>neutral</td>\n",
       "      <td>non-arousal</td>\n",
       "      <td>non-arousal</td>\n",
       "      <td>0.265244</td>\n",
       "      <td>0.265203</td>\n",
       "      <td>0.012130</td>\n",
       "      <td>0.704866</td>\n",
       "      <td>-16.801904</td>\n",
       "      <td>-16.801904</td>\n",
       "      <td>0.001579</td>\n",
       "      <td>2823.039641</td>\n",
       "      <td>-16.801904</td>\n",
       "      <td>-16.801904</td>\n",
       "      <td>0.001579</td>\n",
       "      <td>2823.039641</td>\n",
       "      <td>0</td>\n",
       "      <td>1</td>\n",
       "    </tr>\n",
       "    <tr>\n",
       "      <th>3</th>\n",
       "      <td>5</td>\n",
       "      <td>Day1_WS</td>\n",
       "      <td>35.0</td>\n",
       "      <td>15</td>\n",
       "      <td>5</td>\n",
       "      <td>14</td>\n",
       "      <td>12</td>\n",
       "      <td>5</td>\n",
       "      <td>12</td>\n",
       "      <td>63</td>\n",
       "      <td>arousal</td>\n",
       "      <td>non-arousal</td>\n",
       "      <td>non-arousal</td>\n",
       "      <td>neutral</td>\n",
       "      <td>neutral</td>\n",
       "      <td>non-arousal</td>\n",
       "      <td>non-arousal</td>\n",
       "      <td>0.301367</td>\n",
       "      <td>0.306739</td>\n",
       "      <td>0.019182</td>\n",
       "      <td>0.911534</td>\n",
       "      <td>-16.807117</td>\n",
       "      <td>-16.807117</td>\n",
       "      <td>0.001579</td>\n",
       "      <td>2824.791967</td>\n",
       "      <td>-16.807117</td>\n",
       "      <td>-16.807117</td>\n",
       "      <td>0.001579</td>\n",
       "      <td>2824.791967</td>\n",
       "      <td>0</td>\n",
       "      <td>1</td>\n",
       "    </tr>\n",
       "    <tr>\n",
       "      <th>4</th>\n",
       "      <td>5</td>\n",
       "      <td>Day1_WS</td>\n",
       "      <td>35.0</td>\n",
       "      <td>15</td>\n",
       "      <td>5</td>\n",
       "      <td>14</td>\n",
       "      <td>12</td>\n",
       "      <td>5</td>\n",
       "      <td>12</td>\n",
       "      <td>63</td>\n",
       "      <td>arousal</td>\n",
       "      <td>non-arousal</td>\n",
       "      <td>non-arousal</td>\n",
       "      <td>neutral</td>\n",
       "      <td>neutral</td>\n",
       "      <td>non-arousal</td>\n",
       "      <td>non-arousal</td>\n",
       "      <td>0.304664</td>\n",
       "      <td>0.296093</td>\n",
       "      <td>0.026836</td>\n",
       "      <td>0.934685</td>\n",
       "      <td>-16.812331</td>\n",
       "      <td>-16.812331</td>\n",
       "      <td>0.001579</td>\n",
       "      <td>2826.544836</td>\n",
       "      <td>-16.812331</td>\n",
       "      <td>-16.812331</td>\n",
       "      <td>0.001579</td>\n",
       "      <td>2826.544836</td>\n",
       "      <td>0</td>\n",
       "      <td>1</td>\n",
       "    </tr>\n",
       "  </tbody>\n",
       "</table>\n",
       "</div>"
      ],
      "text/plain": [
       "   Subject Treatment   Age  Effort  Frustration  Mental_Demand  Performance  \\\n",
       "0        5   Day1_WS  35.0      15            5             14           12   \n",
       "1        5   Day1_WS  35.0      15            5             14           12   \n",
       "2        5   Day1_WS  35.0      15            5             14           12   \n",
       "3        5   Day1_WS  35.0      15            5             14           12   \n",
       "4        5   Day1_WS  35.0      15            5             14           12   \n",
       "\n",
       "   Physical_Demand  Temporal_Demand  NASA_Total_Sum PP_Arousal_Mode  \\\n",
       "0                5               12              63         arousal   \n",
       "1                5               12              63         arousal   \n",
       "2                5               12              63         neutral   \n",
       "3                5               12              63         arousal   \n",
       "4                5               12              63         arousal   \n",
       "\n",
       "  HR_Arousal_Mode BR_Arousal_Mode PP_HR_Arousal_Mode PP_BR_Arousal_Mode  \\\n",
       "0     non-arousal     non-arousal            neutral            neutral   \n",
       "1     non-arousal     non-arousal            neutral            neutral   \n",
       "2     non-arousal     non-arousal            neutral            neutral   \n",
       "3     non-arousal     non-arousal            neutral            neutral   \n",
       "4     non-arousal     non-arousal            neutral            neutral   \n",
       "\n",
       "  HR_BR_Arousal_Mode PP_HR_BR_Arousal_Mode   PP_Mean  PP_Median     PP_SD  \\\n",
       "0        non-arousal           non-arousal  0.346319   0.361038  0.055406   \n",
       "1        non-arousal           non-arousal  0.261452   0.268220  0.017390   \n",
       "2        non-arousal           non-arousal  0.265244   0.265203  0.012130   \n",
       "3        non-arousal           non-arousal  0.301367   0.306739  0.019182   \n",
       "4        non-arousal           non-arousal  0.304664   0.296093  0.026836   \n",
       "\n",
       "      PP_SS    Hr_Mean  Hr_Median     Hr_SD        Hr_SS    Br_Mean  \\\n",
       "0  1.227000 -16.791476 -16.791476  0.001579  2819.536619 -16.791476   \n",
       "1  0.686292 -16.796690 -16.796690  0.001579  2821.287858 -16.796690   \n",
       "2  0.704866 -16.801904 -16.801904  0.001579  2823.039641 -16.801904   \n",
       "3  0.911534 -16.807117 -16.807117  0.001579  2824.791967 -16.807117   \n",
       "4  0.934685 -16.812331 -16.812331  0.001579  2826.544836 -16.812331   \n",
       "\n",
       "   Br_Median     Br_SD        Br_SS  Gender_Female  Gender_Male  \n",
       "0 -16.791476  0.001579  2819.536619              0            1  \n",
       "1 -16.796690  0.001579  2821.287858              0            1  \n",
       "2 -16.801904  0.001579  2823.039641              0            1  \n",
       "3 -16.807117  0.001579  2824.791967              0            1  \n",
       "4 -16.812331  0.001579  2826.544836              0            1  "
      ]
     },
     "execution_count": 36,
     "metadata": {},
     "output_type": "execute_result"
    }
   ],
   "source": [
    "final_df = pd.read_csv(data_dir + 'data_3.csv')\n",
    "final_df.head()"
   ]
  },
  {
   "cell_type": "code",
   "execution_count": 37,
   "metadata": {},
   "outputs": [
    {
     "name": "stdout",
     "output_type": "stream",
     "text": [
      "Male: 5\n",
      "Female: 3\n"
     ]
    }
   ],
   "source": [
    "# final_df.groupby('Subject')['Gender_Male'].sum()\n",
    "\n",
    "print('Male: ' + str(final_df.groupby(['Subject', 'Gender_Male'])['Gender_Male'].sum().agg(lambda x: x.ne(0).sum())))\n",
    "print('Female: ' + str(final_df.groupby(['Subject', 'Gender_Male'])['Gender_Male'].sum().agg(lambda x: x.eq(0).sum())))"
   ]
  },
  {
   "cell_type": "code",
   "execution_count": 38,
   "metadata": {},
   "outputs": [
    {
     "name": "stdout",
     "output_type": "stream",
     "text": [
      "22.0 52.0\n"
     ]
    }
   ],
   "source": [
    "print(final_df.Age.min(), final_df.Age.max())"
   ]
  },
  {
   "cell_type": "code",
   "execution_count": 39,
   "metadata": {},
   "outputs": [
    {
     "name": "stdout",
     "output_type": "stream",
     "text": [
      "Total Subjects: 8\n",
      "Total Data: 22356\n"
     ]
    }
   ],
   "source": [
    "print('Total Subjects: ' + str(len(final_df.Subject.unique())))\n",
    "print('Total Data: ' + str(final_df.shape[0]))"
   ]
  },
  {
   "cell_type": "code",
   "execution_count": null,
   "metadata": {},
   "outputs": [],
   "source": [
    "\n",
    "\n",
    "\n",
    "\n",
    "\n",
    "\n"
   ]
  }
 ],
 "metadata": {
  "kernelspec": {
   "display_name": "Python 3 (ipykernel)",
   "language": "python",
   "name": "python3"
  },
  "language_info": {
   "codemirror_mode": {
    "name": "ipython",
    "version": 3
   },
   "file_extension": ".py",
   "mimetype": "text/x-python",
   "name": "python",
   "nbconvert_exporter": "python",
   "pygments_lexer": "ipython3",
   "version": "3.7.4"
  }
 },
 "nbformat": 4,
 "nbformat_minor": 4
}
