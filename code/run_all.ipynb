{
 "cells": [
  {
   "cell_type": "code",
   "execution_count": null,
   "id": "b184dd6e-b05b-48eb-a7ed-ab0c705aa332",
   "metadata": {},
   "outputs": [],
   "source": [
    "\n",
    "\n",
    "\n"
   ]
  },
  {
   "cell_type": "code",
   "execution_count": 11,
   "id": "8a729f7c-24e4-452d-b027-a0de1b720901",
   "metadata": {},
   "outputs": [],
   "source": [
    "# %run all_studies/us_common_functions.ipynb\n",
    "# %run sim1/sim1___feature_engineering.ipynb"
   ]
  },
  {
   "cell_type": "code",
   "execution_count": null,
   "id": "0a428da6-94eb-4963-89a7-28c15a7b7cc4",
   "metadata": {},
   "outputs": [],
   "source": []
  }
 ],
 "metadata": {
  "kernelspec": {
   "display_name": "Python 3 (ipykernel)",
   "language": "python",
   "name": "python3"
  },
  "language_info": {
   "codemirror_mode": {
    "name": "ipython",
    "version": 3
   },
   "file_extension": ".py",
   "mimetype": "text/x-python",
   "name": "python",
   "nbconvert_exporter": "python",
   "pygments_lexer": "ipython3",
   "version": "3.7.4"
  }
 },
 "nbformat": 4,
 "nbformat_minor": 5
}
