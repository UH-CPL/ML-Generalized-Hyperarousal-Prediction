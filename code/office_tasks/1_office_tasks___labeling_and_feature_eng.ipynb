{
 "cells": [
  {
   "cell_type": "code",
   "execution_count": 1,
   "metadata": {},
   "outputs": [],
   "source": [
    "import pandas as pd\n",
    "import numpy as np\n",
    "\n",
    "from statistics import stdev\n",
    "from scipy.stats import mode\n",
    "\n",
    "from IPython.display import IFrame, display\n",
    "\n",
    "import matplotlib.pyplot as plt\n",
    "import seaborn as sns\n",
    "\n",
    "\n",
    "# from sklearn.model_selection import train_test_split, RandomizedSearchCV\n",
    "# from sklearn.ensemble import RandomForestClassifier\n",
    "# from sklearn.metrics import accuracy_score, f1_score, recall_score, precision_score, confusion_matrix, ConfusionMatrixDisplay\n",
    "\n",
    "\n",
    "\n",
    "\n",
    "%run ../all_studies/us_common_functions.ipynb\n",
    "\n",
    "\n",
    "\n",
    "\n",
    "\n",
    "\n",
    "#########################################\n",
    "window_size=10\n",
    "overlappping_window=False\n",
    "#########################################\n",
    "\n",
    "\n",
    "\n",
    "\n",
    "data_dir = '../../data/office_tasks/'\n",
    "fig_dir = '../../figure/office_tasks/'\n",
    "\n",
    "\n",
    "\n"
   ]
  },
  {
   "cell_type": "code",
   "execution_count": 2,
   "metadata": {},
   "outputs": [
    {
     "data": {
      "text/html": [
       "<div>\n",
       "<style scoped>\n",
       "    .dataframe tbody tr th:only-of-type {\n",
       "        vertical-align: middle;\n",
       "    }\n",
       "\n",
       "    .dataframe tbody tr th {\n",
       "        vertical-align: top;\n",
       "    }\n",
       "\n",
       "    .dataframe thead th {\n",
       "        text-align: right;\n",
       "    }\n",
       "</style>\n",
       "<table border=\"1\" class=\"dataframe\">\n",
       "  <thead>\n",
       "    <tr style=\"text-align: right;\">\n",
       "      <th></th>\n",
       "      <th>Subject</th>\n",
       "      <th>Treatment</th>\n",
       "      <th>Perinasal</th>\n",
       "      <th>Palm</th>\n",
       "      <th>Breathing</th>\n",
       "      <th>Heart</th>\n",
       "      <th>Age</th>\n",
       "      <th>Gender</th>\n",
       "      <th>Mental Demand</th>\n",
       "      <th>Physical Demand</th>\n",
       "      <th>Temporal Demand</th>\n",
       "      <th>Performance</th>\n",
       "      <th>Effort</th>\n",
       "      <th>Frustration</th>\n",
       "      <th>NASA Total Sum</th>\n",
       "    </tr>\n",
       "  </thead>\n",
       "  <tbody>\n",
       "    <tr>\n",
       "      <th>0</th>\n",
       "      <td>3</td>\n",
       "      <td>RB</td>\n",
       "      <td>0.003544</td>\n",
       "      <td>0.311345</td>\n",
       "      <td>12.2</td>\n",
       "      <td>83.0</td>\n",
       "      <td>23.0</td>\n",
       "      <td>Female</td>\n",
       "      <td>17.142857</td>\n",
       "      <td>14.285714</td>\n",
       "      <td>17.142857</td>\n",
       "      <td>14.285714</td>\n",
       "      <td>17.142857</td>\n",
       "      <td>14.285714</td>\n",
       "      <td>94.285714</td>\n",
       "    </tr>\n",
       "    <tr>\n",
       "      <th>1</th>\n",
       "      <td>3</td>\n",
       "      <td>RB</td>\n",
       "      <td>0.003543</td>\n",
       "      <td>0.310063</td>\n",
       "      <td>12.8</td>\n",
       "      <td>82.0</td>\n",
       "      <td>23.0</td>\n",
       "      <td>Female</td>\n",
       "      <td>17.142857</td>\n",
       "      <td>14.285714</td>\n",
       "      <td>17.142857</td>\n",
       "      <td>14.285714</td>\n",
       "      <td>17.142857</td>\n",
       "      <td>14.285714</td>\n",
       "      <td>94.285714</td>\n",
       "    </tr>\n",
       "    <tr>\n",
       "      <th>2</th>\n",
       "      <td>3</td>\n",
       "      <td>RB</td>\n",
       "      <td>0.003541</td>\n",
       "      <td>0.309743</td>\n",
       "      <td>12.8</td>\n",
       "      <td>81.0</td>\n",
       "      <td>23.0</td>\n",
       "      <td>Female</td>\n",
       "      <td>17.142857</td>\n",
       "      <td>14.285714</td>\n",
       "      <td>17.142857</td>\n",
       "      <td>14.285714</td>\n",
       "      <td>17.142857</td>\n",
       "      <td>14.285714</td>\n",
       "      <td>94.285714</td>\n",
       "    </tr>\n",
       "    <tr>\n",
       "      <th>3</th>\n",
       "      <td>3</td>\n",
       "      <td>RB</td>\n",
       "      <td>0.003539</td>\n",
       "      <td>0.309743</td>\n",
       "      <td>13.3</td>\n",
       "      <td>79.0</td>\n",
       "      <td>23.0</td>\n",
       "      <td>Female</td>\n",
       "      <td>17.142857</td>\n",
       "      <td>14.285714</td>\n",
       "      <td>17.142857</td>\n",
       "      <td>14.285714</td>\n",
       "      <td>17.142857</td>\n",
       "      <td>14.285714</td>\n",
       "      <td>94.285714</td>\n",
       "    </tr>\n",
       "    <tr>\n",
       "      <th>4</th>\n",
       "      <td>3</td>\n",
       "      <td>RB</td>\n",
       "      <td>0.003537</td>\n",
       "      <td>0.309743</td>\n",
       "      <td>13.3</td>\n",
       "      <td>82.0</td>\n",
       "      <td>23.0</td>\n",
       "      <td>Female</td>\n",
       "      <td>17.142857</td>\n",
       "      <td>14.285714</td>\n",
       "      <td>17.142857</td>\n",
       "      <td>14.285714</td>\n",
       "      <td>17.142857</td>\n",
       "      <td>14.285714</td>\n",
       "      <td>94.285714</td>\n",
       "    </tr>\n",
       "  </tbody>\n",
       "</table>\n",
       "</div>"
      ],
      "text/plain": [
       "   Subject Treatment  Perinasal      Palm  Breathing  Heart   Age  Gender  \\\n",
       "0        3        RB   0.003544  0.311345       12.2   83.0  23.0  Female   \n",
       "1        3        RB   0.003543  0.310063       12.8   82.0  23.0  Female   \n",
       "2        3        RB   0.003541  0.309743       12.8   81.0  23.0  Female   \n",
       "3        3        RB   0.003539  0.309743       13.3   79.0  23.0  Female   \n",
       "4        3        RB   0.003537  0.309743       13.3   82.0  23.0  Female   \n",
       "\n",
       "   Mental Demand  Physical Demand  Temporal Demand  Performance     Effort  \\\n",
       "0      17.142857        14.285714        17.142857    14.285714  17.142857   \n",
       "1      17.142857        14.285714        17.142857    14.285714  17.142857   \n",
       "2      17.142857        14.285714        17.142857    14.285714  17.142857   \n",
       "3      17.142857        14.285714        17.142857    14.285714  17.142857   \n",
       "4      17.142857        14.285714        17.142857    14.285714  17.142857   \n",
       "\n",
       "   Frustration  NASA Total Sum  \n",
       "0    14.285714       94.285714  \n",
       "1    14.285714       94.285714  \n",
       "2    14.285714       94.285714  \n",
       "3    14.285714       94.285714  \n",
       "4    14.285714       94.285714  "
      ]
     },
     "execution_count": 2,
     "metadata": {},
     "output_type": "execute_result"
    }
   ],
   "source": [
    "df = pd.read_csv(data_dir + 'data_2.csv')\n",
    "df.head()"
   ]
  },
  {
   "cell_type": "code",
   "execution_count": 3,
   "metadata": {},
   "outputs": [
    {
     "data": {
      "text/plain": [
       "Index(['Subject', 'Treatment', 'Perinasal', 'Palm', 'Breathing', 'Heart',\n",
       "       'Age', 'Gender', 'Mental Demand', 'Physical Demand', 'Temporal Demand',\n",
       "       'Performance', 'Effort', 'Frustration', 'NASA Total Sum'],\n",
       "      dtype='object')"
      ]
     },
     "execution_count": 3,
     "metadata": {},
     "output_type": "execute_result"
    }
   ],
   "source": [
    "df.columns"
   ]
  },
  {
   "cell_type": "code",
   "execution_count": 4,
   "metadata": {},
   "outputs": [
    {
     "name": "stdout",
     "output_type": "stream",
     "text": [
      "Total Subjects: 63\n",
      "[  3   5   9  11  16  19  21  31  32  35  37  46  47  51  61  63  64  65\n",
      "  66  68  77  78  79  82  83  84  85  91  92  93  94  96  98  99 106 112\n",
      " 113 114 121 122 124 126 128 130 132 138 139 141 144 145 151 152 154 156\n",
      " 157 162 166 172 173 174 175 176 178]\n"
     ]
    }
   ],
   "source": [
    "print('Total Subjects: ' + str(len(df.Subject.unique())))\n",
    "print(df.Subject.unique())"
   ]
  },
  {
   "cell_type": "code",
   "execution_count": null,
   "metadata": {},
   "outputs": [],
   "source": [
    "\n",
    "\n",
    "\n",
    "\n",
    "\n",
    "\n",
    "\n",
    "\n"
   ]
  },
  {
   "cell_type": "markdown",
   "metadata": {},
   "source": [
    "# Creating csv for additional plots for paper -->"
   ]
  },
  {
   "cell_type": "code",
   "execution_count": 5,
   "metadata": {},
   "outputs": [
    {
     "name": "stdout",
     "output_type": "stream",
     "text": [
      "(249033, 17)\n",
      "(191693, 17)\n"
     ]
    }
   ],
   "source": [
    "df['TimeElapsed'] = df.groupby(['Subject', 'Treatment']).cumcount()+1\n",
    "df.head()\n",
    "\n",
    "\n",
    "plot_df = df.copy()\n",
    "plot_df.to_csv(data_dir + \"data_2.1.csv\", sep=',', index=False)\n",
    "\n",
    "\n",
    "\n",
    "\n",
    "\n",
    "plot_df['Perinasal_Log'] = np.log(plot_df['Perinasal'])\n",
    "\n",
    "\n",
    "def quality_control_phase1(df, col, validMin, validMax):\n",
    "    return df[(validMin <= df[col]) & (df[col] <= validMax)]\n",
    "\n",
    "print(plot_df.shape)\n",
    "plot_df = quality_control_phase1(plot_df, 'Heart', 40, 140)\n",
    "plot_df = quality_control_phase1(plot_df, 'Breathing', 4, 40)\n",
    "print(plot_df.shape)\n",
    "\n",
    "\n",
    "plot_df.to_csv(data_dir + \"data_2.2.csv\", sep=',', index=False)"
   ]
  },
  {
   "cell_type": "code",
   "execution_count": null,
   "metadata": {},
   "outputs": [],
   "source": [
    "\n",
    "\n",
    "\n",
    "\n",
    "\n",
    "\n",
    "\n",
    "\n",
    "\n"
   ]
  },
  {
   "cell_type": "code",
   "execution_count": 6,
   "metadata": {},
   "outputs": [
    {
     "data": {
      "text/plain": [
       "Subject                 0\n",
       "Treatment               0\n",
       "Perinasal            7092\n",
       "Palm               134157\n",
       "Breathing           31189\n",
       "Heart               38719\n",
       "Age                  8177\n",
       "Gender               8177\n",
       "Mental Demand        8177\n",
       "Physical Demand      8177\n",
       "Temporal Demand      8177\n",
       "Performance          8177\n",
       "Effort               8177\n",
       "Frustration          8177\n",
       "NASA Total Sum       8177\n",
       "TimeElapsed             0\n",
       "dtype: int64"
      ]
     },
     "execution_count": 6,
     "metadata": {},
     "output_type": "execute_result"
    }
   ],
   "source": [
    "# CHECK NA/Null\n",
    "df.isnull().sum()"
   ]
  },
  {
   "cell_type": "code",
   "execution_count": 7,
   "metadata": {},
   "outputs": [
    {
     "data": {
      "text/plain": [
       "Subject                0\n",
       "Treatment              0\n",
       "Perinasal           7092\n",
       "Breathing          31189\n",
       "Heart              38719\n",
       "Age                 8177\n",
       "Gender              8177\n",
       "Mental Demand       8177\n",
       "Physical Demand     8177\n",
       "Temporal Demand     8177\n",
       "Performance         8177\n",
       "Effort              8177\n",
       "Frustration         8177\n",
       "NASA Total Sum      8177\n",
       "TimeElapsed            0\n",
       "dtype: int64"
      ]
     },
     "execution_count": 7,
     "metadata": {},
     "output_type": "execute_result"
    }
   ],
   "source": [
    "df.drop('Palm', axis=1, inplace=True)\n",
    "df.isnull().sum()"
   ]
  },
  {
   "cell_type": "code",
   "execution_count": 8,
   "metadata": {},
   "outputs": [
    {
     "name": "stdout",
     "output_type": "stream",
     "text": [
      "['RB' 'ST' 'PM' 'DT' 'PR']\n",
      "['RB' 'DT']\n"
     ]
    }
   ],
   "source": [
    "print(df.Treatment.unique())\n",
    "df = df[df['Treatment'].isin(['RB', 'DT'])]\n",
    "print(df.Treatment.unique())"
   ]
  },
  {
   "cell_type": "code",
   "execution_count": 9,
   "metadata": {},
   "outputs": [
    {
     "data": {
      "text/plain": [
       "Subject                0\n",
       "Treatment              0\n",
       "Perinasal           5516\n",
       "Breathing          27964\n",
       "Heart              30951\n",
       "Age                 6490\n",
       "Gender              6490\n",
       "Mental Demand       6490\n",
       "Physical Demand     6490\n",
       "Temporal Demand     6490\n",
       "Performance         6490\n",
       "Effort              6490\n",
       "Frustration         6490\n",
       "NASA Total Sum      6490\n",
       "TimeElapsed            0\n",
       "dtype: int64"
      ]
     },
     "execution_count": 9,
     "metadata": {},
     "output_type": "execute_result"
    }
   ],
   "source": [
    "df.isnull().sum()"
   ]
  },
  {
   "cell_type": "code",
   "execution_count": 10,
   "metadata": {},
   "outputs": [
    {
     "data": {
      "text/plain": [
       "array([82, 96])"
      ]
     },
     "execution_count": 10,
     "metadata": {},
     "output_type": "execute_result"
    }
   ],
   "source": [
    "df[df.Effort.isnull()].Subject.unique()"
   ]
  },
  {
   "cell_type": "code",
   "execution_count": null,
   "metadata": {},
   "outputs": [],
   "source": [
    "\n",
    "\n",
    "\n",
    "\n"
   ]
  },
  {
   "cell_type": "code",
   "execution_count": 11,
   "metadata": {},
   "outputs": [
    {
     "name": "stdout",
     "output_type": "stream",
     "text": [
      "[0.0024157914255687, 0.0332347613419816]\n",
      "[41.0, 119.0]\n",
      "[4.0, 36.1]\n"
     ]
    }
   ],
   "source": [
    "def get_range(df, col):\n",
    "    return [df[col].min(), df[col].max()]\n",
    "\n",
    "print(get_range(df, 'Perinasal'))\n",
    "print(get_range(df, 'Heart'))\n",
    "print(get_range(df, 'Breathing'))\n"
   ]
  },
  {
   "cell_type": "code",
   "execution_count": 12,
   "metadata": {},
   "outputs": [
    {
     "name": "stdout",
     "output_type": "stream",
     "text": [
      "(200536, 15)\n",
      "(151936, 15)\n",
      "[41.0, 119.0]\n",
      "[4.0, 36.1]\n"
     ]
    }
   ],
   "source": [
    "def quality_control_phase1(df, col, validMin, validMax):\n",
    "    return df[(validMin <= df[col]) & (df[col] <= validMax)]\n",
    "\n",
    "print(df.shape)\n",
    "df = quality_control_phase1(df, 'Heart', 40, 140)\n",
    "df = quality_control_phase1(df, 'Breathing', 4, 40)\n",
    "print(df.shape)\n",
    "\n",
    "print(get_range(df, 'Heart'))\n",
    "print(get_range(df, 'Breathing'))"
   ]
  },
  {
   "cell_type": "code",
   "execution_count": 13,
   "metadata": {},
   "outputs": [],
   "source": [
    "df['Perinasal_Log'] = np.log(df['Perinasal'])"
   ]
  },
  {
   "cell_type": "code",
   "execution_count": null,
   "metadata": {},
   "outputs": [],
   "source": [
    "\n",
    "\n",
    "\n",
    "\n",
    "\n",
    "\n",
    "\n",
    "\n"
   ]
  },
  {
   "cell_type": "code",
   "execution_count": 14,
   "metadata": {},
   "outputs": [],
   "source": [
    "def get_mean(df, col_name):\n",
    "    return df.groupby(['Subject', 'Treatment'])[col_name].transform('mean')\n",
    "\n",
    "def get_baseline_mean(df, col_name):\n",
    "    return df[col_name].iloc[0]"
   ]
  },
  {
   "cell_type": "code",
   "execution_count": 15,
   "metadata": {},
   "outputs": [],
   "source": [
    "df['PP_Mean'] = get_mean(df, 'Perinasal_Log')\n",
    "df['HR_Mean'] = get_mean(df, 'Heart')\n",
    "df['BR_Mean'] = get_mean(df, 'Breathing')"
   ]
  },
  {
   "cell_type": "code",
   "execution_count": 16,
   "metadata": {},
   "outputs": [],
   "source": [
    "grouped_df = df.groupby(['Subject', 'Treatment', 'PP_Mean', 'HR_Mean', 'BR_Mean'], as_index = False)['TimeElapsed'].count()\n",
    "rb_df = grouped_df[(grouped_df.Treatment == 'RB')][['Subject', 'Treatment', 'PP_Mean', 'HR_Mean', 'BR_Mean']]\n",
    "rb_df.rename(columns = {\n",
    "            'PP_Mean': 'PP_RB_Mean',\n",
    "            'HR_Mean': 'HR_RB_Mean',\n",
    "            'BR_Mean': 'BR_RB_Mean',}, inplace=True)\n",
    "rb_df.to_csv(data_dir + 'rb_data.csv', sep=',')"
   ]
  },
  {
   "cell_type": "code",
   "execution_count": null,
   "metadata": {},
   "outputs": [],
   "source": [
    "\n",
    "\n",
    "\n",
    "\n"
   ]
  },
  {
   "cell_type": "code",
   "execution_count": 17,
   "metadata": {},
   "outputs": [
    {
     "data": {
      "text/plain": [
       "array([  3,  11,  16,  19,  31,  32,  35,  46,  47,  51,  61,  63,  64,\n",
       "        65,  66,  68,  77,  78,  79,  82,  83,  84,  85,  91,  92,  93,\n",
       "        94,  96,  98,  99, 106, 112, 113, 114, 121, 122, 124, 128, 132,\n",
       "       138, 139, 141, 144, 151, 152, 154, 156, 157, 166, 172, 173, 174,\n",
       "       175, 176])"
      ]
     },
     "execution_count": 17,
     "metadata": {},
     "output_type": "execute_result"
    }
   ],
   "source": [
    "df.Subject.unique()"
   ]
  },
  {
   "cell_type": "code",
   "execution_count": 18,
   "metadata": {},
   "outputs": [
    {
     "data": {
      "text/plain": [
       "Index(['Subject', 'Treatment', 'Perinasal', 'Breathing', 'Heart', 'Age',\n",
       "       'Gender', 'Mental Demand', 'Physical Demand', 'Temporal Demand',\n",
       "       'Performance', 'Effort', 'Frustration', 'NASA Total Sum', 'TimeElapsed',\n",
       "       'Perinasal_Log', 'PP_Mean', 'HR_Mean', 'BR_Mean', 'PP_Normalized',\n",
       "       'HR_Normalized', 'BR_Normalized'],\n",
       "      dtype='object')"
      ]
     },
     "execution_count": 18,
     "metadata": {},
     "output_type": "execute_result"
    }
   ],
   "source": [
    "df_arousal = pd.DataFrame()\n",
    "\n",
    "for subj in df['Subject'].unique():\n",
    "    subj_df = df.copy()[df.Subject == subj]\n",
    "    rd_df = subj_df.copy()[subj_df.Treatment == 'RB']\n",
    "    \n",
    "    if rd_df.shape[0]:  # If there is any row for Resting Baseline\n",
    "        subj_df['PP_Normalized'] = subj_df.Perinasal_Log - get_baseline_mean(rd_df, 'PP_Mean')\n",
    "        subj_df['HR_Normalized'] = subj_df.Heart - get_baseline_mean(rd_df, 'HR_Mean')\n",
    "        subj_df['BR_Normalized'] = subj_df.Breathing - get_baseline_mean(rd_df, 'BR_Mean')\n",
    "\n",
    "        df_arousal = df_arousal.append(subj_df)\n",
    "    \n",
    "df_arousal.columns"
   ]
  },
  {
   "cell_type": "code",
   "execution_count": null,
   "metadata": {},
   "outputs": [],
   "source": [
    "\n",
    "\n",
    "\n",
    "\n"
   ]
  },
  {
   "cell_type": "code",
   "execution_count": 19,
   "metadata": {},
   "outputs": [
    {
     "name": "stdout",
     "output_type": "stream",
     "text": [
      "           Treatment\n",
      "Treatment           \n",
      "DT            137403\n",
      "RB             11533 \n",
      "\n",
      "(148936, 22) ['RB' 'DT']\n",
      "(137403, 22) ['DT']\n",
      "           Treatment\n",
      "Treatment           \n",
      "DT            137403 \n",
      "\n"
     ]
    }
   ],
   "source": [
    "print_row_count(df_arousal, 'Treatment')\n",
    "\n",
    "\n",
    "# Removing 'RB' from dataset, as 'RB' will not be included in the model\n",
    "print(df_arousal.shape, df_arousal.Treatment.unique())\n",
    "df_arousal = df_arousal[~df_arousal.Treatment.isin(['RB'])]\n",
    "print(df_arousal.shape, df_arousal.Treatment.unique())\n",
    "\n",
    "\n",
    "print_row_count(df_arousal, 'Treatment')"
   ]
  },
  {
   "cell_type": "code",
   "execution_count": 20,
   "metadata": {},
   "outputs": [
    {
     "data": {
      "text/plain": [
       "(151936, 19)"
      ]
     },
     "execution_count": 20,
     "metadata": {},
     "output_type": "execute_result"
    }
   ],
   "source": [
    "df.shape"
   ]
  },
  {
   "cell_type": "code",
   "execution_count": 21,
   "metadata": {},
   "outputs": [
    {
     "data": {
      "text/plain": [
       "Subject               0\n",
       "Treatment             0\n",
       "Perinasal          3613\n",
       "Breathing             0\n",
       "Heart                 0\n",
       "Age                6002\n",
       "Gender             6002\n",
       "Mental Demand      6002\n",
       "Physical Demand    6002\n",
       "Temporal Demand    6002\n",
       "Performance        6002\n",
       "Effort             6002\n",
       "Frustration        6002\n",
       "NASA Total Sum     6002\n",
       "TimeElapsed           0\n",
       "Perinasal_Log      3613\n",
       "PP_Mean               0\n",
       "HR_Mean               0\n",
       "BR_Mean               0\n",
       "PP_Normalized      3613\n",
       "HR_Normalized         0\n",
       "BR_Normalized         0\n",
       "dtype: int64"
      ]
     },
     "execution_count": 21,
     "metadata": {},
     "output_type": "execute_result"
    }
   ],
   "source": [
    "df_arousal.isnull().sum()"
   ]
  },
  {
   "cell_type": "markdown",
   "metadata": {},
   "source": [
    "-----------------------------------------\n",
    "# Remove the NA rows for PP, HR and BR\n",
    "-----------------------------------------"
   ]
  },
  {
   "cell_type": "code",
   "execution_count": 22,
   "metadata": {},
   "outputs": [
    {
     "name": "stdout",
     "output_type": "stream",
     "text": [
      "(137403, 22) 46\n",
      "(127800, 22) 44\n"
     ]
    }
   ],
   "source": [
    "print(df_arousal.shape, str(len(df_arousal.Subject.unique())))\n",
    "df_arousal.dropna(inplace=True)\n",
    "print(df_arousal.shape, str(len(df_arousal.Subject.unique())))"
   ]
  },
  {
   "cell_type": "code",
   "execution_count": 23,
   "metadata": {},
   "outputs": [
    {
     "data": {
      "text/plain": [
       "Subject            0\n",
       "Treatment          0\n",
       "Perinasal          0\n",
       "Breathing          0\n",
       "Heart              0\n",
       "Age                0\n",
       "Gender             0\n",
       "Mental Demand      0\n",
       "Physical Demand    0\n",
       "Temporal Demand    0\n",
       "Performance        0\n",
       "Effort             0\n",
       "Frustration        0\n",
       "NASA Total Sum     0\n",
       "TimeElapsed        0\n",
       "Perinasal_Log      0\n",
       "PP_Mean            0\n",
       "HR_Mean            0\n",
       "BR_Mean            0\n",
       "PP_Normalized      0\n",
       "HR_Normalized      0\n",
       "BR_Normalized      0\n",
       "dtype: int64"
      ]
     },
     "execution_count": 23,
     "metadata": {},
     "output_type": "execute_result"
    }
   ],
   "source": [
    "df_arousal.isnull().sum()"
   ]
  },
  {
   "cell_type": "code",
   "execution_count": 24,
   "metadata": {},
   "outputs": [
    {
     "name": "stdout",
     "output_type": "stream",
     "text": [
      "Total Subjects: 54\n",
      "[  3  11  16  19  31  32  35  46  47  51  61  63  64  65  66  68  77  78\n",
      "  79  82  83  84  85  91  92  93  94  96  98  99 106 112 113 114 121 122\n",
      " 124 128 132 138 139 141 144 151 152 154 156 157 166 172 173 174 175 176]\n",
      "\n",
      "\n",
      "After removing NA rows, Total Subjects: 44\n",
      "[  3  11  16  19  32  46  61  63  64  65  66  68  77  79  83  84  85  91\n",
      "  92  93  94  98  99 106 112 114 121 122 124 128 132 138 139 141 151 152\n",
      " 154 156 157 166 172 173 174 175]\n"
     ]
    }
   ],
   "source": [
    "print('Total Subjects: ' + str(len(df.Subject.unique())))\n",
    "unique_subjs = df.Subject.unique()\n",
    "print(unique_subjs)\n",
    "print('\\n')\n",
    "\n",
    "\n",
    "print('After removing NA rows, Total Subjects: ' + str(len(df_arousal.Subject.unique())))\n",
    "unique_subjs = df_arousal.Subject.unique()\n",
    "print(unique_subjs)"
   ]
  },
  {
   "cell_type": "code",
   "execution_count": null,
   "metadata": {},
   "outputs": [],
   "source": [
    "\n",
    "\n",
    "\n",
    "\n",
    "\n",
    "\n",
    "\n",
    "\n",
    "\n",
    "\n"
   ]
  },
  {
   "cell_type": "code",
   "execution_count": 25,
   "metadata": {},
   "outputs": [],
   "source": [
    "def get_mean(df, col_name):\n",
    "    return df[col_name].mean() \n",
    "\n",
    "def get_sd(df, col_name):\n",
    "    return stdev(df[col_name])\n",
    "\n",
    "def convert_str(num):\n",
    "    return(str(round(num, 2)))\n",
    "\n",
    "def print_mean_sd_stress_marker(signal, mean, sd, stress_marker): \n",
    "    print(signal + \":\\t\" + convert_str(mean) + u\" \\u00B1 \" + convert_str(sd) \n",
    "          + \"\\tstress_marker: \" + convert_str(stress_marker))\n"
   ]
  },
  {
   "cell_type": "code",
   "execution_count": 26,
   "metadata": {},
   "outputs": [
    {
     "name": "stdout",
     "output_type": "stream",
     "text": [
      "PP:\t0.12 ± 0.15\tstress_marker: 0.2\n",
      "PP_2:\t0.12 ± 0.15\tstress_marker: 0.12\n",
      "HR:\t-1.46 ± 8.31\tstress_marker: 0\n",
      "BR:\t2.09 ± 4.6\tstress_marker: 0\n"
     ]
    }
   ],
   "source": [
    "############################################################################################\n",
    "pp_diff_mean = get_mean(df_arousal, 'PP_Normalized')\n",
    "pp_diff_sd = get_sd(df_arousal, 'PP_Normalized')\n",
    "\n",
    "pp_stress_marker = pp_diff_mean + 0.5*pp_diff_sd\n",
    "\n",
    "df_arousal.loc[df_arousal.PP_Normalized < pp_stress_marker, 'PP_Arousal'] = 'relaxed'\n",
    "df_arousal.loc[df_arousal.PP_Normalized >= pp_stress_marker, 'PP_Arousal'] = 'stressed'\n",
    "############################################################################################\n",
    "\n",
    "\n",
    "\n",
    "############################################################################################\n",
    "pp_2_stress_marker = pp_diff_mean\n",
    "\n",
    "df_arousal.loc[df_arousal.PP_Normalized < pp_2_stress_marker, 'PP_Arousal_2'] = 'relaxed'\n",
    "df_arousal.loc[df_arousal.PP_Normalized >= pp_2_stress_marker, 'PP_Arousal_2'] = 'stressed'\n",
    "############################################################################################\n",
    "\n",
    "\n",
    "\n",
    "\n",
    "############################################################################################\n",
    "hr_diff_mean = get_mean(df_arousal, 'HR_Normalized')\n",
    "hr_diff_sd = get_sd(df_arousal, 'HR_Normalized')\n",
    "\n",
    "hr_stress_marker = 0\n",
    "\n",
    "df_arousal.loc[df_arousal.HR_Normalized < hr_stress_marker, 'HR_Arousal'] = 'relaxed'\n",
    "df_arousal.loc[df_arousal.HR_Normalized >= hr_stress_marker, 'HR_Arousal'] = 'stressed'\n",
    "############################################################################################\n",
    "\n",
    "\n",
    "\n",
    "\n",
    "############################################################################################\n",
    "br_diff_mean = get_mean(df_arousal, 'BR_Normalized')\n",
    "br_diff_sd = get_sd(df_arousal, 'BR_Normalized')\n",
    "\n",
    "br_stress_marker = 0\n",
    "\n",
    "df_arousal.loc[df_arousal.BR_Normalized < br_stress_marker, 'BR_Arousal'] = 'relaxed'\n",
    "df_arousal.loc[df_arousal.BR_Normalized >= br_stress_marker, 'BR_Arousal'] = 'stressed'\n",
    "############################################################################################\n",
    "\n",
    "    \n",
    "    \n",
    "############################################################################################\n",
    "print_mean_sd_stress_marker('PP', pp_diff_mean, pp_diff_sd, pp_stress_marker)\n",
    "print_mean_sd_stress_marker('PP_2', pp_diff_mean, pp_diff_sd, pp_2_stress_marker)\n",
    "print_mean_sd_stress_marker('HR', hr_diff_mean, hr_diff_sd, hr_stress_marker)\n",
    "print_mean_sd_stress_marker('BR', br_diff_mean, br_diff_sd, br_stress_marker)\n",
    "############################################################################################\n",
    "\n",
    "# ############################################################################################\n",
    "# print(round(pp_diff_mean, 2), round(pp_diff_sd, 2), round(pp_stress_marker, 2))\n",
    "# print(round(pp_diff_mean, 2), round(pp_diff_sd, 2), round(pp_2_stress_marker, 2))\n",
    "# print(round(hr_diff_mean, 2), round(hr_diff_sd, 2), round(hr_stress_marker, 2))\n",
    "# print(round(br_diff_mean, 2), round(br_diff_sd, 2), round(br_stress_marker, 2))\n",
    "# ############################################################################################\n",
    "\n",
    "\n",
    "\n",
    "# 'PP_Normalized', 'HR_Normalized', 'BR_Normalized'"
   ]
  },
  {
   "cell_type": "code",
   "execution_count": null,
   "metadata": {},
   "outputs": [],
   "source": [
    "\n",
    "\n",
    "\n",
    "\n",
    "\n",
    "\n",
    "\n",
    "\n",
    "\n"
   ]
  },
  {
   "cell_type": "code",
   "execution_count": 27,
   "metadata": {},
   "outputs": [
    {
     "name": "stderr",
     "output_type": "stream",
     "text": [
      "No artists with labels found to put in legend.  Note that artists whose label start with an underscore are ignored when legend() is called with no argument.\n",
      "No artists with labels found to put in legend.  Note that artists whose label start with an underscore are ignored when legend() is called with no argument.\n",
      "No artists with labels found to put in legend.  Note that artists whose label start with an underscore are ignored when legend() is called with no argument.\n",
      "No artists with labels found to put in legend.  Note that artists whose label start with an underscore are ignored when legend() is called with no argument.\n"
     ]
    },
    {
     "data": {
      "image/png": "[encoded data removed]",
      "text/plain": [
       "<Figure size 1440x864 with 4 Axes>"
      ]
     },
     "metadata": {
      "needs_background": "light"
     },
     "output_type": "display_data"
    }
   ],
   "source": [
    "line_width = 2\n",
    "palette ={\"relaxed\": \"lightgreen\", \"stressed\": \"red\"}\n",
    "\n",
    "\n",
    "fig = plt.figure()\n",
    "\n",
    "# https://stackoverflow.com/questions/332289/how-do-you-change-the-size-of-figures-drawn-with-matplotlib\n",
    "fig.set_size_inches(20, 12, forward=True)\n",
    "fig.subplots_adjust(\n",
    "    top=0.98,\n",
    "    bottom=0.049,\n",
    "    left=0.042,\n",
    "    right=0.98,\n",
    "    hspace=0.4,\n",
    "    wspace=0.15\n",
    ")\n",
    "\n",
    "for i, label in enumerate(('A', 'B', 'C', 'D')):\n",
    "# for i, label in enumerate(('A')):\n",
    "    ax = fig.add_subplot(2, 2, i+1)\n",
    "    generate_arousal_extraction_plots(df_arousal, i)\n",
    "    ax.text(-0.05, \n",
    "            1.1, \n",
    "            label, \n",
    "            transform=ax.transAxes,\n",
    "            fontsize=24, \n",
    "            fontweight='bold', \n",
    "            va='top', \n",
    "            ha='left')\n",
    "    \n",
    "      \n",
    "# fig.tight_layout()\n",
    "fig.savefig(fig_dir + 'ot_pp_br_hr_arousal_extraction.pdf', dpi=300, bbox_inches='tight')\n",
    "plt.show()"
   ]
  },
  {
   "cell_type": "code",
   "execution_count": 28,
   "metadata": {},
   "outputs": [
    {
     "data": {
      "image/png": "[encoded data removed]",
      "text/plain": [
       "<Figure size 1440x864 with 3 Axes>"
      ]
     },
     "metadata": {
      "needs_background": "light"
     },
     "output_type": "display_data"
    }
   ],
   "source": [
    "fig = plt.figure()\n",
    "\n",
    "# https://stackoverflow.com/questions/332289/how-do-you-change-the-size-of-figures-drawn-with-matplotlib\n",
    "fig.set_size_inches(20, 12, forward=True)\n",
    "fig.subplots_adjust(\n",
    "    top=0.98,\n",
    "    bottom=0.049,\n",
    "    left=0.042,\n",
    "    right=0.98,\n",
    "    hspace=0.4,\n",
    "    wspace=0.15\n",
    ")\n",
    "\n",
    "for i, label in enumerate(('A', 'B', 'C')):\n",
    "# for i, label in enumerate(('A')):\n",
    "    ax = fig.add_subplot(2, 2, i+1)\n",
    "    df_arousal = generate_ecdf_plots(df_arousal, i)\n",
    "    ax.text(-0.05, \n",
    "            1.1, \n",
    "            label, \n",
    "            transform=ax.transAxes,\n",
    "            fontsize=24, \n",
    "            fontweight='bold', \n",
    "            va='top', \n",
    "            ha='left')\n",
    "    \n",
    "      \n",
    "# fig.tight_layout()\n",
    "fig.savefig(fig_dir + 'ot_pp_br_hr_ecdf.png', dpi=300, bbox_inches='tight')\n",
    "fig.savefig(fig_dir + 'ot_pp_br_hr_ecdf.pdf', dpi=300, bbox_inches='tight')\n",
    "plt.show()   "
   ]
  },
  {
   "cell_type": "code",
   "execution_count": null,
   "metadata": {},
   "outputs": [],
   "source": [
    "\n",
    "\n",
    "\n",
    "\n",
    "\n",
    "\n",
    "\n",
    "\n"
   ]
  },
  {
   "cell_type": "code",
   "execution_count": 29,
   "metadata": {},
   "outputs": [
    {
     "name": "stdout",
     "output_type": "stream",
     "text": [
      "                 PP_Arousal_ecdf\n",
      "PP_Arousal_ecdf                 \n",
      "neutral                     34.0\n",
      "relaxed                     33.0\n",
      "stressed                    33.0 \n",
      "\n",
      "                 HR_Arousal_ecdf\n",
      "HR_Arousal_ecdf                 \n",
      "neutral                    33.85\n",
      "relaxed                    33.00\n",
      "stressed                   33.15 \n",
      "\n",
      "                 BR_Arousal_ecdf\n",
      "BR_Arousal_ecdf                 \n",
      "neutral                    34.05\n",
      "relaxed                    32.95\n",
      "stressed                   33.00 \n",
      "\n",
      "                    PP_HR_Arousal_ecdf\n",
      "PP_HR_Arousal_ecdf                    \n",
      "neutral                           51.1\n",
      "relaxed                           24.2\n",
      "stressed                          24.7 \n",
      "\n",
      "                    PP_BR_Arousal_ecdf\n",
      "PP_BR_Arousal_ecdf                    \n",
      "neutral                          57.20\n",
      "relaxed                          20.96\n",
      "stressed                         21.84 \n",
      "\n",
      "                    HR_BR_Arousal_ecdf\n",
      "HR_BR_Arousal_ecdf                    \n",
      "neutral                          54.66\n",
      "relaxed                          22.86\n",
      "stressed                         22.49 \n",
      "\n",
      "                       PP_HR_BR_Arousal_ecdf\n",
      "PP_HR_BR_Arousal_ecdf                       \n",
      "neutral                                61.68\n",
      "relaxed                                19.89\n",
      "stressed                               18.43 \n",
      "\n"
     ]
    }
   ],
   "source": [
    "signals = ['PP', 'HR', 'BR']\n",
    "df_arousal = generate_ecdf_arousal_cols(df_arousal, signals)"
   ]
  },
  {
   "cell_type": "code",
   "execution_count": 30,
   "metadata": {},
   "outputs": [
    {
     "name": "stdout",
     "output_type": "stream",
     "text": [
      "['DT']\n",
      "Index(['Subject', 'Treatment', 'Perinasal', 'Breathing', 'Heart', 'Age',\n",
      "       'Gender', 'Mental Demand', 'Physical Demand', 'Temporal Demand',\n",
      "       'Performance', 'Effort', 'Frustration', 'NASA Total Sum', 'TimeElapsed',\n",
      "       'Perinasal_Log', 'PP_Mean', 'HR_Mean', 'BR_Mean', 'PP_Normalized',\n",
      "       'HR_Normalized', 'BR_Normalized', 'PP_Arousal', 'PP_Arousal_2',\n",
      "       'HR_Arousal', 'BR_Arousal', 'PP_ecdf', 'HR_ecdf', 'BR_ecdf',\n",
      "       'PP_HR_ecdf', 'PP_BR_ecdf', 'HR_BR_ecdf', 'PP_HR_BR_ecdf',\n",
      "       'PP_Arousal_ecdf', 'HR_Arousal_ecdf', 'BR_Arousal_ecdf',\n",
      "       'PP_HR_Arousal_ecdf', 'PP_BR_Arousal_ecdf', 'HR_BR_Arousal_ecdf',\n",
      "       'PP_HR_BR_Arousal_ecdf'],\n",
      "      dtype='object')\n"
     ]
    }
   ],
   "source": [
    "df_arousal.to_csv(data_dir + \"data_2.5.csv\", sep=',')\n",
    "print(df_arousal.Treatment.unique())\n",
    "print(df_arousal.columns)"
   ]
  },
  {
   "cell_type": "code",
   "execution_count": null,
   "metadata": {},
   "outputs": [],
   "source": [
    "\n",
    "\n",
    "\n",
    "\n",
    "\n",
    "\n",
    "\n",
    "\n",
    "\n",
    "\n",
    "\n"
   ]
  },
  {
   "cell_type": "code",
   "execution_count": 31,
   "metadata": {},
   "outputs": [
    {
     "name": "stdout",
     "output_type": "stream",
     "text": [
      "Subject Processing: \n",
      "3\n",
      "11\n",
      "16\n",
      "19\n",
      "32\n",
      "                 PP_Arousal_Mode\n",
      "PP_Arousal_Mode                 \n",
      "neutral                    50.20\n",
      "relaxed                    11.67\n",
      "stressed                   38.12 \n",
      "\n",
      "                 HR_Arousal_Mode\n",
      "HR_Arousal_Mode                 \n",
      "neutral                    20.72\n",
      "relaxed                    27.94\n",
      "stressed                   51.35 \n",
      "\n",
      "                 BR_Arousal_Mode\n",
      "BR_Arousal_Mode                 \n",
      "neutral                    20.85\n",
      "relaxed                    57.76\n",
      "stressed                   21.39 \n",
      "\n",
      "                    PP_HR_Arousal_Mode\n",
      "PP_HR_Arousal_Mode                    \n",
      "neutral                          40.08\n",
      "relaxed                          13.63\n",
      "stressed                         46.29 \n",
      "\n",
      "                    PP_BR_Arousal_Mode\n",
      "PP_BR_Arousal_Mode                    \n",
      "neutral                          61.47\n",
      "relaxed                          24.97\n",
      "stressed                         13.56 \n",
      "\n",
      "                    HR_BR_Arousal_Mode\n",
      "HR_BR_Arousal_Mode                    \n",
      "neutral                          58.57\n",
      "relaxed                          24.29\n",
      "stressed                         17.14 \n",
      "\n",
      "                       PP_HR_BR_Arousal_Mode\n",
      "PP_HR_BR_Arousal_Mode                       \n",
      "neutral                                63.77\n",
      "relaxed                                18.02\n",
      "stressed                               18.22 \n",
      "\n"
     ]
    }
   ],
   "source": [
    "final_df = get_non_overlapping_aggregrated_df(df_arousal)"
   ]
  },
  {
   "cell_type": "code",
   "execution_count": 32,
   "metadata": {},
   "outputs": [
    {
     "name": "stdout",
     "output_type": "stream",
     "text": [
      "           Treatment\n",
      "Treatment           \n",
      "DT              1482 \n",
      "\n",
      "(1482, 31) ['DT']\n",
      "(1482, 31) ['DT']\n",
      "(1482, 31)\n",
      "(1482, 31)\n",
      "           Treatment\n",
      "Treatment           \n",
      "DT              1482 \n",
      "\n"
     ]
    }
   ],
   "source": [
    "print_row_count(final_df, 'Treatment')\n",
    "\n",
    "print(final_df.shape, final_df.Treatment.unique())\n",
    "final_df = final_df[~final_df.Treatment.isin(['RB'])]\n",
    "print(final_df.shape, final_df.Treatment.unique())\n",
    "\n",
    "\n",
    "print(final_df.shape)\n",
    "final_df = final_df.dropna()\n",
    "print(final_df.shape)\n",
    "\n",
    "print_row_count(final_df, 'Treatment')"
   ]
  },
  {
   "cell_type": "code",
   "execution_count": 33,
   "metadata": {},
   "outputs": [
    {
     "data": {
      "text/plain": [
       "Subject                  0\n",
       "Treatment                0\n",
       "Age                      0\n",
       "Effort                   0\n",
       "Frustration              0\n",
       "Mental_Demand            0\n",
       "Performance              0\n",
       "Physical_Demand          0\n",
       "Temporal_Demand          0\n",
       "NASA_Total_Sum           0\n",
       "PP_Arousal_Mode          0\n",
       "HR_Arousal_Mode          0\n",
       "BR_Arousal_Mode          0\n",
       "PP_HR_Arousal_Mode       0\n",
       "PP_BR_Arousal_Mode       0\n",
       "HR_BR_Arousal_Mode       0\n",
       "PP_HR_BR_Arousal_Mode    0\n",
       "PP_Mean                  0\n",
       "PP_Median                0\n",
       "PP_SD                    0\n",
       "PP_SS                    0\n",
       "Hr_Mean                  0\n",
       "Hr_Median                0\n",
       "Hr_SD                    0\n",
       "Hr_SS                    0\n",
       "Br_Mean                  0\n",
       "Br_Median                0\n",
       "Br_SD                    0\n",
       "Br_SS                    0\n",
       "Gender_Female            0\n",
       "Gender_Male              0\n",
       "dtype: int64"
      ]
     },
     "execution_count": 33,
     "metadata": {},
     "output_type": "execute_result"
    }
   ],
   "source": [
    "final_df.isnull().sum()"
   ]
  },
  {
   "cell_type": "code",
   "execution_count": 34,
   "metadata": {},
   "outputs": [],
   "source": [
    "final_df.to_csv(data_dir + \"data_3.csv\", sep=',', index=False)"
   ]
  },
  {
   "cell_type": "code",
   "execution_count": null,
   "metadata": {},
   "outputs": [],
   "source": [
    "\n",
    "\n",
    "\n",
    "\n",
    "\n",
    "\n",
    "\n",
    "\n",
    "\n",
    "\n",
    "\n",
    "\n",
    "\n",
    "\n"
   ]
  },
  {
   "cell_type": "markdown",
   "metadata": {},
   "source": [
    "-----------------------------------------------------\n",
    "# This part is to get info for paper/report\n",
    "-----------------------------------------------------"
   ]
  },
  {
   "cell_type": "code",
   "execution_count": 35,
   "metadata": {},
   "outputs": [
    {
     "data": {
      "text/html": [
       "<div>\n",
       "<style scoped>\n",
       "    .dataframe tbody tr th:only-of-type {\n",
       "        vertical-align: middle;\n",
       "    }\n",
       "\n",
       "    .dataframe tbody tr th {\n",
       "        vertical-align: top;\n",
       "    }\n",
       "\n",
       "    .dataframe thead th {\n",
       "        text-align: right;\n",
       "    }\n",
       "</style>\n",
       "<table border=\"1\" class=\"dataframe\">\n",
       "  <thead>\n",
       "    <tr style=\"text-align: right;\">\n",
       "      <th></th>\n",
       "      <th>Subject</th>\n",
       "      <th>Treatment</th>\n",
       "      <th>Age</th>\n",
       "      <th>Effort</th>\n",
       "      <th>Frustration</th>\n",
       "      <th>Mental_Demand</th>\n",
       "      <th>Performance</th>\n",
       "      <th>Physical_Demand</th>\n",
       "      <th>Temporal_Demand</th>\n",
       "      <th>NASA_Total_Sum</th>\n",
       "      <th>PP_Arousal_Mode</th>\n",
       "      <th>HR_Arousal_Mode</th>\n",
       "      <th>BR_Arousal_Mode</th>\n",
       "      <th>PP_HR_Arousal_Mode</th>\n",
       "      <th>PP_BR_Arousal_Mode</th>\n",
       "      <th>HR_BR_Arousal_Mode</th>\n",
       "      <th>PP_HR_BR_Arousal_Mode</th>\n",
       "      <th>PP_Mean</th>\n",
       "      <th>PP_Median</th>\n",
       "      <th>PP_SD</th>\n",
       "      <th>PP_SS</th>\n",
       "      <th>Hr_Mean</th>\n",
       "      <th>Hr_Median</th>\n",
       "      <th>Hr_SD</th>\n",
       "      <th>Hr_SS</th>\n",
       "      <th>Br_Mean</th>\n",
       "      <th>Br_Median</th>\n",
       "      <th>Br_SD</th>\n",
       "      <th>Br_SS</th>\n",
       "      <th>Gender_Female</th>\n",
       "      <th>Gender_Male</th>\n",
       "    </tr>\n",
       "  </thead>\n",
       "  <tbody>\n",
       "    <tr>\n",
       "      <th>0</th>\n",
       "      <td>3</td>\n",
       "      <td>DT</td>\n",
       "      <td>23.0</td>\n",
       "      <td>17.142857</td>\n",
       "      <td>14.285714</td>\n",
       "      <td>17.142857</td>\n",
       "      <td>14.285714</td>\n",
       "      <td>14.285714</td>\n",
       "      <td>17.142857</td>\n",
       "      <td>94.285714</td>\n",
       "      <td>neutral</td>\n",
       "      <td>relaxed</td>\n",
       "      <td>relaxed</td>\n",
       "      <td>neutral</td>\n",
       "      <td>relaxed</td>\n",
       "      <td>relaxed</td>\n",
       "      <td>relaxed</td>\n",
       "      <td>0.132722</td>\n",
       "      <td>0.132768</td>\n",
       "      <td>0.007949</td>\n",
       "      <td>0.176720</td>\n",
       "      <td>-6.36595</td>\n",
       "      <td>-6.46595</td>\n",
       "      <td>1.370320</td>\n",
       "      <td>422.153171</td>\n",
       "      <td>-4.769928</td>\n",
       "      <td>-4.729928</td>\n",
       "      <td>1.009345</td>\n",
       "      <td>236.691161</td>\n",
       "      <td>1</td>\n",
       "      <td>0</td>\n",
       "    </tr>\n",
       "    <tr>\n",
       "      <th>1</th>\n",
       "      <td>3</td>\n",
       "      <td>DT</td>\n",
       "      <td>23.0</td>\n",
       "      <td>17.142857</td>\n",
       "      <td>14.285714</td>\n",
       "      <td>17.142857</td>\n",
       "      <td>14.285714</td>\n",
       "      <td>14.285714</td>\n",
       "      <td>17.142857</td>\n",
       "      <td>94.285714</td>\n",
       "      <td>neutral</td>\n",
       "      <td>relaxed</td>\n",
       "      <td>relaxed</td>\n",
       "      <td>neutral</td>\n",
       "      <td>relaxed</td>\n",
       "      <td>relaxed</td>\n",
       "      <td>relaxed</td>\n",
       "      <td>0.107029</td>\n",
       "      <td>0.106407</td>\n",
       "      <td>0.006930</td>\n",
       "      <td>0.114983</td>\n",
       "      <td>-7.36595</td>\n",
       "      <td>-7.46595</td>\n",
       "      <td>3.314949</td>\n",
       "      <td>641.472168</td>\n",
       "      <td>-2.799928</td>\n",
       "      <td>-2.729928</td>\n",
       "      <td>0.404969</td>\n",
       "      <td>79.871986</td>\n",
       "      <td>1</td>\n",
       "      <td>0</td>\n",
       "    </tr>\n",
       "    <tr>\n",
       "      <th>2</th>\n",
       "      <td>3</td>\n",
       "      <td>DT</td>\n",
       "      <td>23.0</td>\n",
       "      <td>17.142857</td>\n",
       "      <td>14.285714</td>\n",
       "      <td>17.142857</td>\n",
       "      <td>14.285714</td>\n",
       "      <td>14.285714</td>\n",
       "      <td>17.142857</td>\n",
       "      <td>94.285714</td>\n",
       "      <td>neutral</td>\n",
       "      <td>relaxed</td>\n",
       "      <td>relaxed</td>\n",
       "      <td>relaxed</td>\n",
       "      <td>relaxed</td>\n",
       "      <td>relaxed</td>\n",
       "      <td>relaxed</td>\n",
       "      <td>0.086558</td>\n",
       "      <td>0.086510</td>\n",
       "      <td>0.005469</td>\n",
       "      <td>0.075192</td>\n",
       "      <td>-7.66595</td>\n",
       "      <td>-7.96595</td>\n",
       "      <td>1.549193</td>\n",
       "      <td>609.267867</td>\n",
       "      <td>-2.339928</td>\n",
       "      <td>-2.379928</td>\n",
       "      <td>0.142984</td>\n",
       "      <td>54.936645</td>\n",
       "      <td>1</td>\n",
       "      <td>0</td>\n",
       "    </tr>\n",
       "    <tr>\n",
       "      <th>3</th>\n",
       "      <td>3</td>\n",
       "      <td>DT</td>\n",
       "      <td>23.0</td>\n",
       "      <td>17.142857</td>\n",
       "      <td>14.285714</td>\n",
       "      <td>17.142857</td>\n",
       "      <td>14.285714</td>\n",
       "      <td>14.285714</td>\n",
       "      <td>17.142857</td>\n",
       "      <td>94.285714</td>\n",
       "      <td>neutral</td>\n",
       "      <td>relaxed</td>\n",
       "      <td>relaxed</td>\n",
       "      <td>relaxed</td>\n",
       "      <td>relaxed</td>\n",
       "      <td>relaxed</td>\n",
       "      <td>relaxed</td>\n",
       "      <td>0.072455</td>\n",
       "      <td>0.072068</td>\n",
       "      <td>0.002871</td>\n",
       "      <td>0.052572</td>\n",
       "      <td>-6.96595</td>\n",
       "      <td>-7.46595</td>\n",
       "      <td>2.505549</td>\n",
       "      <td>541.744569</td>\n",
       "      <td>-1.689928</td>\n",
       "      <td>-1.829928</td>\n",
       "      <td>0.398469</td>\n",
       "      <td>29.987577</td>\n",
       "      <td>1</td>\n",
       "      <td>0</td>\n",
       "    </tr>\n",
       "    <tr>\n",
       "      <th>4</th>\n",
       "      <td>3</td>\n",
       "      <td>DT</td>\n",
       "      <td>23.0</td>\n",
       "      <td>17.142857</td>\n",
       "      <td>14.285714</td>\n",
       "      <td>17.142857</td>\n",
       "      <td>14.285714</td>\n",
       "      <td>14.285714</td>\n",
       "      <td>17.142857</td>\n",
       "      <td>94.285714</td>\n",
       "      <td>neutral</td>\n",
       "      <td>relaxed</td>\n",
       "      <td>relaxed</td>\n",
       "      <td>relaxed</td>\n",
       "      <td>relaxed</td>\n",
       "      <td>relaxed</td>\n",
       "      <td>relaxed</td>\n",
       "      <td>0.067545</td>\n",
       "      <td>0.067403</td>\n",
       "      <td>0.000387</td>\n",
       "      <td>0.045625</td>\n",
       "      <td>-7.46595</td>\n",
       "      <td>-7.46595</td>\n",
       "      <td>2.000000</td>\n",
       "      <td>593.404067</td>\n",
       "      <td>-0.289928</td>\n",
       "      <td>-0.279928</td>\n",
       "      <td>0.251440</td>\n",
       "      <td>1.409584</td>\n",
       "      <td>1</td>\n",
       "      <td>0</td>\n",
       "    </tr>\n",
       "  </tbody>\n",
       "</table>\n",
       "</div>"
      ],
      "text/plain": [
       "   Subject Treatment   Age     Effort  Frustration  Mental_Demand  \\\n",
       "0        3        DT  23.0  17.142857    14.285714      17.142857   \n",
       "1        3        DT  23.0  17.142857    14.285714      17.142857   \n",
       "2        3        DT  23.0  17.142857    14.285714      17.142857   \n",
       "3        3        DT  23.0  17.142857    14.285714      17.142857   \n",
       "4        3        DT  23.0  17.142857    14.285714      17.142857   \n",
       "\n",
       "   Performance  Physical_Demand  Temporal_Demand  NASA_Total_Sum  \\\n",
       "0    14.285714        14.285714        17.142857       94.285714   \n",
       "1    14.285714        14.285714        17.142857       94.285714   \n",
       "2    14.285714        14.285714        17.142857       94.285714   \n",
       "3    14.285714        14.285714        17.142857       94.285714   \n",
       "4    14.285714        14.285714        17.142857       94.285714   \n",
       "\n",
       "  PP_Arousal_Mode HR_Arousal_Mode BR_Arousal_Mode PP_HR_Arousal_Mode  \\\n",
       "0         neutral         relaxed         relaxed            neutral   \n",
       "1         neutral         relaxed         relaxed            neutral   \n",
       "2         neutral         relaxed         relaxed            relaxed   \n",
       "3         neutral         relaxed         relaxed            relaxed   \n",
       "4         neutral         relaxed         relaxed            relaxed   \n",
       "\n",
       "  PP_BR_Arousal_Mode HR_BR_Arousal_Mode PP_HR_BR_Arousal_Mode   PP_Mean  \\\n",
       "0            relaxed            relaxed               relaxed  0.132722   \n",
       "1            relaxed            relaxed               relaxed  0.107029   \n",
       "2            relaxed            relaxed               relaxed  0.086558   \n",
       "3            relaxed            relaxed               relaxed  0.072455   \n",
       "4            relaxed            relaxed               relaxed  0.067545   \n",
       "\n",
       "   PP_Median     PP_SD     PP_SS  Hr_Mean  Hr_Median     Hr_SD       Hr_SS  \\\n",
       "0   0.132768  0.007949  0.176720 -6.36595   -6.46595  1.370320  422.153171   \n",
       "1   0.106407  0.006930  0.114983 -7.36595   -7.46595  3.314949  641.472168   \n",
       "2   0.086510  0.005469  0.075192 -7.66595   -7.96595  1.549193  609.267867   \n",
       "3   0.072068  0.002871  0.052572 -6.96595   -7.46595  2.505549  541.744569   \n",
       "4   0.067403  0.000387  0.045625 -7.46595   -7.46595  2.000000  593.404067   \n",
       "\n",
       "    Br_Mean  Br_Median     Br_SD       Br_SS  Gender_Female  Gender_Male  \n",
       "0 -4.769928  -4.729928  1.009345  236.691161              1            0  \n",
       "1 -2.799928  -2.729928  0.404969   79.871986              1            0  \n",
       "2 -2.339928  -2.379928  0.142984   54.936645              1            0  \n",
       "3 -1.689928  -1.829928  0.398469   29.987577              1            0  \n",
       "4 -0.289928  -0.279928  0.251440    1.409584              1            0  "
      ]
     },
     "execution_count": 35,
     "metadata": {},
     "output_type": "execute_result"
    }
   ],
   "source": [
    "final_df = pd.read_csv(data_dir + \"data_3.csv\")\n",
    "final_df.head()"
   ]
  },
  {
   "cell_type": "code",
   "execution_count": 36,
   "metadata": {},
   "outputs": [
    {
     "name": "stdout",
     "output_type": "stream",
     "text": [
      "Male: 2\n",
      "Female: 3\n"
     ]
    }
   ],
   "source": [
    "# final_df.groupby('Subject')['Gender_Male'].sum()\n",
    "\n",
    "print(\"Male: \" + str(final_df.groupby(['Subject', 'Gender_Male'])['Gender_Male'].sum().agg(lambda x: x.ne(0).sum())))\n",
    "print(\"Female: \" + str(final_df.groupby(['Subject', 'Gender_Male'])['Gender_Male'].sum().agg(lambda x: x.eq(0).sum())))"
   ]
  },
  {
   "cell_type": "code",
   "execution_count": 37,
   "metadata": {},
   "outputs": [
    {
     "name": "stdout",
     "output_type": "stream",
     "text": [
      "19.0 24.0\n"
     ]
    }
   ],
   "source": [
    "print(final_df.Age.min(), final_df.Age.max())"
   ]
  },
  {
   "cell_type": "code",
   "execution_count": 38,
   "metadata": {},
   "outputs": [
    {
     "name": "stdout",
     "output_type": "stream",
     "text": [
      "Total Subjects: 5\n",
      "Total Data: 1482\n"
     ]
    }
   ],
   "source": [
    "print(\"Total Subjects: \" + str(len(final_df.Subject.unique())))\n",
    "print(\"Total Data: \" + str(final_df.shape[0]))"
   ]
  },
  {
   "cell_type": "code",
   "execution_count": null,
   "metadata": {},
   "outputs": [],
   "source": [
    "\n",
    "\n",
    "\n",
    "\n",
    "\n",
    "\n",
    "\n",
    "\n",
    "\n",
    "\n",
    "\n",
    "\n",
    "\n",
    "\n",
    "\n",
    "\n"
   ]
  },
  {
   "cell_type": "code",
   "execution_count": 39,
   "metadata": {},
   "outputs": [],
   "source": [
    "# def get_non_overlapping_window_df(df_arousal):\n",
    "#     window_df = pd.DataFrame()\n",
    "    \n",
    "#     print('Subject Processing: ')\n",
    "#     for subj in df_arousal.Subject.unique():\n",
    "#     # for subj in df_arousal.Subject.unique()[:1]:\n",
    "#         print(subj)\n",
    "        \n",
    "#         for treatment in df_arousal.Treatment.unique():\n",
    "#             subj_treatment_df = df_arousal.copy()[(df_arousal['Subject'] == subj) & (df_arousal['Treatment'] == treatment)]\n",
    "#             # print(subj, treatment, len(subj_treatment_df))\n",
    "\n",
    "#             i = 0\n",
    "#             totalRows = subj_treatment_df.shape[0]\n",
    "            \n",
    "#             while i+2 < totalRows: # proceed for atleast 3 rows\n",
    "#                 subj_treatment_window_df = subj_treatment_df.copy().iloc[i: min(totalRows, i+10)]\n",
    "#                 i += 10\n",
    "                \n",
    "                \n",
    "#                 subj_treatment_window_first_row = subj_treatment_window_df.iloc[0]\n",
    "                \n",
    "#                 temp_df = pd.DataFrame({'Subject': [subj], \n",
    "#                                         'Treatment': [treatment], \n",
    "#                                         'Gender': [subj_treatment_window_first_row.Gender],\n",
    "#                                         'Age': [subj_treatment_window_first_row.Age],\n",
    "# #                                         'STAI': [subj_treatment_window_first_row.STAI],\n",
    "# #                                         'Type_AB': [subj_treatment_window_first_row.Type_AB],\n",
    "# #                                         'Drive_Label': [subj_treatment_window_first_row.Drive_Label],\n",
    "#                                         'Effort': [subj_treatment_window_first_row.Effort],\n",
    "#                                         'Frustration': [subj_treatment_window_first_row.Frustration],\n",
    "#                                         'Mental_Demand': [subj_treatment_window_first_row['Mental Demand']],\n",
    "#                                         'Performance': [subj_treatment_window_first_row['Performance']],\n",
    "#                                         'Physical_Demand': [subj_treatment_window_first_row['Physical Demand']],\n",
    "#                                         'Temporal_Demand': [subj_treatment_window_first_row['Temporal Demand']],\n",
    "#                                         'NASA_Total_Sum': [subj_treatment_window_first_row['NASA Total Sum']]\n",
    "#                                        })\n",
    "                \n",
    "#                 # temp_df['PP_Arousal_Mode'] = subj_treatment_window_df.PP_Arousal.mode()\n",
    "#                 # temp_df['PP_2_Arousal_Mode'] = subj_treatment_window_df.PP_Arousal_2.mode()\n",
    "#                 # temp_df['HR_Arousal_Mode'] = subj_treatment_window_df.HR_Arousal.mode()\n",
    "#                 # temp_df['BR_Arousal_Mode'] = subj_treatment_window_df.BR_Arousal.mode()\n",
    "                \n",
    "                \n",
    "#                 temp_df['PP_Arousal_Mode_Hist'] = subj_treatment_window_df.PP_Arousal.mode()\n",
    "#                 temp_df['PP_2_Arousal_Mode_Hist'] = subj_treatment_window_df.PP_Arousal_2.mode()\n",
    "#                 temp_df['HR_Arousal_Mode_Hist'] = subj_treatment_window_df.HR_Arousal.mode()\n",
    "#                 temp_df['BR_Arousal_Mode_Hist'] = subj_treatment_window_df.BR_Arousal.mode()\n",
    "                \n",
    "#                 temp_df['PP_Arousal_Mode_ecdf'] = subj_treatment_window_df.PP_Arousal_ecdf.mode()\n",
    "#                 temp_df['HR_Arousal_Mode_ecdf'] = subj_treatment_window_df.HR_Arousal_ecdf.mode()\n",
    "#                 temp_df['BR_Arousal_Mode_ecdf'] = subj_treatment_window_df.BR_Arousal_ecdf.mode()\n",
    "                \n",
    "                \n",
    "\n",
    "#                 temp_df['Perinasal_Mean'] = subj_treatment_window_df.Perinasal_Log.mean()\n",
    "#                 temp_df['Perinasal_Median'] = subj_treatment_window_df.Perinasal_Log.median()\n",
    "#                 temp_df['Perinasal_SD'] = stdev(subj_treatment_window_df.Perinasal_Log)\n",
    "#                 temp_df['Perinasal_SS'] = sum_of_squares(subj_treatment_window_df.Perinasal_Log)\n",
    "                \n",
    "#                 temp_df['Hr_Mean'] = subj_treatment_window_df.Heart.mean()\n",
    "#                 temp_df['Hr_Median'] = subj_treatment_window_df.Heart.median()\n",
    "#                 temp_df['Hr_SD'] = stdev(subj_treatment_window_df.Heart)\n",
    "#                 temp_df['Hr_SS'] = sum_of_squares(subj_treatment_window_df.Heart)\n",
    "                \n",
    "#                 temp_df['Br_Mean'] = subj_treatment_window_df.Breathing.mean()\n",
    "#                 temp_df['Br_Median'] = subj_treatment_window_df.Breathing.median()\n",
    "#                 temp_df['Br_SD'] = stdev(subj_treatment_window_df.Breathing)\n",
    "#                 temp_df['Br_SS'] = sum_of_squares(subj_treatment_window_df.Breathing)\n",
    "  \n",
    "#                 window_df = window_df.append(temp_df)\n",
    "                \n",
    "#     return window_df\n",
    "\n",
    "# final_df = get_non_overlapping_window_df(df_arousal)"
   ]
  }
 ],
 "metadata": {
  "kernelspec": {
   "display_name": "Python 3 (ipykernel)",
   "language": "python",
   "name": "python3"
  },
  "language_info": {
   "codemirror_mode": {
    "name": "ipython",
    "version": 3
   },
   "file_extension": ".py",
   "mimetype": "text/x-python",
   "name": "python",
   "nbconvert_exporter": "python",
   "pygments_lexer": "ipython3",
   "version": "3.7.4"
  }
 },
 "nbformat": 4,
 "nbformat_minor": 4
}
