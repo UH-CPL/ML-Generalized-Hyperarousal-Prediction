{
 "cells": [
  {
   "cell_type": "code",
   "execution_count": 169,
   "metadata": {},
   "outputs": [],
   "source": [
    "import pandas as pd\n",
    "import numpy as np\n",
    "\n",
    "from statistics import stdev\n",
    "from scipy.stats import mode\n",
    "\n",
    "from IPython.display import IFrame, display\n",
    "\n",
    "import matplotlib.pyplot as plt\n",
    "import seaborn as sns\n",
    "\n",
    "\n",
    "# from sklearn.model_selection import train_test_split, RandomizedSearchCV\n",
    "# from sklearn.ensemble import RandomForestClassifier\n",
    "# from sklearn.metrics import accuracy_score, f1_score, recall_score, precision_score, confusion_matrix, ConfusionMatrixDisplay\n",
    "\n",
    "\n",
    "\n",
    "\n",
    "\n",
    "%run ../all_studies/us_common_functions.ipynb\n",
    "\n",
    "\n",
    "\n",
    "\n",
    "\n",
    "\n",
    "#########################################\n",
    "window_size=10\n",
    "overlappping_window=False\n",
    "#########################################\n",
    "\n",
    "\n",
    "\n",
    "\n",
    "data_dir = '../../data/sim2/'\n",
    "fig_dir = '../../figure/sim2/'\n",
    "\n",
    "\n",
    "\n"
   ]
  },
  {
   "cell_type": "code",
   "execution_count": 170,
   "metadata": {},
   "outputs": [
    {
     "data": {
      "text/html": [
       "<div>\n",
       "<style scoped>\n",
       "    .dataframe tbody tr th:only-of-type {\n",
       "        vertical-align: middle;\n",
       "    }\n",
       "\n",
       "    .dataframe tbody tr th {\n",
       "        vertical-align: top;\n",
       "    }\n",
       "\n",
       "    .dataframe thead th {\n",
       "        text-align: right;\n",
       "    }\n",
       "</style>\n",
       "<table border=\"1\" class=\"dataframe\">\n",
       "  <thead>\n",
       "    <tr style=\"text-align: right;\">\n",
       "      <th></th>\n",
       "      <th>Time</th>\n",
       "      <th>Drive</th>\n",
       "      <th>Perinasal</th>\n",
       "      <th>Palm</th>\n",
       "      <th>Heart</th>\n",
       "      <th>Breathing</th>\n",
       "      <th>Subject</th>\n",
       "      <th>Gender</th>\n",
       "      <th>Age</th>\n",
       "      <th>Type_AB</th>\n",
       "      <th>Pre-tai</th>\n",
       "      <th>Pre-sai</th>\n",
       "      <th>Post-tai</th>\n",
       "      <th>Drive_Label</th>\n",
       "      <th>Effort</th>\n",
       "      <th>Frustration</th>\n",
       "      <th>Mental Demand</th>\n",
       "      <th>Performance</th>\n",
       "      <th>Physical Demand</th>\n",
       "      <th>Temporal Demand</th>\n",
       "      <th>NASA Total Sum</th>\n",
       "      <th>STAI</th>\n",
       "    </tr>\n",
       "  </thead>\n",
       "  <tbody>\n",
       "    <tr>\n",
       "      <th>0</th>\n",
       "      <td>0</td>\n",
       "      <td>1</td>\n",
       "      <td>0.004256</td>\n",
       "      <td>0.4471</td>\n",
       "      <td>0.0</td>\n",
       "      <td>22.4</td>\n",
       "      <td>22</td>\n",
       "      <td>Female</td>\n",
       "      <td>22</td>\n",
       "      <td>260</td>\n",
       "      <td>34</td>\n",
       "      <td>21</td>\n",
       "      <td>34.0</td>\n",
       "      <td>RB</td>\n",
       "      <td>NaN</td>\n",
       "      <td>NaN</td>\n",
       "      <td>NaN</td>\n",
       "      <td>NaN</td>\n",
       "      <td>NaN</td>\n",
       "      <td>NaN</td>\n",
       "      <td>0.0</td>\n",
       "      <td>34.0</td>\n",
       "    </tr>\n",
       "    <tr>\n",
       "      <th>1</th>\n",
       "      <td>2</td>\n",
       "      <td>1</td>\n",
       "      <td>0.004622</td>\n",
       "      <td>0.4844</td>\n",
       "      <td>0.0</td>\n",
       "      <td>22.8</td>\n",
       "      <td>22</td>\n",
       "      <td>Female</td>\n",
       "      <td>22</td>\n",
       "      <td>260</td>\n",
       "      <td>34</td>\n",
       "      <td>21</td>\n",
       "      <td>34.0</td>\n",
       "      <td>RB</td>\n",
       "      <td>NaN</td>\n",
       "      <td>NaN</td>\n",
       "      <td>NaN</td>\n",
       "      <td>NaN</td>\n",
       "      <td>NaN</td>\n",
       "      <td>NaN</td>\n",
       "      <td>0.0</td>\n",
       "      <td>34.0</td>\n",
       "    </tr>\n",
       "    <tr>\n",
       "      <th>2</th>\n",
       "      <td>3</td>\n",
       "      <td>1</td>\n",
       "      <td>0.004568</td>\n",
       "      <td>0.4471</td>\n",
       "      <td>0.0</td>\n",
       "      <td>22.8</td>\n",
       "      <td>22</td>\n",
       "      <td>Female</td>\n",
       "      <td>22</td>\n",
       "      <td>260</td>\n",
       "      <td>34</td>\n",
       "      <td>21</td>\n",
       "      <td>34.0</td>\n",
       "      <td>RB</td>\n",
       "      <td>NaN</td>\n",
       "      <td>NaN</td>\n",
       "      <td>NaN</td>\n",
       "      <td>NaN</td>\n",
       "      <td>NaN</td>\n",
       "      <td>NaN</td>\n",
       "      <td>0.0</td>\n",
       "      <td>34.0</td>\n",
       "    </tr>\n",
       "    <tr>\n",
       "      <th>3</th>\n",
       "      <td>4</td>\n",
       "      <td>1</td>\n",
       "      <td>0.004404</td>\n",
       "      <td>0.4844</td>\n",
       "      <td>0.0</td>\n",
       "      <td>23.6</td>\n",
       "      <td>22</td>\n",
       "      <td>Female</td>\n",
       "      <td>22</td>\n",
       "      <td>260</td>\n",
       "      <td>34</td>\n",
       "      <td>21</td>\n",
       "      <td>34.0</td>\n",
       "      <td>RB</td>\n",
       "      <td>NaN</td>\n",
       "      <td>NaN</td>\n",
       "      <td>NaN</td>\n",
       "      <td>NaN</td>\n",
       "      <td>NaN</td>\n",
       "      <td>NaN</td>\n",
       "      <td>0.0</td>\n",
       "      <td>34.0</td>\n",
       "    </tr>\n",
       "    <tr>\n",
       "      <th>4</th>\n",
       "      <td>5</td>\n",
       "      <td>1</td>\n",
       "      <td>0.004529</td>\n",
       "      <td>0.4844</td>\n",
       "      <td>0.0</td>\n",
       "      <td>23.6</td>\n",
       "      <td>22</td>\n",
       "      <td>Female</td>\n",
       "      <td>22</td>\n",
       "      <td>260</td>\n",
       "      <td>34</td>\n",
       "      <td>21</td>\n",
       "      <td>34.0</td>\n",
       "      <td>RB</td>\n",
       "      <td>NaN</td>\n",
       "      <td>NaN</td>\n",
       "      <td>NaN</td>\n",
       "      <td>NaN</td>\n",
       "      <td>NaN</td>\n",
       "      <td>NaN</td>\n",
       "      <td>0.0</td>\n",
       "      <td>34.0</td>\n",
       "    </tr>\n",
       "  </tbody>\n",
       "</table>\n",
       "</div>"
      ],
      "text/plain": [
       "   Time  Drive  Perinasal    Palm  Heart  Breathing  Subject  Gender  Age  \\\n",
       "0     0      1   0.004256  0.4471    0.0       22.4       22  Female   22   \n",
       "1     2      1   0.004622  0.4844    0.0       22.8       22  Female   22   \n",
       "2     3      1   0.004568  0.4471    0.0       22.8       22  Female   22   \n",
       "3     4      1   0.004404  0.4844    0.0       23.6       22  Female   22   \n",
       "4     5      1   0.004529  0.4844    0.0       23.6       22  Female   22   \n",
       "\n",
       "   Type_AB  Pre-tai  Pre-sai  Post-tai Drive_Label  Effort  Frustration  \\\n",
       "0      260       34       21      34.0          RB     NaN          NaN   \n",
       "1      260       34       21      34.0          RB     NaN          NaN   \n",
       "2      260       34       21      34.0          RB     NaN          NaN   \n",
       "3      260       34       21      34.0          RB     NaN          NaN   \n",
       "4      260       34       21      34.0          RB     NaN          NaN   \n",
       "\n",
       "   Mental Demand  Performance  Physical Demand  Temporal Demand  \\\n",
       "0            NaN          NaN              NaN              NaN   \n",
       "1            NaN          NaN              NaN              NaN   \n",
       "2            NaN          NaN              NaN              NaN   \n",
       "3            NaN          NaN              NaN              NaN   \n",
       "4            NaN          NaN              NaN              NaN   \n",
       "\n",
       "   NASA Total Sum  STAI  \n",
       "0             0.0  34.0  \n",
       "1             0.0  34.0  \n",
       "2             0.0  34.0  \n",
       "3             0.0  34.0  \n",
       "4             0.0  34.0  "
      ]
     },
     "execution_count": 170,
     "metadata": {},
     "output_type": "execute_result"
    }
   ],
   "source": [
    "df = pd.read_csv(data_dir + 'data_2.csv')\n",
    "df.head()"
   ]
  },
  {
   "cell_type": "code",
   "execution_count": 171,
   "metadata": {},
   "outputs": [
    {
     "data": {
      "text/plain": [
       "Index(['Time', 'Drive', 'Perinasal', 'Palm', 'Heart', 'Breathing', 'Subject',\n",
       "       'Gender', 'Age', 'Type_AB', 'Pre-tai', 'Pre-sai', 'Post-tai',\n",
       "       'Drive_Label', 'Effort', 'Frustration', 'Mental Demand', 'Performance',\n",
       "       'Physical Demand', 'Temporal Demand', 'NASA Total Sum', 'STAI'],\n",
       "      dtype='object')"
      ]
     },
     "execution_count": 171,
     "metadata": {},
     "output_type": "execute_result"
    }
   ],
   "source": [
    "df.columns"
   ]
  },
  {
   "cell_type": "code",
   "execution_count": 172,
   "metadata": {},
   "outputs": [
    {
     "name": "stdout",
     "output_type": "stream",
     "text": [
      "Total Subjects: 23\n",
      "[22 23 24 25 26 27 37 38 39 40 43 45 46 47 48 49 52 53 54 56 63 64 65]\n"
     ]
    }
   ],
   "source": [
    "print('Total Subjects: ' + str(len(df.Subject.unique())))\n",
    "print(df.Subject.unique())"
   ]
  },
  {
   "cell_type": "code",
   "execution_count": null,
   "metadata": {},
   "outputs": [],
   "source": [
    "\n",
    "\n",
    "\n",
    "\n",
    "\n",
    "\n",
    "\n"
   ]
  },
  {
   "cell_type": "markdown",
   "metadata": {},
   "source": [
    "# Creating csv for additional plots for paper -->"
   ]
  },
  {
   "cell_type": "code",
   "execution_count": 173,
   "metadata": {},
   "outputs": [
    {
     "name": "stdout",
     "output_type": "stream",
     "text": [
      "(57102, 25)\n",
      "(50689, 25)\n"
     ]
    }
   ],
   "source": [
    "df['Treatment'] = df['Drive_Label']\n",
    "df['TimeElapsed'] = df.groupby(['Subject', 'Treatment']).cumcount()+1\n",
    "df.to_csv(data_dir + \"data_2.1.csv\", sep=',', index=False)\n",
    "\n",
    "\n",
    "plot_df = df.copy()\n",
    "\n",
    "\n",
    "\n",
    "plot_df['Perinasal_Log'] = np.log(plot_df['Perinasal'])\n",
    "\n",
    "\n",
    "def quality_control_phase1(df, col, validMin, validMax):\n",
    "    return df[(validMin <= df[col]) & (df[col] <= validMax)]\n",
    "\n",
    "print(plot_df.shape)\n",
    "plot_df = quality_control_phase1(plot_df, 'Heart', 40, 140)\n",
    "plot_df = quality_control_phase1(plot_df, 'Breathing', 4, 40)\n",
    "print(plot_df.shape)\n",
    "\n",
    "\n",
    "plot_df.to_csv(data_dir + \"data_2.2.csv\", sep=',', index=False)"
   ]
  },
  {
   "cell_type": "code",
   "execution_count": null,
   "metadata": {},
   "outputs": [],
   "source": [
    "\n",
    "\n",
    "\n",
    "\n",
    "\n",
    "\n",
    "\n",
    "\n"
   ]
  },
  {
   "cell_type": "code",
   "execution_count": 174,
   "metadata": {},
   "outputs": [
    {
     "data": {
      "text/plain": [
       "Time                   0\n",
       "Drive                  0\n",
       "Perinasal           1667\n",
       "Palm               26963\n",
       "Heart               3406\n",
       "Breathing           3406\n",
       "Subject                0\n",
       "Gender                 0\n",
       "Age                    0\n",
       "Type_AB                0\n",
       "Pre-tai                0\n",
       "Pre-sai                0\n",
       "Post-tai               0\n",
       "Drive_Label            0\n",
       "Effort             16805\n",
       "Frustration        16805\n",
       "Mental Demand      16805\n",
       "Performance        16805\n",
       "Physical Demand    16805\n",
       "Temporal Demand    16805\n",
       "NASA Total Sum         0\n",
       "STAI                   0\n",
       "Treatment              0\n",
       "TimeElapsed            0\n",
       "dtype: int64"
      ]
     },
     "execution_count": 174,
     "metadata": {},
     "output_type": "execute_result"
    }
   ],
   "source": [
    "# CHECK NA/Null\n",
    "df.isnull().sum()"
   ]
  },
  {
   "cell_type": "code",
   "execution_count": 175,
   "metadata": {},
   "outputs": [
    {
     "name": "stdout",
     "output_type": "stream",
     "text": [
      "['RB' 'PD' 'ND' 'CD' 'MD' 'FD']\n",
      "['RB' 'CD' 'MD']\n"
     ]
    }
   ],
   "source": [
    "print(df.Treatment.unique())\n",
    "df = df[df['Treatment'].isin(['RB', 'CD', 'MD'])]\n",
    "print(df.Treatment.unique())"
   ]
  },
  {
   "cell_type": "code",
   "execution_count": 176,
   "metadata": {},
   "outputs": [
    {
     "data": {
      "text/plain": [
       "Time                   0\n",
       "Drive                  0\n",
       "Perinasal            986\n",
       "Palm               14845\n",
       "Heart               1428\n",
       "Breathing           1428\n",
       "Subject                0\n",
       "Gender                 0\n",
       "Age                    0\n",
       "Type_AB                0\n",
       "Pre-tai                0\n",
       "Pre-sai                0\n",
       "Post-tai               0\n",
       "Drive_Label            0\n",
       "Effort              6803\n",
       "Frustration         6803\n",
       "Mental Demand       6803\n",
       "Performance         6803\n",
       "Physical Demand     6803\n",
       "Temporal Demand     6803\n",
       "NASA Total Sum         0\n",
       "STAI                   0\n",
       "Treatment              0\n",
       "TimeElapsed            0\n",
       "dtype: int64"
      ]
     },
     "execution_count": 176,
     "metadata": {},
     "output_type": "execute_result"
    }
   ],
   "source": [
    "df.isnull().sum()"
   ]
  },
  {
   "cell_type": "code",
   "execution_count": 177,
   "metadata": {},
   "outputs": [
    {
     "data": {
      "text/plain": [
       "Time                  0\n",
       "Drive                 0\n",
       "Perinasal           986\n",
       "Heart              1428\n",
       "Breathing          1428\n",
       "Subject               0\n",
       "Gender                0\n",
       "Age                   0\n",
       "Type_AB               0\n",
       "Pre-tai               0\n",
       "Pre-sai               0\n",
       "Post-tai              0\n",
       "Drive_Label           0\n",
       "Effort             6803\n",
       "Frustration        6803\n",
       "Mental Demand      6803\n",
       "Performance        6803\n",
       "Physical Demand    6803\n",
       "Temporal Demand    6803\n",
       "NASA Total Sum        0\n",
       "STAI                  0\n",
       "Treatment             0\n",
       "TimeElapsed           0\n",
       "dtype: int64"
      ]
     },
     "execution_count": 177,
     "metadata": {},
     "output_type": "execute_result"
    }
   ],
   "source": [
    "df.drop('Palm', axis=1, inplace=True)\n",
    "df.isnull().sum()"
   ]
  },
  {
   "cell_type": "code",
   "execution_count": null,
   "metadata": {},
   "outputs": [],
   "source": [
    "\n",
    "\n",
    "\n",
    "\n",
    "\n"
   ]
  },
  {
   "cell_type": "code",
   "execution_count": 178,
   "metadata": {},
   "outputs": [
    {
     "name": "stdout",
     "output_type": "stream",
     "text": [
      "[0.002598380422459, 0.018258435]\n",
      "[0.0, 122.0]\n",
      "[0.0, 32.1]\n"
     ]
    }
   ],
   "source": [
    "def get_range(df, col):\n",
    "    return [df[col].min(), df[col].max()]\n",
    "\n",
    "print(get_range(df, 'Perinasal'))\n",
    "print(get_range(df, 'Heart'))\n",
    "print(get_range(df, 'Breathing'))\n"
   ]
  },
  {
   "cell_type": "code",
   "execution_count": 179,
   "metadata": {},
   "outputs": [
    {
     "name": "stdout",
     "output_type": "stream",
     "text": [
      "(30647, 23)\n",
      "(28005, 23)\n",
      "[41.0, 122.0]\n",
      "[4.0, 28.7]\n"
     ]
    }
   ],
   "source": [
    "def quality_control_phase1(df, col, validMin, validMax):\n",
    "    return df[(validMin <= df[col]) & (df[col] <= validMax)]\n",
    "\n",
    "print(df.shape)\n",
    "df = quality_control_phase1(df, 'Heart', 40, 140)\n",
    "df = quality_control_phase1(df, 'Breathing', 4, 40)\n",
    "print(df.shape)\n",
    "\n",
    "print(get_range(df, 'Heart'))\n",
    "print(get_range(df, 'Breathing'))"
   ]
  },
  {
   "cell_type": "code",
   "execution_count": null,
   "metadata": {},
   "outputs": [],
   "source": [
    "\n",
    "\n",
    "\n",
    "\n"
   ]
  },
  {
   "cell_type": "code",
   "execution_count": 180,
   "metadata": {},
   "outputs": [],
   "source": [
    "df['Perinasal_Log'] = np.log(df['Perinasal'])"
   ]
  },
  {
   "cell_type": "code",
   "execution_count": 181,
   "metadata": {},
   "outputs": [
    {
     "name": "stdout",
     "output_type": "stream",
     "text": [
      "Index(['Time', 'Drive', 'Perinasal', 'Heart', 'Breathing', 'Subject', 'Gender',\n",
      "       'Age', 'Type_AB', 'Pre-tai', 'Pre-sai', 'Post-tai', 'Drive_Label',\n",
      "       'Effort', 'Frustration', 'Mental Demand', 'Performance',\n",
      "       'Physical Demand', 'Temporal Demand', 'NASA Total Sum', 'STAI',\n",
      "       'Treatment', 'TimeElapsed', 'Perinasal_Log'],\n",
      "      dtype='object')\n"
     ]
    }
   ],
   "source": [
    "print(df.columns)"
   ]
  },
  {
   "cell_type": "code",
   "execution_count": null,
   "metadata": {},
   "outputs": [],
   "source": [
    "\n",
    "\n",
    "\n",
    "\n",
    "\n",
    "\n",
    "\n",
    "\n"
   ]
  },
  {
   "cell_type": "code",
   "execution_count": 182,
   "metadata": {},
   "outputs": [],
   "source": [
    "# ----------------------------------------------------------------------\n",
    "# Baseline, Normal, Preparation, Cognitive, Motoric, and Failure Drive\n",
    "# ----------------------------------------------------------------------\n",
    "# ## OSF Dataset -->\n",
    "# -------------------------\n",
    "# ##### 1 --> Resting Baseline\n",
    "# ##### 2 --> Practice Drive XX (not needed)\n",
    "# ##### 4-5 ---------> Random Ordered Drive\n",
    "# ##### 3 --> Normal Drive\n",
    "# ##### 4 --> Cognitive Drive\n",
    "# ##### 5 --> Sensorimotor Drivse\n",
    "# ##### 6 --> Failure Drive XX (not needed)\n",
    "\n",
    "\n",
    "# No Emotional Drive"
   ]
  },
  {
   "cell_type": "code",
   "execution_count": 183,
   "metadata": {},
   "outputs": [
    {
     "data": {
      "text/html": [
       "<div>\n",
       "<style scoped>\n",
       "    .dataframe tbody tr th:only-of-type {\n",
       "        vertical-align: middle;\n",
       "    }\n",
       "\n",
       "    .dataframe tbody tr th {\n",
       "        vertical-align: top;\n",
       "    }\n",
       "\n",
       "    .dataframe thead th {\n",
       "        text-align: right;\n",
       "    }\n",
       "</style>\n",
       "<table border=\"1\" class=\"dataframe\">\n",
       "  <thead>\n",
       "    <tr style=\"text-align: right;\">\n",
       "      <th></th>\n",
       "      <th>nunique</th>\n",
       "      <th>min</th>\n",
       "      <th>max</th>\n",
       "      <th>count</th>\n",
       "    </tr>\n",
       "    <tr>\n",
       "      <th>Subject</th>\n",
       "      <th></th>\n",
       "      <th></th>\n",
       "      <th></th>\n",
       "      <th></th>\n",
       "    </tr>\n",
       "  </thead>\n",
       "  <tbody>\n",
       "    <tr>\n",
       "      <th>22</th>\n",
       "      <td>2</td>\n",
       "      <td>4</td>\n",
       "      <td>5</td>\n",
       "      <td>1063</td>\n",
       "    </tr>\n",
       "    <tr>\n",
       "      <th>23</th>\n",
       "      <td>2</td>\n",
       "      <td>1</td>\n",
       "      <td>4</td>\n",
       "      <td>657</td>\n",
       "    </tr>\n",
       "    <tr>\n",
       "      <th>24</th>\n",
       "      <td>2</td>\n",
       "      <td>1</td>\n",
       "      <td>5</td>\n",
       "      <td>121</td>\n",
       "    </tr>\n",
       "    <tr>\n",
       "      <th>25</th>\n",
       "      <td>3</td>\n",
       "      <td>1</td>\n",
       "      <td>5</td>\n",
       "      <td>1330</td>\n",
       "    </tr>\n",
       "    <tr>\n",
       "      <th>26</th>\n",
       "      <td>3</td>\n",
       "      <td>1</td>\n",
       "      <td>5</td>\n",
       "      <td>1295</td>\n",
       "    </tr>\n",
       "    <tr>\n",
       "      <th>27</th>\n",
       "      <td>3</td>\n",
       "      <td>1</td>\n",
       "      <td>5</td>\n",
       "      <td>1369</td>\n",
       "    </tr>\n",
       "    <tr>\n",
       "      <th>37</th>\n",
       "      <td>3</td>\n",
       "      <td>1</td>\n",
       "      <td>5</td>\n",
       "      <td>1417</td>\n",
       "    </tr>\n",
       "    <tr>\n",
       "      <th>38</th>\n",
       "      <td>3</td>\n",
       "      <td>1</td>\n",
       "      <td>5</td>\n",
       "      <td>1364</td>\n",
       "    </tr>\n",
       "    <tr>\n",
       "      <th>39</th>\n",
       "      <td>3</td>\n",
       "      <td>1</td>\n",
       "      <td>5</td>\n",
       "      <td>1408</td>\n",
       "    </tr>\n",
       "    <tr>\n",
       "      <th>40</th>\n",
       "      <td>3</td>\n",
       "      <td>1</td>\n",
       "      <td>5</td>\n",
       "      <td>1452</td>\n",
       "    </tr>\n",
       "    <tr>\n",
       "      <th>43</th>\n",
       "      <td>3</td>\n",
       "      <td>1</td>\n",
       "      <td>5</td>\n",
       "      <td>951</td>\n",
       "    </tr>\n",
       "    <tr>\n",
       "      <th>45</th>\n",
       "      <td>3</td>\n",
       "      <td>1</td>\n",
       "      <td>5</td>\n",
       "      <td>1359</td>\n",
       "    </tr>\n",
       "    <tr>\n",
       "      <th>46</th>\n",
       "      <td>3</td>\n",
       "      <td>1</td>\n",
       "      <td>5</td>\n",
       "      <td>1412</td>\n",
       "    </tr>\n",
       "    <tr>\n",
       "      <th>47</th>\n",
       "      <td>3</td>\n",
       "      <td>1</td>\n",
       "      <td>5</td>\n",
       "      <td>1400</td>\n",
       "    </tr>\n",
       "    <tr>\n",
       "      <th>48</th>\n",
       "      <td>3</td>\n",
       "      <td>1</td>\n",
       "      <td>5</td>\n",
       "      <td>1416</td>\n",
       "    </tr>\n",
       "    <tr>\n",
       "      <th>49</th>\n",
       "      <td>3</td>\n",
       "      <td>1</td>\n",
       "      <td>5</td>\n",
       "      <td>1365</td>\n",
       "    </tr>\n",
       "    <tr>\n",
       "      <th>52</th>\n",
       "      <td>3</td>\n",
       "      <td>1</td>\n",
       "      <td>5</td>\n",
       "      <td>1268</td>\n",
       "    </tr>\n",
       "    <tr>\n",
       "      <th>53</th>\n",
       "      <td>3</td>\n",
       "      <td>1</td>\n",
       "      <td>5</td>\n",
       "      <td>1543</td>\n",
       "    </tr>\n",
       "    <tr>\n",
       "      <th>54</th>\n",
       "      <td>3</td>\n",
       "      <td>1</td>\n",
       "      <td>5</td>\n",
       "      <td>1369</td>\n",
       "    </tr>\n",
       "    <tr>\n",
       "      <th>56</th>\n",
       "      <td>3</td>\n",
       "      <td>1</td>\n",
       "      <td>5</td>\n",
       "      <td>1412</td>\n",
       "    </tr>\n",
       "    <tr>\n",
       "      <th>64</th>\n",
       "      <td>3</td>\n",
       "      <td>1</td>\n",
       "      <td>5</td>\n",
       "      <td>1541</td>\n",
       "    </tr>\n",
       "    <tr>\n",
       "      <th>65</th>\n",
       "      <td>3</td>\n",
       "      <td>1</td>\n",
       "      <td>5</td>\n",
       "      <td>1493</td>\n",
       "    </tr>\n",
       "  </tbody>\n",
       "</table>\n",
       "</div>"
      ],
      "text/plain": [
       "         nunique  min  max  count\n",
       "Subject                          \n",
       "22             2    4    5   1063\n",
       "23             2    1    4    657\n",
       "24             2    1    5    121\n",
       "25             3    1    5   1330\n",
       "26             3    1    5   1295\n",
       "27             3    1    5   1369\n",
       "37             3    1    5   1417\n",
       "38             3    1    5   1364\n",
       "39             3    1    5   1408\n",
       "40             3    1    5   1452\n",
       "43             3    1    5    951\n",
       "45             3    1    5   1359\n",
       "46             3    1    5   1412\n",
       "47             3    1    5   1400\n",
       "48             3    1    5   1416\n",
       "49             3    1    5   1365\n",
       "52             3    1    5   1268\n",
       "53             3    1    5   1543\n",
       "54             3    1    5   1369\n",
       "56             3    1    5   1412\n",
       "64             3    1    5   1541\n",
       "65             3    1    5   1493"
      ]
     },
     "execution_count": 183,
     "metadata": {},
     "output_type": "execute_result"
    }
   ],
   "source": [
    "df.groupby(['Subject'])['Drive'].agg(['nunique','min','max','count'])"
   ]
  },
  {
   "cell_type": "code",
   "execution_count": 184,
   "metadata": {},
   "outputs": [
    {
     "data": {
      "text/plain": [
       "array(['CD', 'MD'], dtype=object)"
      ]
     },
     "execution_count": 184,
     "metadata": {},
     "output_type": "execute_result"
    }
   ],
   "source": [
    "df[df.Subject==22].Treatment.unique()"
   ]
  },
  {
   "cell_type": "code",
   "execution_count": null,
   "metadata": {},
   "outputs": [],
   "source": [
    "\n",
    "\n",
    "\n",
    "\n"
   ]
  },
  {
   "cell_type": "code",
   "execution_count": 185,
   "metadata": {},
   "outputs": [],
   "source": [
    "def get_mean(df, col_name):\n",
    "    return df.groupby(['Subject', 'Treatment'])[col_name].transform('mean')\n",
    "\n",
    "def get_baseline_mean(df, col_name):\n",
    "    return df[col_name].iloc[0]"
   ]
  },
  {
   "cell_type": "code",
   "execution_count": 186,
   "metadata": {},
   "outputs": [],
   "source": [
    "df['PP_Mean'] = get_mean(df, 'Perinasal_Log')\n",
    "df['HR_Mean'] = get_mean(df, 'Heart')\n",
    "df['BR_Mean'] = get_mean(df, 'Breathing')"
   ]
  },
  {
   "cell_type": "code",
   "execution_count": 187,
   "metadata": {},
   "outputs": [],
   "source": [
    "grouped_df = df.groupby(['Subject', 'Treatment', 'PP_Mean', 'HR_Mean', 'BR_Mean'], as_index = False)['Time'].count()\n",
    "rb_df = grouped_df[(grouped_df.Treatment == 'RB')][['Subject', 'Treatment', 'PP_Mean', 'HR_Mean', 'BR_Mean']]\n",
    "rb_df.rename(columns = {\n",
    "            'PP_Mean': 'PP_RB_Mean',\n",
    "            'HR_Mean': 'HR_RB_Mean',\n",
    "            'BR_Mean': 'BR_RB_Mean',}, inplace=True)\n",
    "rb_df.to_csv(data_dir + 'rb_data.csv', sep=',')"
   ]
  },
  {
   "cell_type": "code",
   "execution_count": null,
   "metadata": {},
   "outputs": [],
   "source": [
    "\n",
    "\n",
    "\n",
    "\n"
   ]
  },
  {
   "cell_type": "code",
   "execution_count": 188,
   "metadata": {},
   "outputs": [
    {
     "data": {
      "text/plain": [
       "array([22, 23, 24, 25, 26, 27, 37, 38, 39, 40, 43, 45, 46, 47, 48, 49, 52,\n",
       "       53, 54, 56, 64, 65])"
      ]
     },
     "execution_count": 188,
     "metadata": {},
     "output_type": "execute_result"
    }
   ],
   "source": [
    "df.Subject.unique()"
   ]
  },
  {
   "cell_type": "code",
   "execution_count": 189,
   "metadata": {},
   "outputs": [
    {
     "data": {
      "text/plain": [
       "Index(['Time', 'Drive', 'Perinasal', 'Heart', 'Breathing', 'Subject', 'Gender',\n",
       "       'Age', 'Type_AB', 'Pre-tai', 'Pre-sai', 'Post-tai', 'Drive_Label',\n",
       "       'Effort', 'Frustration', 'Mental Demand', 'Performance',\n",
       "       'Physical Demand', 'Temporal Demand', 'NASA Total Sum', 'STAI',\n",
       "       'Treatment', 'TimeElapsed', 'Perinasal_Log', 'PP_Mean', 'HR_Mean',\n",
       "       'BR_Mean', 'PP_Normalized', 'HR_Normalized', 'BR_Normalized'],\n",
       "      dtype='object')"
      ]
     },
     "execution_count": 189,
     "metadata": {},
     "output_type": "execute_result"
    }
   ],
   "source": [
    "df_arousal = pd.DataFrame()\n",
    "\n",
    "for subj in df['Subject'].unique():\n",
    "    subj_df = df.copy()[df.Subject == subj]\n",
    "    rd_df = subj_df.copy()[subj_df.Treatment == 'RB']\n",
    "    \n",
    "    if rd_df.shape[0]:  # If there is any row for Resting Baseline\n",
    "        subj_df['PP_Normalized'] = subj_df.Perinasal_Log - get_baseline_mean(rd_df, 'PP_Mean')\n",
    "        subj_df['HR_Normalized'] = subj_df.Heart - get_baseline_mean(rd_df, 'HR_Mean')\n",
    "        subj_df['BR_Normalized'] = subj_df.Breathing - get_baseline_mean(rd_df, 'BR_Mean')\n",
    "\n",
    "        df_arousal = df_arousal.append(subj_df)\n",
    "    \n",
    "df_arousal.columns"
   ]
  },
  {
   "cell_type": "code",
   "execution_count": null,
   "metadata": {},
   "outputs": [],
   "source": [
    "\n",
    "\n",
    "\n",
    "\n"
   ]
  },
  {
   "cell_type": "code",
   "execution_count": 190,
   "metadata": {},
   "outputs": [
    {
     "name": "stdout",
     "output_type": "stream",
     "text": [
      "       Drive\n",
      "Drive       \n",
      "1       6024\n",
      "4      10483\n",
      "5      10435 \n",
      "\n",
      "(26942, 30)\n",
      "(20115, 30)\n",
      "       Drive\n",
      "Drive       \n",
      "4      10165\n",
      "5       9950 \n",
      "\n",
      "Index(['Time', 'Drive', 'Perinasal', 'Heart', 'Breathing', 'Subject', 'Gender',\n",
      "       'Age', 'Type_AB', 'Pre-tai', 'Pre-sai', 'Post-tai', 'Drive_Label',\n",
      "       'Effort', 'Frustration', 'Mental Demand', 'Performance',\n",
      "       'Physical Demand', 'Temporal Demand', 'NASA Total Sum', 'STAI',\n",
      "       'Treatment', 'TimeElapsed', 'Perinasal_Log', 'PP_Mean', 'HR_Mean',\n",
      "       'BR_Mean', 'PP_Normalized', 'HR_Normalized', 'BR_Normalized'],\n",
      "      dtype='object')\n"
     ]
    }
   ],
   "source": [
    "print_row_count(df_arousal, 'Drive')\n",
    "\n",
    "print(df_arousal.shape)\n",
    "df_arousal = df_arousal.dropna()\n",
    "print(df_arousal.shape)\n",
    "\n",
    "print_row_count(df_arousal, 'Drive')\n",
    "\n",
    "df_arousal.to_csv(data_dir + \"data_2.3.csv\", sep=',')\n",
    "print(df_arousal.columns)"
   ]
  },
  {
   "cell_type": "code",
   "execution_count": 191,
   "metadata": {},
   "outputs": [
    {
     "name": "stdout",
     "output_type": "stream",
     "text": [
      "           Treatment\n",
      "Treatment           \n",
      "CD             10165\n",
      "MD              9950 \n",
      "\n",
      "(20115, 30) ['CD' 'MD']\n",
      "(20115, 30) ['CD' 'MD']\n",
      "           Treatment\n",
      "Treatment           \n",
      "CD             10165\n",
      "MD              9950 \n",
      "\n"
     ]
    }
   ],
   "source": [
    "print_row_count(df_arousal, 'Treatment')\n",
    "\n",
    "\n",
    "# Removing 'RB' from dataset, as 'RB' will not be included in the model\n",
    "print(df_arousal.shape, df_arousal.Treatment.unique())\n",
    "df_arousal = df_arousal[~df_arousal.Treatment.isin(['RB', 'ND'])]\n",
    "print(df_arousal.shape, df_arousal.Treatment.unique())\n",
    "\n",
    "\n",
    "print_row_count(df_arousal, 'Treatment')"
   ]
  },
  {
   "cell_type": "code",
   "execution_count": 192,
   "metadata": {},
   "outputs": [
    {
     "data": {
      "text/plain": [
       "(28005, 27)"
      ]
     },
     "execution_count": 192,
     "metadata": {},
     "output_type": "execute_result"
    }
   ],
   "source": [
    "df.shape"
   ]
  },
  {
   "cell_type": "code",
   "execution_count": 193,
   "metadata": {},
   "outputs": [
    {
     "data": {
      "text/plain": [
       "Time               0\n",
       "Drive              0\n",
       "Perinasal          0\n",
       "Heart              0\n",
       "Breathing          0\n",
       "Subject            0\n",
       "Gender             0\n",
       "Age                0\n",
       "Type_AB            0\n",
       "Pre-tai            0\n",
       "Pre-sai            0\n",
       "Post-tai           0\n",
       "Drive_Label        0\n",
       "Effort             0\n",
       "Frustration        0\n",
       "Mental Demand      0\n",
       "Performance        0\n",
       "Physical Demand    0\n",
       "Temporal Demand    0\n",
       "NASA Total Sum     0\n",
       "STAI               0\n",
       "Treatment          0\n",
       "TimeElapsed        0\n",
       "Perinasal_Log      0\n",
       "PP_Mean            0\n",
       "HR_Mean            0\n",
       "BR_Mean            0\n",
       "PP_Normalized      0\n",
       "HR_Normalized      0\n",
       "BR_Normalized      0\n",
       "dtype: int64"
      ]
     },
     "execution_count": 193,
     "metadata": {},
     "output_type": "execute_result"
    }
   ],
   "source": [
    "df_arousal.isnull().sum()"
   ]
  },
  {
   "cell_type": "markdown",
   "metadata": {},
   "source": [
    "-----------------------------------------\n",
    "# Remove the NA rows for PP, HR and BR\n",
    "-----------------------------------------"
   ]
  },
  {
   "cell_type": "code",
   "execution_count": 194,
   "metadata": {},
   "outputs": [
    {
     "name": "stdout",
     "output_type": "stream",
     "text": [
      "(20115, 30) 21\n",
      "(20115, 30) 21\n"
     ]
    }
   ],
   "source": [
    "print(df_arousal.shape, str(len(df_arousal.Subject.unique())))\n",
    "df_arousal.dropna(inplace=True)\n",
    "print(df_arousal.shape, str(len(df_arousal.Subject.unique())))"
   ]
  },
  {
   "cell_type": "code",
   "execution_count": 195,
   "metadata": {},
   "outputs": [
    {
     "data": {
      "text/plain": [
       "Time               0\n",
       "Drive              0\n",
       "Perinasal          0\n",
       "Heart              0\n",
       "Breathing          0\n",
       "Subject            0\n",
       "Gender             0\n",
       "Age                0\n",
       "Type_AB            0\n",
       "Pre-tai            0\n",
       "Pre-sai            0\n",
       "Post-tai           0\n",
       "Drive_Label        0\n",
       "Effort             0\n",
       "Frustration        0\n",
       "Mental Demand      0\n",
       "Performance        0\n",
       "Physical Demand    0\n",
       "Temporal Demand    0\n",
       "NASA Total Sum     0\n",
       "STAI               0\n",
       "Treatment          0\n",
       "TimeElapsed        0\n",
       "Perinasal_Log      0\n",
       "PP_Mean            0\n",
       "HR_Mean            0\n",
       "BR_Mean            0\n",
       "PP_Normalized      0\n",
       "HR_Normalized      0\n",
       "BR_Normalized      0\n",
       "dtype: int64"
      ]
     },
     "execution_count": 195,
     "metadata": {},
     "output_type": "execute_result"
    }
   ],
   "source": [
    "df_arousal.isnull().sum()"
   ]
  },
  {
   "cell_type": "code",
   "execution_count": 196,
   "metadata": {},
   "outputs": [
    {
     "name": "stdout",
     "output_type": "stream",
     "text": [
      "Total Subjects: 22\n",
      "[22 23 24 25 26 27 37 38 39 40 43 45 46 47 48 49 52 53 54 56 64 65]\n",
      "\n",
      "\n",
      "After removing NA rows, Total Subjects: 21\n",
      "[23 24 25 26 27 37 38 39 40 43 45 46 47 48 49 52 53 54 56 64 65]\n"
     ]
    }
   ],
   "source": [
    "print('Total Subjects: ' + str(len(df.Subject.unique())))\n",
    "unique_subjs = df.Subject.unique()\n",
    "print(unique_subjs)\n",
    "print('\\n')\n",
    "\n",
    "\n",
    "print('After removing NA rows, Total Subjects: ' + str(len(df_arousal.Subject.unique())))\n",
    "unique_subjs = df_arousal.Subject.unique()\n",
    "print(unique_subjs)"
   ]
  },
  {
   "cell_type": "code",
   "execution_count": 197,
   "metadata": {},
   "outputs": [
    {
     "data": {
      "text/plain": [
       "array(['Female', 'Male'], dtype=object)"
      ]
     },
     "execution_count": 197,
     "metadata": {},
     "output_type": "execute_result"
    }
   ],
   "source": [
    "df_arousal.Gender.unique()"
   ]
  },
  {
   "cell_type": "code",
   "execution_count": null,
   "metadata": {},
   "outputs": [],
   "source": [
    "\n",
    "\n",
    "\n",
    "\n",
    "\n",
    "\n",
    "\n",
    "\n",
    "\n",
    "\n",
    "\n",
    "\n",
    "\n",
    "\n",
    "\n",
    "\n",
    "\n"
   ]
  },
  {
   "cell_type": "code",
   "execution_count": 198,
   "metadata": {},
   "outputs": [],
   "source": [
    "def get_mean(df, col_name):\n",
    "    return df[col_name].mean() \n",
    "\n",
    "def get_sd(df, col_name):\n",
    "    return stdev(df[col_name])\n",
    "\n",
    "def convert_str(num):\n",
    "    return(str(round(num, 2)))\n",
    "\n",
    "def print_mean_sd_stress_marker(signal, mean, sd, stress_marker): \n",
    "    print(signal + \":\\t\" + convert_str(mean) + u\" \\u00B1 \" + convert_str(sd) \n",
    "          + \"\\tstress_marker: \" + convert_str(stress_marker))\n"
   ]
  },
  {
   "cell_type": "code",
   "execution_count": 199,
   "metadata": {},
   "outputs": [
    {
     "name": "stdout",
     "output_type": "stream",
     "text": [
      "PP:\t0.1 ± 0.2\tstress_marker: 0.2\n",
      "PP_2:\t0.1 ± 0.2\tstress_marker: 0.1\n",
      "HR:\t1.74 ± 6.42\tstress_marker: 0\n",
      "BR:\t2.9 ± 4.49\tstress_marker: 0\n"
     ]
    }
   ],
   "source": [
    "############################################################################################\n",
    "pp_diff_mean = get_mean(df_arousal, 'PP_Normalized')\n",
    "pp_diff_sd = get_sd(df_arousal, 'PP_Normalized')\n",
    "\n",
    "pp_stress_marker = pp_diff_mean + 0.5*pp_diff_sd\n",
    "\n",
    "df_arousal.loc[df_arousal.PP_Normalized < pp_stress_marker, 'PP_Arousal'] = 'relaxed'\n",
    "df_arousal.loc[df_arousal.PP_Normalized >= pp_stress_marker, 'PP_Arousal'] = 'stressed'\n",
    "############################################################################################\n",
    "\n",
    "\n",
    "\n",
    "############################################################################################\n",
    "pp_2_stress_marker = pp_diff_mean\n",
    "\n",
    "df_arousal.loc[df_arousal.PP_Normalized < pp_2_stress_marker, 'PP_Arousal_2'] = 'relaxed'\n",
    "df_arousal.loc[df_arousal.PP_Normalized >= pp_2_stress_marker, 'PP_Arousal_2'] = 'stressed'\n",
    "############################################################################################\n",
    "\n",
    "\n",
    "\n",
    "\n",
    "############################################################################################\n",
    "hr_diff_mean = get_mean(df_arousal, 'HR_Normalized')\n",
    "hr_diff_sd = get_sd(df_arousal, 'HR_Normalized')\n",
    "\n",
    "hr_stress_marker = 0\n",
    "\n",
    "df_arousal.loc[df_arousal.HR_Normalized < hr_stress_marker, 'HR_Arousal'] = 'relaxed'\n",
    "df_arousal.loc[df_arousal.HR_Normalized >= hr_stress_marker, 'HR_Arousal'] = 'stressed'\n",
    "############################################################################################\n",
    "\n",
    "\n",
    "\n",
    "\n",
    "############################################################################################\n",
    "br_diff_mean = get_mean(df_arousal, 'BR_Normalized')\n",
    "br_diff_sd = get_sd(df_arousal, 'BR_Normalized')\n",
    "\n",
    "br_stress_marker = 0\n",
    "\n",
    "df_arousal.loc[df_arousal.BR_Normalized < br_stress_marker, 'BR_Arousal'] = 'relaxed'\n",
    "df_arousal.loc[df_arousal.BR_Normalized >= br_stress_marker, 'BR_Arousal'] = 'stressed'\n",
    "############################################################################################\n",
    "\n",
    "    \n",
    "    \n",
    "############################################################################################\n",
    "print_mean_sd_stress_marker('PP', pp_diff_mean, pp_diff_sd, pp_stress_marker)\n",
    "print_mean_sd_stress_marker('PP_2', pp_diff_mean, pp_diff_sd, pp_2_stress_marker)\n",
    "print_mean_sd_stress_marker('HR', hr_diff_mean, hr_diff_sd, hr_stress_marker)\n",
    "print_mean_sd_stress_marker('BR', br_diff_mean, br_diff_sd, br_stress_marker)\n",
    "############################################################################################\n",
    "\n",
    "# ############################################################################################\n",
    "# print(round(pp_diff_mean, 2), round(pp_diff_sd, 2), round(pp_stress_marker, 2))\n",
    "# print(round(pp_diff_mean, 2), round(pp_diff_sd, 2), round(pp_2_stress_marker, 2))\n",
    "# print(round(hr_diff_mean, 2), round(hr_diff_sd, 2), round(hr_stress_marker, 2))\n",
    "# print(round(br_diff_mean, 2), round(br_diff_sd, 2), round(br_stress_marker, 2))\n",
    "# ############################################################################################\n",
    "\n",
    "\n",
    "\n",
    "# 'PP_Normalized', 'HR_Normalized', 'BR_Normalized'"
   ]
  },
  {
   "cell_type": "code",
   "execution_count": null,
   "metadata": {},
   "outputs": [],
   "source": [
    "\n",
    "\n",
    "\n",
    "\n",
    "\n",
    "\n",
    "\n",
    "\n"
   ]
  },
  {
   "cell_type": "code",
   "execution_count": 200,
   "metadata": {},
   "outputs": [
    {
     "name": "stderr",
     "output_type": "stream",
     "text": [
      "No artists with labels found to put in legend.  Note that artists whose label start with an underscore are ignored when legend() is called with no argument.\n",
      "No artists with labels found to put in legend.  Note that artists whose label start with an underscore are ignored when legend() is called with no argument.\n",
      "No artists with labels found to put in legend.  Note that artists whose label start with an underscore are ignored when legend() is called with no argument.\n",
      "No artists with labels found to put in legend.  Note that artists whose label start with an underscore are ignored when legend() is called with no argument.\n"
     ]
    },
    {
     "data": {
      "image/png": "[encoded data removed]",
      "text/plain": [
       "<Figure size 1440x864 with 4 Axes>"
      ]
     },
     "metadata": {
      "needs_background": "light"
     },
     "output_type": "display_data"
    }
   ],
   "source": [
    "line_width = 2\n",
    "palette ={\"relaxed\": \"lightgreen\", \"stressed\": \"red\"}\n",
    "\n",
    "\n",
    "fig = plt.figure()\n",
    "\n",
    "# https://stackoverflow.com/questions/332289/how-do-you-change-the-size-of-figures-drawn-with-matplotlib\n",
    "fig.set_size_inches(20, 12, forward=True)\n",
    "fig.subplots_adjust(\n",
    "    top=0.98,\n",
    "    bottom=0.049,\n",
    "    left=0.042,\n",
    "    right=0.98,\n",
    "    hspace=0.4,\n",
    "    wspace=0.15\n",
    ")\n",
    "\n",
    "for i, label in enumerate(('A', 'B', 'C', 'D')):\n",
    "# for i, label in enumerate(('A')):\n",
    "    ax = fig.add_subplot(2, 2, i+1)\n",
    "    generate_arousal_extraction_plots(df_arousal, i)\n",
    "    ax.text(-0.05, \n",
    "            1.1, \n",
    "            label, \n",
    "            transform=ax.transAxes,\n",
    "            fontsize=24, \n",
    "            fontweight='bold', \n",
    "            va='top', \n",
    "            ha='left')\n",
    "    \n",
    "      \n",
    "# fig.tight_layout()\n",
    "fig.savefig(fig_dir + 'sim2_pp_br_hr_arousal_extraction.pdf', dpi=300, bbox_inches='tight')\n",
    "plt.show()"
   ]
  },
  {
   "cell_type": "code",
   "execution_count": 201,
   "metadata": {},
   "outputs": [
    {
     "data": {
      "image/png": "[encoded data removed]",
      "text/plain": [
       "<Figure size 1440x864 with 3 Axes>"
      ]
     },
     "metadata": {
      "needs_background": "light"
     },
     "output_type": "display_data"
    }
   ],
   "source": [
    "fig = plt.figure()\n",
    "\n",
    "# https://stackoverflow.com/questions/332289/how-do-you-change-the-size-of-figures-drawn-with-matplotlib\n",
    "fig.set_size_inches(20, 12, forward=True)\n",
    "fig.subplots_adjust(\n",
    "    top=0.98,\n",
    "    bottom=0.049,\n",
    "    left=0.042,\n",
    "    right=0.98,\n",
    "    hspace=0.4,\n",
    "    wspace=0.15\n",
    ")\n",
    "\n",
    "for i, label in enumerate(('A', 'B', 'C')):\n",
    "# for i, label in enumerate(('A')):\n",
    "    ax = fig.add_subplot(2, 2, i+1)\n",
    "    df_arousal = generate_ecdf_plots(df_arousal, i)\n",
    "    ax.text(-0.05, \n",
    "            1.1, \n",
    "            label, \n",
    "            transform=ax.transAxes,\n",
    "            fontsize=24, \n",
    "            fontweight='bold', \n",
    "            va='top', \n",
    "            ha='left')\n",
    "    \n",
    "      \n",
    "# fig.tight_layout()\n",
    "fig.savefig(fig_dir + 'sim2_pp_br_hr_ecdf.png', dpi=300, bbox_inches='tight')\n",
    "fig.savefig(fig_dir + 'sim2_pp_br_hr_ecdf.pdf', dpi=300, bbox_inches='tight')\n",
    "plt.show()   "
   ]
  },
  {
   "cell_type": "code",
   "execution_count": null,
   "metadata": {},
   "outputs": [],
   "source": [
    "\n",
    "\n",
    "\n",
    "\n",
    "\n",
    "\n",
    "\n",
    "\n",
    "\n",
    "\n"
   ]
  },
  {
   "cell_type": "code",
   "execution_count": 202,
   "metadata": {},
   "outputs": [
    {
     "name": "stdout",
     "output_type": "stream",
     "text": [
      "                 PP_Arousal_ecdf\n",
      "PP_Arousal_ecdf                 \n",
      "neutral                     34.0\n",
      "relaxed                     33.0\n",
      "stressed                    33.0 \n",
      "\n",
      "                 HR_Arousal_ecdf\n",
      "HR_Arousal_ecdf                 \n",
      "neutral                    34.19\n",
      "relaxed                    32.62\n",
      "stressed                   33.18 \n",
      "\n",
      "                 BR_Arousal_ecdf\n",
      "BR_Arousal_ecdf                 \n",
      "neutral                    33.98\n",
      "relaxed                    32.97\n",
      "stressed                   33.05 \n",
      "\n",
      "                    PP_HR_Arousal_ecdf\n",
      "PP_HR_Arousal_ecdf                    \n",
      "neutral                          55.47\n",
      "relaxed                          22.84\n",
      "stressed                         21.70 \n",
      "\n",
      "                    PP_BR_Arousal_ecdf\n",
      "PP_BR_Arousal_ecdf                    \n",
      "neutral                          58.54\n",
      "relaxed                          20.77\n",
      "stressed                         20.70 \n",
      "\n",
      "                    HR_BR_Arousal_ecdf\n",
      "HR_BR_Arousal_ecdf                    \n",
      "neutral                          49.09\n",
      "relaxed                          25.37\n",
      "stressed                         25.54 \n",
      "\n",
      "                       PP_HR_BR_Arousal_ecdf\n",
      "PP_HR_BR_Arousal_ecdf                       \n",
      "neutral                                64.78\n",
      "relaxed                                17.77\n",
      "stressed                               17.44 \n",
      "\n"
     ]
    }
   ],
   "source": [
    "signals = ['PP', 'HR', 'BR']\n",
    "df_arousal = generate_ecdf_arousal_cols(df_arousal, signals)"
   ]
  },
  {
   "cell_type": "code",
   "execution_count": 203,
   "metadata": {},
   "outputs": [
    {
     "name": "stdout",
     "output_type": "stream",
     "text": [
      "['CD' 'MD']\n",
      "Index(['Time', 'Drive', 'Perinasal', 'Heart', 'Breathing', 'Subject', 'Gender',\n",
      "       'Age', 'Type_AB', 'Pre-tai', 'Pre-sai', 'Post-tai', 'Drive_Label',\n",
      "       'Effort', 'Frustration', 'Mental Demand', 'Performance',\n",
      "       'Physical Demand', 'Temporal Demand', 'NASA Total Sum', 'STAI',\n",
      "       'Treatment', 'TimeElapsed', 'Perinasal_Log', 'PP_Mean', 'HR_Mean',\n",
      "       'BR_Mean', 'PP_Normalized', 'HR_Normalized', 'BR_Normalized',\n",
      "       'PP_Arousal', 'PP_Arousal_2', 'HR_Arousal', 'BR_Arousal', 'PP_ecdf',\n",
      "       'HR_ecdf', 'BR_ecdf', 'PP_HR_ecdf', 'PP_BR_ecdf', 'HR_BR_ecdf',\n",
      "       'PP_HR_BR_ecdf', 'PP_Arousal_ecdf', 'HR_Arousal_ecdf',\n",
      "       'BR_Arousal_ecdf', 'PP_HR_Arousal_ecdf', 'PP_BR_Arousal_ecdf',\n",
      "       'HR_BR_Arousal_ecdf', 'PP_HR_BR_Arousal_ecdf'],\n",
      "      dtype='object')\n"
     ]
    }
   ],
   "source": [
    "df_arousal.to_csv(data_dir + \"data_2.5.csv\", sep=',')\n",
    "print(df_arousal.Treatment.unique())\n",
    "print(df_arousal.columns)"
   ]
  },
  {
   "cell_type": "code",
   "execution_count": null,
   "metadata": {},
   "outputs": [],
   "source": [
    "\n",
    "\n",
    "\n",
    "\n",
    "\n",
    "\n",
    "\n",
    "\n",
    "\n",
    "\n",
    "\n"
   ]
  },
  {
   "cell_type": "code",
   "execution_count": 204,
   "metadata": {},
   "outputs": [
    {
     "name": "stdout",
     "output_type": "stream",
     "text": [
      "Subject Processing: \n",
      "23\n",
      "24\n",
      "25\n",
      "26\n",
      "27\n",
      "37\n",
      "38\n",
      "39\n",
      "                 PP_Arousal_Mode\n",
      "PP_Arousal_Mode                 \n",
      "neutral                    40.89\n",
      "relaxed                    24.44\n",
      "stressed                   34.67 \n",
      "\n",
      "                 HR_Arousal_Mode\n",
      "HR_Arousal_Mode                 \n",
      "neutral                    33.63\n",
      "relaxed                    35.26\n",
      "stressed                   31.11 \n",
      "\n",
      "                 BR_Arousal_Mode\n",
      "BR_Arousal_Mode                 \n",
      "neutral                    35.85\n",
      "relaxed                    27.41\n",
      "stressed                   36.74 \n",
      "\n",
      "                    PP_HR_Arousal_Mode\n",
      "PP_HR_Arousal_Mode                    \n",
      "neutral                           47.7\n",
      "relaxed                           24.0\n",
      "stressed                          28.3 \n",
      "\n",
      "                    PP_BR_Arousal_Mode\n",
      "PP_BR_Arousal_Mode                    \n",
      "neutral                          57.04\n",
      "relaxed                          16.15\n",
      "stressed                         26.81 \n",
      "\n",
      "                    HR_BR_Arousal_Mode\n",
      "HR_BR_Arousal_Mode                    \n",
      "neutral                          47.85\n",
      "relaxed                          24.44\n",
      "stressed                         27.70 \n",
      "\n",
      "                       PP_HR_BR_Arousal_Mode\n",
      "PP_HR_BR_Arousal_Mode                       \n",
      "neutral                                57.93\n",
      "relaxed                                18.37\n",
      "stressed                               23.70 \n",
      "\n"
     ]
    }
   ],
   "source": [
    "final_df = get_non_overlapping_aggregrated_df(df_arousal)"
   ]
  },
  {
   "cell_type": "code",
   "execution_count": 205,
   "metadata": {},
   "outputs": [
    {
     "data": {
      "text/plain": [
       "Subject                  0\n",
       "Treatment                0\n",
       "Age                      0\n",
       "Effort                   0\n",
       "Frustration              0\n",
       "Mental_Demand            0\n",
       "Performance              0\n",
       "Physical_Demand          0\n",
       "Temporal_Demand          0\n",
       "NASA_Total_Sum           0\n",
       "PP_Arousal_Mode          0\n",
       "HR_Arousal_Mode          0\n",
       "BR_Arousal_Mode          0\n",
       "PP_HR_Arousal_Mode       0\n",
       "PP_BR_Arousal_Mode       0\n",
       "HR_BR_Arousal_Mode       0\n",
       "PP_HR_BR_Arousal_Mode    0\n",
       "PP_Mean                  0\n",
       "PP_Median                0\n",
       "PP_SD                    0\n",
       "PP_SS                    0\n",
       "Hr_Mean                  0\n",
       "Hr_Median                0\n",
       "Hr_SD                    0\n",
       "Hr_SS                    0\n",
       "Br_Mean                  0\n",
       "Br_Median                0\n",
       "Br_SD                    0\n",
       "Br_SS                    0\n",
       "Gender_Female            0\n",
       "Gender_Male              0\n",
       "dtype: int64"
      ]
     },
     "execution_count": 205,
     "metadata": {},
     "output_type": "execute_result"
    }
   ],
   "source": [
    "final_df.isnull().sum()"
   ]
  },
  {
   "cell_type": "code",
   "execution_count": 206,
   "metadata": {},
   "outputs": [
    {
     "data": {
      "text/plain": [
       "array(['CD', 'MD'], dtype=object)"
      ]
     },
     "execution_count": 206,
     "metadata": {},
     "output_type": "execute_result"
    }
   ],
   "source": [
    "final_df.Treatment.unique()"
   ]
  },
  {
   "cell_type": "code",
   "execution_count": 207,
   "metadata": {},
   "outputs": [],
   "source": [
    "final_df.to_csv(data_dir + \"data_3.csv\", sep=',', index=False)"
   ]
  },
  {
   "cell_type": "code",
   "execution_count": null,
   "metadata": {},
   "outputs": [],
   "source": [
    "\n",
    "\n",
    "\n",
    "\n",
    "\n",
    "\n",
    "\n",
    "\n",
    "\n",
    "\n",
    "\n",
    "\n",
    "\n",
    "\n"
   ]
  },
  {
   "cell_type": "markdown",
   "metadata": {},
   "source": [
    "-----------------------------------------------------\n",
    "# This part is to get info for paper/report\n",
    "-----------------------------------------------------"
   ]
  },
  {
   "cell_type": "code",
   "execution_count": 208,
   "metadata": {},
   "outputs": [
    {
     "data": {
      "text/html": [
       "<div>\n",
       "<style scoped>\n",
       "    .dataframe tbody tr th:only-of-type {\n",
       "        vertical-align: middle;\n",
       "    }\n",
       "\n",
       "    .dataframe tbody tr th {\n",
       "        vertical-align: top;\n",
       "    }\n",
       "\n",
       "    .dataframe thead th {\n",
       "        text-align: right;\n",
       "    }\n",
       "</style>\n",
       "<table border=\"1\" class=\"dataframe\">\n",
       "  <thead>\n",
       "    <tr style=\"text-align: right;\">\n",
       "      <th></th>\n",
       "      <th>Subject</th>\n",
       "      <th>Treatment</th>\n",
       "      <th>Age</th>\n",
       "      <th>Effort</th>\n",
       "      <th>Frustration</th>\n",
       "      <th>Mental_Demand</th>\n",
       "      <th>Performance</th>\n",
       "      <th>Physical_Demand</th>\n",
       "      <th>Temporal_Demand</th>\n",
       "      <th>NASA_Total_Sum</th>\n",
       "      <th>PP_Arousal_Mode</th>\n",
       "      <th>HR_Arousal_Mode</th>\n",
       "      <th>BR_Arousal_Mode</th>\n",
       "      <th>PP_HR_Arousal_Mode</th>\n",
       "      <th>PP_BR_Arousal_Mode</th>\n",
       "      <th>HR_BR_Arousal_Mode</th>\n",
       "      <th>PP_HR_BR_Arousal_Mode</th>\n",
       "      <th>PP_Mean</th>\n",
       "      <th>PP_Median</th>\n",
       "      <th>PP_SD</th>\n",
       "      <th>PP_SS</th>\n",
       "      <th>Hr_Mean</th>\n",
       "      <th>Hr_Median</th>\n",
       "      <th>Hr_SD</th>\n",
       "      <th>Hr_SS</th>\n",
       "      <th>Br_Mean</th>\n",
       "      <th>Br_Median</th>\n",
       "      <th>Br_SD</th>\n",
       "      <th>Br_SS</th>\n",
       "      <th>Gender_Female</th>\n",
       "      <th>Gender_Male</th>\n",
       "    </tr>\n",
       "  </thead>\n",
       "  <tbody>\n",
       "    <tr>\n",
       "      <th>0</th>\n",
       "      <td>23</td>\n",
       "      <td>CD</td>\n",
       "      <td>20</td>\n",
       "      <td>15.0</td>\n",
       "      <td>2.0</td>\n",
       "      <td>17.0</td>\n",
       "      <td>19.0</td>\n",
       "      <td>3.0</td>\n",
       "      <td>2.0</td>\n",
       "      <td>58.0</td>\n",
       "      <td>relaxed</td>\n",
       "      <td>neutral</td>\n",
       "      <td>stressed</td>\n",
       "      <td>relaxed</td>\n",
       "      <td>neutral</td>\n",
       "      <td>neutral</td>\n",
       "      <td>neutral</td>\n",
       "      <td>-0.098586</td>\n",
       "      <td>-0.108300</td>\n",
       "      <td>0.044179</td>\n",
       "      <td>0.114758</td>\n",
       "      <td>-0.718405</td>\n",
       "      <td>-1.018405</td>\n",
       "      <td>0.948683</td>\n",
       "      <td>13.261056</td>\n",
       "      <td>5.167239</td>\n",
       "      <td>5.247239</td>\n",
       "      <td>0.703641</td>\n",
       "      <td>271.459616</td>\n",
       "      <td>1</td>\n",
       "      <td>0</td>\n",
       "    </tr>\n",
       "    <tr>\n",
       "      <th>1</th>\n",
       "      <td>23</td>\n",
       "      <td>CD</td>\n",
       "      <td>20</td>\n",
       "      <td>15.0</td>\n",
       "      <td>2.0</td>\n",
       "      <td>17.0</td>\n",
       "      <td>19.0</td>\n",
       "      <td>3.0</td>\n",
       "      <td>2.0</td>\n",
       "      <td>58.0</td>\n",
       "      <td>relaxed</td>\n",
       "      <td>neutral</td>\n",
       "      <td>stressed</td>\n",
       "      <td>neutral</td>\n",
       "      <td>neutral</td>\n",
       "      <td>neutral</td>\n",
       "      <td>neutral</td>\n",
       "      <td>-0.086169</td>\n",
       "      <td>-0.085678</td>\n",
       "      <td>0.023375</td>\n",
       "      <td>0.079168</td>\n",
       "      <td>2.881595</td>\n",
       "      <td>2.481595</td>\n",
       "      <td>3.314949</td>\n",
       "      <td>181.935903</td>\n",
       "      <td>6.747239</td>\n",
       "      <td>6.847239</td>\n",
       "      <td>0.240370</td>\n",
       "      <td>455.772377</td>\n",
       "      <td>1</td>\n",
       "      <td>0</td>\n",
       "    </tr>\n",
       "    <tr>\n",
       "      <th>2</th>\n",
       "      <td>23</td>\n",
       "      <td>CD</td>\n",
       "      <td>20</td>\n",
       "      <td>15.0</td>\n",
       "      <td>2.0</td>\n",
       "      <td>17.0</td>\n",
       "      <td>19.0</td>\n",
       "      <td>3.0</td>\n",
       "      <td>2.0</td>\n",
       "      <td>58.0</td>\n",
       "      <td>relaxed</td>\n",
       "      <td>neutral</td>\n",
       "      <td>stressed</td>\n",
       "      <td>neutral</td>\n",
       "      <td>neutral</td>\n",
       "      <td>neutral</td>\n",
       "      <td>neutral</td>\n",
       "      <td>-0.022697</td>\n",
       "      <td>-0.023942</td>\n",
       "      <td>0.009258</td>\n",
       "      <td>0.005923</td>\n",
       "      <td>-1.818405</td>\n",
       "      <td>-1.018405</td>\n",
       "      <td>1.988858</td>\n",
       "      <td>68.665964</td>\n",
       "      <td>5.647239</td>\n",
       "      <td>5.447239</td>\n",
       "      <td>0.569600</td>\n",
       "      <td>321.833113</td>\n",
       "      <td>1</td>\n",
       "      <td>0</td>\n",
       "    </tr>\n",
       "    <tr>\n",
       "      <th>3</th>\n",
       "      <td>23</td>\n",
       "      <td>CD</td>\n",
       "      <td>20</td>\n",
       "      <td>15.0</td>\n",
       "      <td>2.0</td>\n",
       "      <td>17.0</td>\n",
       "      <td>19.0</td>\n",
       "      <td>3.0</td>\n",
       "      <td>2.0</td>\n",
       "      <td>58.0</td>\n",
       "      <td>relaxed</td>\n",
       "      <td>neutral</td>\n",
       "      <td>neutral</td>\n",
       "      <td>neutral</td>\n",
       "      <td>neutral</td>\n",
       "      <td>neutral</td>\n",
       "      <td>neutral</td>\n",
       "      <td>-0.016457</td>\n",
       "      <td>-0.026847</td>\n",
       "      <td>0.030276</td>\n",
       "      <td>0.010958</td>\n",
       "      <td>-2.018405</td>\n",
       "      <td>-2.518405</td>\n",
       "      <td>2.403701</td>\n",
       "      <td>92.739584</td>\n",
       "      <td>4.847239</td>\n",
       "      <td>4.747239</td>\n",
       "      <td>0.298142</td>\n",
       "      <td>235.757285</td>\n",
       "      <td>1</td>\n",
       "      <td>0</td>\n",
       "    </tr>\n",
       "    <tr>\n",
       "      <th>4</th>\n",
       "      <td>23</td>\n",
       "      <td>CD</td>\n",
       "      <td>20</td>\n",
       "      <td>15.0</td>\n",
       "      <td>2.0</td>\n",
       "      <td>17.0</td>\n",
       "      <td>19.0</td>\n",
       "      <td>3.0</td>\n",
       "      <td>2.0</td>\n",
       "      <td>58.0</td>\n",
       "      <td>relaxed</td>\n",
       "      <td>neutral</td>\n",
       "      <td>stressed</td>\n",
       "      <td>neutral</td>\n",
       "      <td>neutral</td>\n",
       "      <td>stressed</td>\n",
       "      <td>neutral</td>\n",
       "      <td>-0.001634</td>\n",
       "      <td>-0.024624</td>\n",
       "      <td>0.067679</td>\n",
       "      <td>0.041250</td>\n",
       "      <td>2.381595</td>\n",
       "      <td>2.981595</td>\n",
       "      <td>1.955050</td>\n",
       "      <td>91.119952</td>\n",
       "      <td>6.927239</td>\n",
       "      <td>7.047239</td>\n",
       "      <td>0.792745</td>\n",
       "      <td>485.522438</td>\n",
       "      <td>1</td>\n",
       "      <td>0</td>\n",
       "    </tr>\n",
       "  </tbody>\n",
       "</table>\n",
       "</div>"
      ],
      "text/plain": [
       "   Subject Treatment  Age  Effort  Frustration  Mental_Demand  Performance  \\\n",
       "0       23        CD   20    15.0          2.0           17.0         19.0   \n",
       "1       23        CD   20    15.0          2.0           17.0         19.0   \n",
       "2       23        CD   20    15.0          2.0           17.0         19.0   \n",
       "3       23        CD   20    15.0          2.0           17.0         19.0   \n",
       "4       23        CD   20    15.0          2.0           17.0         19.0   \n",
       "\n",
       "   Physical_Demand  Temporal_Demand  NASA_Total_Sum PP_Arousal_Mode  \\\n",
       "0              3.0              2.0            58.0         relaxed   \n",
       "1              3.0              2.0            58.0         relaxed   \n",
       "2              3.0              2.0            58.0         relaxed   \n",
       "3              3.0              2.0            58.0         relaxed   \n",
       "4              3.0              2.0            58.0         relaxed   \n",
       "\n",
       "  HR_Arousal_Mode BR_Arousal_Mode PP_HR_Arousal_Mode PP_BR_Arousal_Mode  \\\n",
       "0         neutral        stressed            relaxed            neutral   \n",
       "1         neutral        stressed            neutral            neutral   \n",
       "2         neutral        stressed            neutral            neutral   \n",
       "3         neutral         neutral            neutral            neutral   \n",
       "4         neutral        stressed            neutral            neutral   \n",
       "\n",
       "  HR_BR_Arousal_Mode PP_HR_BR_Arousal_Mode   PP_Mean  PP_Median     PP_SD  \\\n",
       "0            neutral               neutral -0.098586  -0.108300  0.044179   \n",
       "1            neutral               neutral -0.086169  -0.085678  0.023375   \n",
       "2            neutral               neutral -0.022697  -0.023942  0.009258   \n",
       "3            neutral               neutral -0.016457  -0.026847  0.030276   \n",
       "4           stressed               neutral -0.001634  -0.024624  0.067679   \n",
       "\n",
       "      PP_SS   Hr_Mean  Hr_Median     Hr_SD       Hr_SS   Br_Mean  Br_Median  \\\n",
       "0  0.114758 -0.718405  -1.018405  0.948683   13.261056  5.167239   5.247239   \n",
       "1  0.079168  2.881595   2.481595  3.314949  181.935903  6.747239   6.847239   \n",
       "2  0.005923 -1.818405  -1.018405  1.988858   68.665964  5.647239   5.447239   \n",
       "3  0.010958 -2.018405  -2.518405  2.403701   92.739584  4.847239   4.747239   \n",
       "4  0.041250  2.381595   2.981595  1.955050   91.119952  6.927239   7.047239   \n",
       "\n",
       "      Br_SD       Br_SS  Gender_Female  Gender_Male  \n",
       "0  0.703641  271.459616              1            0  \n",
       "1  0.240370  455.772377              1            0  \n",
       "2  0.569600  321.833113              1            0  \n",
       "3  0.298142  235.757285              1            0  \n",
       "4  0.792745  485.522438              1            0  "
      ]
     },
     "execution_count": 208,
     "metadata": {},
     "output_type": "execute_result"
    }
   ],
   "source": [
    "final_df = pd.read_csv(data_dir + \"data_3.csv\")\n",
    "final_df.head()"
   ]
  },
  {
   "cell_type": "code",
   "execution_count": 209,
   "metadata": {},
   "outputs": [
    {
     "name": "stdout",
     "output_type": "stream",
     "text": [
      "Male: 3\n",
      "Female: 5\n"
     ]
    }
   ],
   "source": [
    "# final_df.groupby('Subject')['Gender_Male'].sum()\n",
    "\n",
    "print(\"Male: \" + str(final_df.groupby(['Subject', 'Gender_Male'])['Gender_Male'].sum().agg(lambda x: x.ne(0).sum())))\n",
    "print(\"Female: \" + str(final_df.groupby(['Subject', 'Gender_Male'])['Gender_Male'].sum().agg(lambda x: x.eq(0).sum())))"
   ]
  },
  {
   "cell_type": "code",
   "execution_count": 210,
   "metadata": {},
   "outputs": [
    {
     "name": "stdout",
     "output_type": "stream",
     "text": [
      "19 22\n"
     ]
    }
   ],
   "source": [
    "print(final_df.Age.min(), final_df.Age.max())"
   ]
  },
  {
   "cell_type": "code",
   "execution_count": 211,
   "metadata": {},
   "outputs": [
    {
     "name": "stdout",
     "output_type": "stream",
     "text": [
      "Total Subjects: 8\n",
      "Total Data: 675\n"
     ]
    }
   ],
   "source": [
    "print(\"Total Subjects: \" + str(len(final_df.Subject.unique())))\n",
    "print(\"Total Data: \" + str(final_df.shape[0]))"
   ]
  },
  {
   "cell_type": "code",
   "execution_count": null,
   "metadata": {},
   "outputs": [],
   "source": [
    "\n",
    "\n",
    "\n",
    "\n",
    "\n",
    "\n",
    "\n",
    "\n",
    "\n",
    "\n",
    "\n",
    "\n",
    "\n",
    "\n",
    "\n",
    "\n"
   ]
  },
  {
   "cell_type": "code",
   "execution_count": 212,
   "metadata": {},
   "outputs": [],
   "source": [
    "# def get_non_overlapping_window_df(df_arousal):\n",
    "#     window_df = pd.DataFrame()\n",
    "    \n",
    "#     print('Subject Processing: ')\n",
    "#     for subj in df_arousal.Subject.unique():\n",
    "# #     for subj in [2]:\n",
    "#         print(subj)\n",
    "        \n",
    "#         for drive in df_arousal.Drive.unique():\n",
    "#             subj_drive_df = df_arousal.copy()[(df_arousal['Subject'] == subj) & (df_arousal['Drive'] == drive )]\n",
    "#             # print(subj, drive, len(subj_drive_df))\n",
    "\n",
    "#             i = 0\n",
    "#             totalRows = subj_drive_df.shape[0]\n",
    "            \n",
    "#             while i+2 < totalRows: # proceed for atleast 3 rows\n",
    "#                 subj_drive_window_df = subj_drive_df.copy().iloc[i: min(totalRows, i+10)]\n",
    "#                 i += 10\n",
    "                \n",
    "                \n",
    "#                 subj_drive_window_first_row = subj_drive_window_df.iloc[0]\n",
    "                \n",
    "#                 temp_df = pd.DataFrame({'Subject': [subj], \n",
    "#                                         'Drive': [drive], \n",
    "#                                         'Treatment': [subj_drive_window_first_row.Treatment],\n",
    "#                                         'Gender': [subj_drive_window_first_row.Gender],\n",
    "#                                         'Age': [subj_drive_window_first_row.Age],\n",
    "#                                         'STAI': [subj_drive_window_first_row.STAI],\n",
    "#                                         'Type_AB': [subj_drive_window_first_row.Type_AB],\n",
    "#                                         'Effort': [subj_drive_window_first_row.Effort],\n",
    "#                                         'Frustration': [subj_drive_window_first_row.Frustration],\n",
    "#                                         'Mental_Demand': [subj_drive_window_first_row['Mental Demand']],\n",
    "#                                         'Performance': [subj_drive_window_first_row['Performance']],\n",
    "#                                         'Physical_Demand': [subj_drive_window_first_row['Physical Demand']],\n",
    "#                                         'Temporal_Demand': [subj_drive_window_first_row['Temporal Demand']],\n",
    "#                                         'NASA_Total_Sum': [subj_drive_window_first_row['NASA Total Sum']],\n",
    "#                                        })\n",
    "                \n",
    "#                 # temp_df['PP_Arousal_Mode'] = subj_drive_window_df.PP_Arousal.mode()\n",
    "#                 # temp_df['PP_2_Arousal_Mode'] = subj_drive_window_df.PP_Arousal_2.mode()\n",
    "#                 # temp_df['HR_Arousal_Mode'] = subj_drive_window_df.HR_Arousal.mode()\n",
    "#                 # temp_df['BR_Arousal_Mode'] = subj_drive_window_df.BR_Arousal.mode()\n",
    "                \n",
    "#                 temp_df['PP_Arousal_Mode_Hist'] = subj_drive_window_df.PP_Arousal.mode()\n",
    "#                 temp_df['PP_2_Arousal_Mode_Hist'] = subj_drive_window_df.PP_Arousal_2.mode()\n",
    "#                 temp_df['HR_Arousal_Mode_Hist'] = subj_drive_window_df.HR_Arousal.mode()\n",
    "#                 temp_df['BR_Arousal_Mode_Hist'] = subj_drive_window_df.BR_Arousal.mode()\n",
    "                \n",
    "#                 temp_df['PP_Arousal_Mode_ecdf'] = subj_drive_window_df.PP_Arousal_ecdf.mode()\n",
    "#                 temp_df['HR_Arousal_Mode_ecdf'] = subj_drive_window_df.HR_Arousal_ecdf.mode()\n",
    "#                 temp_df['BR_Arousal_Mode_ecdf'] = subj_drive_window_df.BR_Arousal_ecdf.mode()\n",
    "                \n",
    "\n",
    "\n",
    "#                 temp_df['Perinasal_Mean'] = subj_drive_window_df.Perinasal_Log.mean()\n",
    "#                 temp_df['Perinasal_Median'] = subj_drive_window_df.Perinasal_Log.median()\n",
    "#                 temp_df['Perinasal_SD'] = stdev(subj_drive_window_df.Perinasal_Log)\n",
    "#                 temp_df['Perinasal_SS'] = sum_of_squares(subj_drive_window_df.Perinasal_Log)\n",
    "                \n",
    "#                 temp_df['Hr_Mean'] = subj_drive_window_df.Heart.mean()\n",
    "#                 temp_df['Hr_Median'] = subj_drive_window_df.Heart.median()\n",
    "#                 temp_df['Hr_SD'] = stdev(subj_drive_window_df.Heart)\n",
    "#                 temp_df['Hr_SS'] = sum_of_squares(subj_drive_window_df.Heart)\n",
    "                \n",
    "#                 temp_df['Br_Mean'] = subj_drive_window_df.Breathing.mean()\n",
    "#                 temp_df['Br_Median'] = subj_drive_window_df.Breathing.median()\n",
    "#                 temp_df['Br_SD'] = stdev(subj_drive_window_df.Breathing)\n",
    "#                 temp_df['Br_SS'] = sum_of_squares(subj_drive_window_df.Breathing)\n",
    "  \n",
    "#                 window_df = window_df.append(temp_df)\n",
    "                \n",
    "#     return window_df\n",
    "\n",
    "\n",
    "\n",
    "# final_df = get_non_overlapping_window_df(df_arousal)\n"
   ]
  }
 ],
 "metadata": {
  "kernelspec": {
   "display_name": "Python 3 (ipykernel)",
   "language": "python",
   "name": "python3"
  },
  "language_info": {
   "codemirror_mode": {
    "name": "ipython",
    "version": 3
   },
   "file_extension": ".py",
   "mimetype": "text/x-python",
   "name": "python",
   "nbconvert_exporter": "python",
   "pygments_lexer": "ipython3",
   "version": "3.7.4"
  }
 },
 "nbformat": 4,
 "nbformat_minor": 4
}
