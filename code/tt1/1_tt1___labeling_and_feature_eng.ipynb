{
 "cells": [
  {
   "cell_type": "code",
   "execution_count": 1,
   "metadata": {},
   "outputs": [],
   "source": [
    "import pandas as pd\n",
    "import numpy as np\n",
    "\n",
    "from statistics import stdev\n",
    "from scipy.stats import mode\n",
    "\n",
    "from IPython.display import IFrame, display\n",
    "\n",
    "import matplotlib.pyplot as plt\n",
    "import seaborn as sns\n",
    "\n",
    "\n",
    "# from sklearn.model_selection import train_test_split, RandomizedSearchCV\n",
    "# from sklearn.ensemble import RandomForestClassifier\n",
    "# from sklearn.metrics import accuracy_score, f1_score, recall_score, precision_score, confusion_matrix, ConfusionMatrixDisplay\n",
    "\n",
    "\n",
    "\n",
    "\n",
    "%run ../all_studies/us_common_functions.ipynb\n",
    "\n",
    "\n",
    "\n",
    "\n",
    "\n",
    "\n",
    "\n",
    "#########################################\n",
    "window_size=10\n",
    "overlappping_window=False\n",
    "#########################################\n",
    "\n",
    "\n",
    "\n",
    "\n",
    "data_dir = '../../data/tt1/'\n",
    "fig_dir = '../../figure/tt1/'\n",
    "\n",
    "\n",
    "\n",
    "\n"
   ]
  },
  {
   "cell_type": "code",
   "execution_count": 2,
   "metadata": {},
   "outputs": [
    {
     "data": {
      "text/html": [
       "<div>\n",
       "<style scoped>\n",
       "    .dataframe tbody tr th:only-of-type {\n",
       "        vertical-align: middle;\n",
       "    }\n",
       "\n",
       "    .dataframe tbody tr th {\n",
       "        vertical-align: top;\n",
       "    }\n",
       "\n",
       "    .dataframe thead th {\n",
       "        text-align: right;\n",
       "    }\n",
       "</style>\n",
       "<table border=\"1\" class=\"dataframe\">\n",
       "  <thead>\n",
       "    <tr style=\"text-align: right;\">\n",
       "      <th></th>\n",
       "      <th>Subject</th>\n",
       "      <th>Drive</th>\n",
       "      <th>Perinasal</th>\n",
       "      <th>Palm</th>\n",
       "      <th>Breathing</th>\n",
       "      <th>Heart</th>\n",
       "      <th>Perinasal_Log</th>\n",
       "      <th>Palm_Log</th>\n",
       "      <th>Drive_Label</th>\n",
       "      <th>Gender</th>\n",
       "      <th>Age</th>\n",
       "      <th>STAI</th>\n",
       "      <th>Type_AB</th>\n",
       "      <th>Effort</th>\n",
       "      <th>Frustration</th>\n",
       "      <th>Mental Demand</th>\n",
       "      <th>Performance</th>\n",
       "      <th>Physical Demand</th>\n",
       "      <th>Temporal Demand</th>\n",
       "      <th>NASA Total Sum</th>\n",
       "    </tr>\n",
       "  </thead>\n",
       "  <tbody>\n",
       "    <tr>\n",
       "      <th>0</th>\n",
       "      <td>1</td>\n",
       "      <td>ND</td>\n",
       "      <td>0.004495</td>\n",
       "      <td>57.341256</td>\n",
       "      <td>16.5</td>\n",
       "      <td>69.0</td>\n",
       "      <td>-5.404857</td>\n",
       "      <td>4.049020</td>\n",
       "      <td>ND</td>\n",
       "      <td>Female</td>\n",
       "      <td>69</td>\n",
       "      <td>46</td>\n",
       "      <td>85</td>\n",
       "      <td>14</td>\n",
       "      <td>1.0</td>\n",
       "      <td>3</td>\n",
       "      <td>19</td>\n",
       "      <td>1</td>\n",
       "      <td>1</td>\n",
       "      <td>39.0</td>\n",
       "    </tr>\n",
       "    <tr>\n",
       "      <th>1</th>\n",
       "      <td>1</td>\n",
       "      <td>ND</td>\n",
       "      <td>0.004452</td>\n",
       "      <td>57.243300</td>\n",
       "      <td>16.6</td>\n",
       "      <td>68.0</td>\n",
       "      <td>-5.414371</td>\n",
       "      <td>4.047311</td>\n",
       "      <td>ND</td>\n",
       "      <td>Female</td>\n",
       "      <td>69</td>\n",
       "      <td>46</td>\n",
       "      <td>85</td>\n",
       "      <td>14</td>\n",
       "      <td>1.0</td>\n",
       "      <td>3</td>\n",
       "      <td>19</td>\n",
       "      <td>1</td>\n",
       "      <td>1</td>\n",
       "      <td>39.0</td>\n",
       "    </tr>\n",
       "    <tr>\n",
       "      <th>2</th>\n",
       "      <td>1</td>\n",
       "      <td>ND</td>\n",
       "      <td>0.004373</td>\n",
       "      <td>57.053396</td>\n",
       "      <td>16.6</td>\n",
       "      <td>67.0</td>\n",
       "      <td>-5.432192</td>\n",
       "      <td>4.043988</td>\n",
       "      <td>ND</td>\n",
       "      <td>Female</td>\n",
       "      <td>69</td>\n",
       "      <td>46</td>\n",
       "      <td>85</td>\n",
       "      <td>14</td>\n",
       "      <td>1.0</td>\n",
       "      <td>3</td>\n",
       "      <td>19</td>\n",
       "      <td>1</td>\n",
       "      <td>1</td>\n",
       "      <td>39.0</td>\n",
       "    </tr>\n",
       "    <tr>\n",
       "      <th>3</th>\n",
       "      <td>1</td>\n",
       "      <td>ND</td>\n",
       "      <td>0.004289</td>\n",
       "      <td>56.907952</td>\n",
       "      <td>17.0</td>\n",
       "      <td>68.0</td>\n",
       "      <td>-5.451620</td>\n",
       "      <td>4.041435</td>\n",
       "      <td>ND</td>\n",
       "      <td>Female</td>\n",
       "      <td>69</td>\n",
       "      <td>46</td>\n",
       "      <td>85</td>\n",
       "      <td>14</td>\n",
       "      <td>1.0</td>\n",
       "      <td>3</td>\n",
       "      <td>19</td>\n",
       "      <td>1</td>\n",
       "      <td>1</td>\n",
       "      <td>39.0</td>\n",
       "    </tr>\n",
       "    <tr>\n",
       "      <th>4</th>\n",
       "      <td>1</td>\n",
       "      <td>ND</td>\n",
       "      <td>0.004210</td>\n",
       "      <td>56.758544</td>\n",
       "      <td>17.0</td>\n",
       "      <td>67.0</td>\n",
       "      <td>-5.470375</td>\n",
       "      <td>4.038806</td>\n",
       "      <td>ND</td>\n",
       "      <td>Female</td>\n",
       "      <td>69</td>\n",
       "      <td>46</td>\n",
       "      <td>85</td>\n",
       "      <td>14</td>\n",
       "      <td>1.0</td>\n",
       "      <td>3</td>\n",
       "      <td>19</td>\n",
       "      <td>1</td>\n",
       "      <td>1</td>\n",
       "      <td>39.0</td>\n",
       "    </tr>\n",
       "  </tbody>\n",
       "</table>\n",
       "</div>"
      ],
      "text/plain": [
       "   Subject Drive  Perinasal       Palm  Breathing  Heart  Perinasal_Log  \\\n",
       "0        1    ND   0.004495  57.341256       16.5   69.0      -5.404857   \n",
       "1        1    ND   0.004452  57.243300       16.6   68.0      -5.414371   \n",
       "2        1    ND   0.004373  57.053396       16.6   67.0      -5.432192   \n",
       "3        1    ND   0.004289  56.907952       17.0   68.0      -5.451620   \n",
       "4        1    ND   0.004210  56.758544       17.0   67.0      -5.470375   \n",
       "\n",
       "   Palm_Log Drive_Label  Gender  Age  STAI  Type_AB  Effort  Frustration  \\\n",
       "0  4.049020          ND  Female   69    46       85      14          1.0   \n",
       "1  4.047311          ND  Female   69    46       85      14          1.0   \n",
       "2  4.043988          ND  Female   69    46       85      14          1.0   \n",
       "3  4.041435          ND  Female   69    46       85      14          1.0   \n",
       "4  4.038806          ND  Female   69    46       85      14          1.0   \n",
       "\n",
       "   Mental Demand  Performance  Physical Demand  Temporal Demand  \\\n",
       "0              3           19                1                1   \n",
       "1              3           19                1                1   \n",
       "2              3           19                1                1   \n",
       "3              3           19                1                1   \n",
       "4              3           19                1                1   \n",
       "\n",
       "   NASA Total Sum  \n",
       "0            39.0  \n",
       "1            39.0  \n",
       "2            39.0  \n",
       "3            39.0  \n",
       "4            39.0  "
      ]
     },
     "execution_count": 2,
     "metadata": {},
     "output_type": "execute_result"
    }
   ],
   "source": [
    "df = pd.read_csv(data_dir + 'data_2.csv')\n",
    "df.head()"
   ]
  },
  {
   "cell_type": "code",
   "execution_count": 3,
   "metadata": {},
   "outputs": [
    {
     "data": {
      "text/plain": [
       "Index(['Subject', 'Drive', 'Perinasal', 'Palm', 'Breathing', 'Heart',\n",
       "       'Perinasal_Log', 'Palm_Log', 'Drive_Label', 'Gender', 'Age', 'STAI',\n",
       "       'Type_AB', 'Effort', 'Frustration', 'Mental Demand', 'Performance',\n",
       "       'Physical Demand', 'Temporal Demand', 'NASA Total Sum'],\n",
       "      dtype='object')"
      ]
     },
     "execution_count": 3,
     "metadata": {},
     "output_type": "execute_result"
    }
   ],
   "source": [
    "df.columns"
   ]
  },
  {
   "cell_type": "code",
   "execution_count": 4,
   "metadata": {},
   "outputs": [
    {
     "name": "stdout",
     "output_type": "stream",
     "text": [
      "Total Subjects: 26\n",
      "[ 1  2  3  4  5  6  7  8  9 10 13 15 16 17 22 23 24 26 28 29 30 31 32 41\n",
      " 12 18]\n"
     ]
    }
   ],
   "source": [
    "print('Total Subjects: ' + str(len(df.Subject.unique())))\n",
    "print(df.Subject.unique())"
   ]
  },
  {
   "cell_type": "code",
   "execution_count": null,
   "metadata": {},
   "outputs": [],
   "source": [
    "\n",
    "\n",
    "\n",
    "\n"
   ]
  },
  {
   "cell_type": "markdown",
   "metadata": {},
   "source": [
    "# Creating csv for additional plots for paper -->"
   ]
  },
  {
   "cell_type": "code",
   "execution_count": 5,
   "metadata": {},
   "outputs": [
    {
     "name": "stdout",
     "output_type": "stream",
     "text": [
      "(34767, 22)\n",
      "(22037, 22)\n"
     ]
    }
   ],
   "source": [
    "df['Treatment'] = df['Drive_Label']\n",
    "df['TimeElapsed'] = df.groupby(['Subject', 'Treatment']).cumcount()+1\n",
    "df.to_csv(data_dir + \"data_2.1.csv\", sep=',', index=False)\n",
    "\n",
    "\n",
    "plot_df = df.copy()\n",
    "\n",
    "\n",
    "\n",
    "\n",
    "\n",
    "plot_df['Perinasal_Log'] = np.log(plot_df['Perinasal'])\n",
    "\n",
    "\n",
    "def quality_control_phase1(df, col, validMin, validMax):\n",
    "    return df[(validMin <= df[col]) & (df[col] <= validMax)]\n",
    "\n",
    "print(plot_df.shape)\n",
    "plot_df = quality_control_phase1(plot_df, 'Heart', 40, 140)\n",
    "plot_df = quality_control_phase1(plot_df, 'Breathing', 4, 40)\n",
    "print(plot_df.shape)\n",
    "\n",
    "\n",
    "plot_df.to_csv(data_dir + \"data_2.2.csv\", sep=',', index=False)"
   ]
  },
  {
   "cell_type": "code",
   "execution_count": null,
   "metadata": {},
   "outputs": [],
   "source": [
    "\n",
    "\n",
    "\n",
    "\n",
    "\n",
    "\n"
   ]
  },
  {
   "cell_type": "code",
   "execution_count": 6,
   "metadata": {},
   "outputs": [
    {
     "data": {
      "text/plain": [
       "Subject               0\n",
       "Drive                 0\n",
       "Perinasal          1135\n",
       "Palm               7358\n",
       "Breathing          1345\n",
       "Heart              1345\n",
       "Perinasal_Log      1135\n",
       "Palm_Log           7358\n",
       "Drive_Label           0\n",
       "Gender                0\n",
       "Age                   0\n",
       "STAI                  0\n",
       "Type_AB               0\n",
       "Effort                0\n",
       "Frustration           0\n",
       "Mental Demand         0\n",
       "Performance           0\n",
       "Physical Demand       0\n",
       "Temporal Demand       0\n",
       "NASA Total Sum        0\n",
       "Treatment             0\n",
       "TimeElapsed           0\n",
       "dtype: int64"
      ]
     },
     "execution_count": 6,
     "metadata": {},
     "output_type": "execute_result"
    }
   ],
   "source": [
    "# CHECK NA/Null\n",
    "df.isnull().sum()"
   ]
  },
  {
   "cell_type": "code",
   "execution_count": 7,
   "metadata": {},
   "outputs": [
    {
     "name": "stdout",
     "output_type": "stream",
     "text": [
      "['ND' 'CD' 'MD' 'FD']\n",
      "['ND' 'MD']\n"
     ]
    }
   ],
   "source": [
    "print(df.Treatment.unique())\n",
    "df = df[df['Treatment'].isin(['ND', 'MD'])]\n",
    "print(df.Treatment.unique())"
   ]
  },
  {
   "cell_type": "code",
   "execution_count": 8,
   "metadata": {},
   "outputs": [
    {
     "data": {
      "text/plain": [
       "Subject               0\n",
       "Drive                 0\n",
       "Perinasal           722\n",
       "Palm               5023\n",
       "Breathing          1064\n",
       "Heart              1064\n",
       "Perinasal_Log       722\n",
       "Palm_Log           5023\n",
       "Drive_Label           0\n",
       "Gender                0\n",
       "Age                   0\n",
       "STAI                  0\n",
       "Type_AB               0\n",
       "Effort                0\n",
       "Frustration           0\n",
       "Mental Demand         0\n",
       "Performance           0\n",
       "Physical Demand       0\n",
       "Temporal Demand       0\n",
       "NASA Total Sum        0\n",
       "Treatment             0\n",
       "TimeElapsed           0\n",
       "dtype: int64"
      ]
     },
     "execution_count": 8,
     "metadata": {},
     "output_type": "execute_result"
    }
   ],
   "source": [
    "df.isnull().sum()"
   ]
  },
  {
   "cell_type": "code",
   "execution_count": 9,
   "metadata": {},
   "outputs": [
    {
     "data": {
      "text/plain": [
       "Subject               0\n",
       "Drive                 0\n",
       "Perinasal           722\n",
       "Breathing          1064\n",
       "Heart              1064\n",
       "Perinasal_Log       722\n",
       "Drive_Label           0\n",
       "Gender                0\n",
       "Age                   0\n",
       "STAI                  0\n",
       "Type_AB               0\n",
       "Effort                0\n",
       "Frustration           0\n",
       "Mental Demand         0\n",
       "Performance           0\n",
       "Physical Demand       0\n",
       "Temporal Demand       0\n",
       "NASA Total Sum        0\n",
       "Treatment             0\n",
       "TimeElapsed           0\n",
       "dtype: int64"
      ]
     },
     "execution_count": 9,
     "metadata": {},
     "output_type": "execute_result"
    }
   ],
   "source": [
    "df.drop('Palm', axis=1, inplace=True)\n",
    "df.drop('Palm_Log', axis=1, inplace=True)\n",
    "df.isnull().sum()"
   ]
  },
  {
   "cell_type": "code",
   "execution_count": null,
   "metadata": {},
   "outputs": [],
   "source": [
    "\n",
    "\n",
    "\n",
    "\n",
    "\n"
   ]
  },
  {
   "cell_type": "code",
   "execution_count": 10,
   "metadata": {},
   "outputs": [
    {
     "name": "stdout",
     "output_type": "stream",
     "text": [
      "[0.00084294014232, 0.0113369897007942]\n",
      "[49.0, 113.0]\n",
      "[4.1, 31.4]\n"
     ]
    }
   ],
   "source": [
    "def get_range(df, col):\n",
    "    return [df[col].min(), df[col].max()]\n",
    "\n",
    "print(get_range(df, 'Perinasal'))\n",
    "print(get_range(df, 'Heart'))\n",
    "print(get_range(df, 'Breathing'))"
   ]
  },
  {
   "cell_type": "code",
   "execution_count": 11,
   "metadata": {},
   "outputs": [
    {
     "data": {
      "text/html": [
       "<div>\n",
       "<style scoped>\n",
       "    .dataframe tbody tr th:only-of-type {\n",
       "        vertical-align: middle;\n",
       "    }\n",
       "\n",
       "    .dataframe tbody tr th {\n",
       "        vertical-align: top;\n",
       "    }\n",
       "\n",
       "    .dataframe thead th {\n",
       "        text-align: right;\n",
       "    }\n",
       "</style>\n",
       "<table border=\"1\" class=\"dataframe\">\n",
       "  <thead>\n",
       "    <tr style=\"text-align: right;\">\n",
       "      <th></th>\n",
       "      <th>nunique</th>\n",
       "      <th>min</th>\n",
       "      <th>max</th>\n",
       "      <th>count</th>\n",
       "    </tr>\n",
       "    <tr>\n",
       "      <th>Subject</th>\n",
       "      <th></th>\n",
       "      <th></th>\n",
       "      <th></th>\n",
       "      <th></th>\n",
       "    </tr>\n",
       "  </thead>\n",
       "  <tbody>\n",
       "  </tbody>\n",
       "</table>\n",
       "</div>"
      ],
      "text/plain": [
       "Empty DataFrame\n",
       "Columns: [nunique, min, max, count]\n",
       "Index: []"
      ]
     },
     "execution_count": 11,
     "metadata": {},
     "output_type": "execute_result"
    }
   ],
   "source": [
    "invalid_df = df[(140 < df['Heart']) | (df['Heart'] < 40)]\n",
    "invalid_df.groupby(['Subject'])['Drive'].agg(['nunique','min','max','count'])"
   ]
  },
  {
   "cell_type": "code",
   "execution_count": 12,
   "metadata": {},
   "outputs": [
    {
     "name": "stdout",
     "output_type": "stream",
     "text": [
      "(22473, 20)\n",
      "(21409, 20)\n",
      "[49.0, 113.0]\n",
      "[4.1, 31.4]\n"
     ]
    }
   ],
   "source": [
    "def quality_control_phase1(df, col, validMin, validMax):\n",
    "    return df[(validMin <= df[col]) & (df[col] <= validMax)]\n",
    "\n",
    "print(df.shape)\n",
    "df = quality_control_phase1(df, 'Heart', 40, 140)\n",
    "df = quality_control_phase1(df, 'Breathing', 4, 40)\n",
    "print(df.shape)\n",
    "\n",
    "print(get_range(df, 'Heart'))\n",
    "print(get_range(df, 'Breathing'))"
   ]
  },
  {
   "cell_type": "code",
   "execution_count": 13,
   "metadata": {},
   "outputs": [
    {
     "data": {
      "text/html": [
       "<div>\n",
       "<style scoped>\n",
       "    .dataframe tbody tr th:only-of-type {\n",
       "        vertical-align: middle;\n",
       "    }\n",
       "\n",
       "    .dataframe tbody tr th {\n",
       "        vertical-align: top;\n",
       "    }\n",
       "\n",
       "    .dataframe thead th {\n",
       "        text-align: right;\n",
       "    }\n",
       "</style>\n",
       "<table border=\"1\" class=\"dataframe\">\n",
       "  <thead>\n",
       "    <tr style=\"text-align: right;\">\n",
       "      <th></th>\n",
       "      <th>nunique</th>\n",
       "      <th>min</th>\n",
       "      <th>max</th>\n",
       "      <th>count</th>\n",
       "    </tr>\n",
       "    <tr>\n",
       "      <th>Subject</th>\n",
       "      <th></th>\n",
       "      <th></th>\n",
       "      <th></th>\n",
       "      <th></th>\n",
       "    </tr>\n",
       "  </thead>\n",
       "  <tbody>\n",
       "    <tr>\n",
       "      <th>1</th>\n",
       "      <td>2</td>\n",
       "      <td>MD</td>\n",
       "      <td>ND</td>\n",
       "      <td>990</td>\n",
       "    </tr>\n",
       "    <tr>\n",
       "      <th>2</th>\n",
       "      <td>2</td>\n",
       "      <td>MD</td>\n",
       "      <td>ND</td>\n",
       "      <td>997</td>\n",
       "    </tr>\n",
       "    <tr>\n",
       "      <th>3</th>\n",
       "      <td>2</td>\n",
       "      <td>MD</td>\n",
       "      <td>ND</td>\n",
       "      <td>998</td>\n",
       "    </tr>\n",
       "    <tr>\n",
       "      <th>4</th>\n",
       "      <td>2</td>\n",
       "      <td>MD</td>\n",
       "      <td>ND</td>\n",
       "      <td>997</td>\n",
       "    </tr>\n",
       "    <tr>\n",
       "      <th>5</th>\n",
       "      <td>2</td>\n",
       "      <td>MD</td>\n",
       "      <td>ND</td>\n",
       "      <td>993</td>\n",
       "    </tr>\n",
       "    <tr>\n",
       "      <th>6</th>\n",
       "      <td>2</td>\n",
       "      <td>MD</td>\n",
       "      <td>ND</td>\n",
       "      <td>1001</td>\n",
       "    </tr>\n",
       "    <tr>\n",
       "      <th>7</th>\n",
       "      <td>2</td>\n",
       "      <td>MD</td>\n",
       "      <td>ND</td>\n",
       "      <td>948</td>\n",
       "    </tr>\n",
       "    <tr>\n",
       "      <th>8</th>\n",
       "      <td>1</td>\n",
       "      <td>ND</td>\n",
       "      <td>ND</td>\n",
       "      <td>479</td>\n",
       "    </tr>\n",
       "    <tr>\n",
       "      <th>9</th>\n",
       "      <td>2</td>\n",
       "      <td>MD</td>\n",
       "      <td>ND</td>\n",
       "      <td>997</td>\n",
       "    </tr>\n",
       "    <tr>\n",
       "      <th>10</th>\n",
       "      <td>2</td>\n",
       "      <td>MD</td>\n",
       "      <td>ND</td>\n",
       "      <td>1007</td>\n",
       "    </tr>\n",
       "    <tr>\n",
       "      <th>12</th>\n",
       "      <td>1</td>\n",
       "      <td>MD</td>\n",
       "      <td>MD</td>\n",
       "      <td>463</td>\n",
       "    </tr>\n",
       "    <tr>\n",
       "      <th>13</th>\n",
       "      <td>2</td>\n",
       "      <td>MD</td>\n",
       "      <td>ND</td>\n",
       "      <td>967</td>\n",
       "    </tr>\n",
       "    <tr>\n",
       "      <th>15</th>\n",
       "      <td>2</td>\n",
       "      <td>MD</td>\n",
       "      <td>ND</td>\n",
       "      <td>478</td>\n",
       "    </tr>\n",
       "    <tr>\n",
       "      <th>16</th>\n",
       "      <td>2</td>\n",
       "      <td>MD</td>\n",
       "      <td>ND</td>\n",
       "      <td>986</td>\n",
       "    </tr>\n",
       "    <tr>\n",
       "      <th>17</th>\n",
       "      <td>2</td>\n",
       "      <td>MD</td>\n",
       "      <td>ND</td>\n",
       "      <td>941</td>\n",
       "    </tr>\n",
       "    <tr>\n",
       "      <th>22</th>\n",
       "      <td>2</td>\n",
       "      <td>MD</td>\n",
       "      <td>ND</td>\n",
       "      <td>989</td>\n",
       "    </tr>\n",
       "    <tr>\n",
       "      <th>23</th>\n",
       "      <td>1</td>\n",
       "      <td>ND</td>\n",
       "      <td>ND</td>\n",
       "      <td>491</td>\n",
       "    </tr>\n",
       "    <tr>\n",
       "      <th>24</th>\n",
       "      <td>2</td>\n",
       "      <td>MD</td>\n",
       "      <td>ND</td>\n",
       "      <td>972</td>\n",
       "    </tr>\n",
       "    <tr>\n",
       "      <th>26</th>\n",
       "      <td>2</td>\n",
       "      <td>MD</td>\n",
       "      <td>ND</td>\n",
       "      <td>978</td>\n",
       "    </tr>\n",
       "    <tr>\n",
       "      <th>28</th>\n",
       "      <td>1</td>\n",
       "      <td>ND</td>\n",
       "      <td>ND</td>\n",
       "      <td>495</td>\n",
       "    </tr>\n",
       "    <tr>\n",
       "      <th>29</th>\n",
       "      <td>2</td>\n",
       "      <td>MD</td>\n",
       "      <td>ND</td>\n",
       "      <td>941</td>\n",
       "    </tr>\n",
       "    <tr>\n",
       "      <th>30</th>\n",
       "      <td>2</td>\n",
       "      <td>MD</td>\n",
       "      <td>ND</td>\n",
       "      <td>932</td>\n",
       "    </tr>\n",
       "    <tr>\n",
       "      <th>31</th>\n",
       "      <td>2</td>\n",
       "      <td>MD</td>\n",
       "      <td>ND</td>\n",
       "      <td>959</td>\n",
       "    </tr>\n",
       "    <tr>\n",
       "      <th>32</th>\n",
       "      <td>2</td>\n",
       "      <td>MD</td>\n",
       "      <td>ND</td>\n",
       "      <td>908</td>\n",
       "    </tr>\n",
       "    <tr>\n",
       "      <th>41</th>\n",
       "      <td>1</td>\n",
       "      <td>ND</td>\n",
       "      <td>ND</td>\n",
       "      <td>502</td>\n",
       "    </tr>\n",
       "  </tbody>\n",
       "</table>\n",
       "</div>"
      ],
      "text/plain": [
       "         nunique min max  count\n",
       "Subject                        \n",
       "1              2  MD  ND    990\n",
       "2              2  MD  ND    997\n",
       "3              2  MD  ND    998\n",
       "4              2  MD  ND    997\n",
       "5              2  MD  ND    993\n",
       "6              2  MD  ND   1001\n",
       "7              2  MD  ND    948\n",
       "8              1  ND  ND    479\n",
       "9              2  MD  ND    997\n",
       "10             2  MD  ND   1007\n",
       "12             1  MD  MD    463\n",
       "13             2  MD  ND    967\n",
       "15             2  MD  ND    478\n",
       "16             2  MD  ND    986\n",
       "17             2  MD  ND    941\n",
       "22             2  MD  ND    989\n",
       "23             1  ND  ND    491\n",
       "24             2  MD  ND    972\n",
       "26             2  MD  ND    978\n",
       "28             1  ND  ND    495\n",
       "29             2  MD  ND    941\n",
       "30             2  MD  ND    932\n",
       "31             2  MD  ND    959\n",
       "32             2  MD  ND    908\n",
       "41             1  ND  ND    502"
      ]
     },
     "execution_count": 13,
     "metadata": {},
     "output_type": "execute_result"
    }
   ],
   "source": [
    "df.groupby(['Subject'])['Treatment'].agg(['nunique','min','max','count'])"
   ]
  },
  {
   "cell_type": "code",
   "execution_count": null,
   "metadata": {},
   "outputs": [],
   "source": [
    "\n",
    "\n",
    "\n",
    "\n"
   ]
  },
  {
   "cell_type": "code",
   "execution_count": 14,
   "metadata": {},
   "outputs": [],
   "source": [
    "def get_mean(df, col_name):\n",
    "    return df.groupby(['Subject', 'Treatment'])[col_name].transform('mean')\n",
    "\n",
    "def get_baseline_mean(df, col_name):\n",
    "    return df[col_name].iloc[0]"
   ]
  },
  {
   "cell_type": "code",
   "execution_count": 15,
   "metadata": {},
   "outputs": [],
   "source": [
    "df['PP_Mean'] = get_mean(df, 'Perinasal_Log')\n",
    "df['HR_Mean'] = get_mean(df, 'Heart')\n",
    "df['BR_Mean'] = get_mean(df, 'Breathing')"
   ]
  },
  {
   "cell_type": "code",
   "execution_count": 16,
   "metadata": {},
   "outputs": [],
   "source": [
    "grouped_df = df.groupby(['Subject', 'Treatment', 'PP_Mean', 'HR_Mean', 'BR_Mean'], as_index = False)['TimeElapsed'].count()\n",
    "rb_df = grouped_df[(grouped_df.Treatment == 'ND')][['Subject', 'Treatment', 'PP_Mean', 'HR_Mean', 'BR_Mean']]\n",
    "rb_df.rename(columns = {\n",
    "            'PP_Mean': 'PP_RB_Mean',\n",
    "            'HR_Mean': 'HR_RB_Mean',\n",
    "            'BR_Mean': 'BR_RB_Mean',}, inplace=True)\n",
    "rb_df.to_csv(data_dir + 'rb_data.csv', sep=',')"
   ]
  },
  {
   "cell_type": "code",
   "execution_count": null,
   "metadata": {},
   "outputs": [],
   "source": [
    "\n",
    "\n",
    "\n",
    "\n"
   ]
  },
  {
   "cell_type": "code",
   "execution_count": 17,
   "metadata": {},
   "outputs": [
    {
     "data": {
      "text/plain": [
       "array([ 1,  2,  3,  4,  5,  6,  7,  8,  9, 10, 13, 15, 16, 17, 22, 23, 24,\n",
       "       26, 28, 29, 30, 31, 32, 41, 12])"
      ]
     },
     "execution_count": 17,
     "metadata": {},
     "output_type": "execute_result"
    }
   ],
   "source": [
    "df.Subject.unique()"
   ]
  },
  {
   "cell_type": "code",
   "execution_count": 18,
   "metadata": {},
   "outputs": [
    {
     "data": {
      "text/plain": [
       "Index(['Subject', 'Drive', 'Perinasal', 'Breathing', 'Heart', 'Perinasal_Log',\n",
       "       'Drive_Label', 'Gender', 'Age', 'STAI', 'Type_AB', 'Effort',\n",
       "       'Frustration', 'Mental Demand', 'Performance', 'Physical Demand',\n",
       "       'Temporal Demand', 'NASA Total Sum', 'Treatment', 'TimeElapsed',\n",
       "       'PP_Mean', 'HR_Mean', 'BR_Mean', 'PP_Normalized', 'HR_Normalized',\n",
       "       'BR_Normalized'],\n",
       "      dtype='object')"
      ]
     },
     "execution_count": 18,
     "metadata": {},
     "output_type": "execute_result"
    }
   ],
   "source": [
    "df_arousal = pd.DataFrame()\n",
    "\n",
    "for subj in df['Subject'].unique():\n",
    "    subj_df = df.copy()[df.Subject == subj]\n",
    "    rd_df = subj_df.copy()[subj_df.Treatment == 'ND']\n",
    "    \n",
    "    if rd_df.shape[0]:  # If there is any row for Resting Baseline\n",
    "        subj_df['PP_Normalized'] = subj_df.Perinasal_Log - get_baseline_mean(rd_df, 'PP_Mean')\n",
    "        subj_df['HR_Normalized'] = subj_df.Heart - get_baseline_mean(rd_df, 'HR_Mean')\n",
    "        subj_df['BR_Normalized'] = subj_df.Breathing - get_baseline_mean(rd_df, 'BR_Mean')\n",
    "\n",
    "        df_arousal = df_arousal.append(subj_df)\n",
    "    \n",
    "df_arousal.columns"
   ]
  },
  {
   "cell_type": "code",
   "execution_count": null,
   "metadata": {},
   "outputs": [],
   "source": [
    "\n",
    "\n",
    "\n",
    "\n"
   ]
  },
  {
   "cell_type": "code",
   "execution_count": 19,
   "metadata": {},
   "outputs": [
    {
     "name": "stdout",
     "output_type": "stream",
     "text": [
      "       Drive\n",
      "Drive       \n",
      "MD      9378\n",
      "ND     11568 \n",
      "\n",
      "(20946, 26)\n",
      "(20283, 26)\n",
      "       Drive\n",
      "Drive       \n",
      "MD      9091\n",
      "ND     11192 \n",
      "\n",
      "Index(['Subject', 'Drive', 'Perinasal', 'Breathing', 'Heart', 'Perinasal_Log',\n",
      "       'Drive_Label', 'Gender', 'Age', 'STAI', 'Type_AB', 'Effort',\n",
      "       'Frustration', 'Mental Demand', 'Performance', 'Physical Demand',\n",
      "       'Temporal Demand', 'NASA Total Sum', 'Treatment', 'TimeElapsed',\n",
      "       'PP_Mean', 'HR_Mean', 'BR_Mean', 'PP_Normalized', 'HR_Normalized',\n",
      "       'BR_Normalized'],\n",
      "      dtype='object')\n"
     ]
    }
   ],
   "source": [
    "print_row_count(df_arousal, 'Drive')\n",
    "\n",
    "print(df_arousal.shape)\n",
    "df_arousal = df_arousal.dropna()\n",
    "print(df_arousal.shape)\n",
    "\n",
    "print_row_count(df_arousal, 'Drive')\n",
    "\n",
    "df_arousal.to_csv(data_dir + \"data_2.3.csv\", sep=',')\n",
    "print(df_arousal.columns)"
   ]
  },
  {
   "cell_type": "code",
   "execution_count": 20,
   "metadata": {},
   "outputs": [
    {
     "name": "stdout",
     "output_type": "stream",
     "text": [
      "           Treatment\n",
      "Treatment           \n",
      "MD              9091\n",
      "ND             11192 \n",
      "\n",
      "(20283, 26) ['ND' 'MD']\n",
      "(9091, 26) ['MD']\n",
      "           Treatment\n",
      "Treatment           \n",
      "MD              9091 \n",
      "\n"
     ]
    }
   ],
   "source": [
    "print_row_count(df_arousal, 'Treatment')\n",
    "\n",
    "# Removing 'ND' from dataset, as 'ND' will not be included in the model\n",
    "print(df_arousal.shape, df_arousal.Treatment.unique())\n",
    "df_arousal = df_arousal[~df_arousal.Treatment.isin(['ND'])]\n",
    "print(df_arousal.shape, df_arousal.Treatment.unique())\n",
    "\n",
    "print_row_count(df_arousal, 'Treatment')"
   ]
  },
  {
   "cell_type": "code",
   "execution_count": 21,
   "metadata": {},
   "outputs": [
    {
     "data": {
      "text/plain": [
       "(21409, 23)"
      ]
     },
     "execution_count": 21,
     "metadata": {},
     "output_type": "execute_result"
    }
   ],
   "source": [
    "df.shape"
   ]
  },
  {
   "cell_type": "code",
   "execution_count": 22,
   "metadata": {},
   "outputs": [
    {
     "data": {
      "text/plain": [
       "Subject            0\n",
       "Drive              0\n",
       "Perinasal          0\n",
       "Breathing          0\n",
       "Heart              0\n",
       "Perinasal_Log      0\n",
       "Drive_Label        0\n",
       "Gender             0\n",
       "Age                0\n",
       "STAI               0\n",
       "Type_AB            0\n",
       "Effort             0\n",
       "Frustration        0\n",
       "Mental Demand      0\n",
       "Performance        0\n",
       "Physical Demand    0\n",
       "Temporal Demand    0\n",
       "NASA Total Sum     0\n",
       "Treatment          0\n",
       "TimeElapsed        0\n",
       "PP_Mean            0\n",
       "HR_Mean            0\n",
       "BR_Mean            0\n",
       "PP_Normalized      0\n",
       "HR_Normalized      0\n",
       "BR_Normalized      0\n",
       "dtype: int64"
      ]
     },
     "execution_count": 22,
     "metadata": {},
     "output_type": "execute_result"
    }
   ],
   "source": [
    "df_arousal.isnull().sum()"
   ]
  },
  {
   "cell_type": "markdown",
   "metadata": {},
   "source": [
    "-----------------------------------------\n",
    "# Remove the NA rows for PP, HR and BR\n",
    "-----------------------------------------"
   ]
  },
  {
   "cell_type": "code",
   "execution_count": 23,
   "metadata": {},
   "outputs": [
    {
     "name": "stdout",
     "output_type": "stream",
     "text": [
      "(9091, 26) 20\n",
      "(9091, 26) 20\n"
     ]
    }
   ],
   "source": [
    "print(df_arousal.shape, str(len(df_arousal.Subject.unique())))\n",
    "df_arousal.dropna(inplace=True)\n",
    "print(df_arousal.shape, str(len(df_arousal.Subject.unique())))"
   ]
  },
  {
   "cell_type": "code",
   "execution_count": 24,
   "metadata": {},
   "outputs": [
    {
     "data": {
      "text/plain": [
       "Subject            0\n",
       "Drive              0\n",
       "Perinasal          0\n",
       "Breathing          0\n",
       "Heart              0\n",
       "Perinasal_Log      0\n",
       "Drive_Label        0\n",
       "Gender             0\n",
       "Age                0\n",
       "STAI               0\n",
       "Type_AB            0\n",
       "Effort             0\n",
       "Frustration        0\n",
       "Mental Demand      0\n",
       "Performance        0\n",
       "Physical Demand    0\n",
       "Temporal Demand    0\n",
       "NASA Total Sum     0\n",
       "Treatment          0\n",
       "TimeElapsed        0\n",
       "PP_Mean            0\n",
       "HR_Mean            0\n",
       "BR_Mean            0\n",
       "PP_Normalized      0\n",
       "HR_Normalized      0\n",
       "BR_Normalized      0\n",
       "dtype: int64"
      ]
     },
     "execution_count": 24,
     "metadata": {},
     "output_type": "execute_result"
    }
   ],
   "source": [
    "df_arousal.isnull().sum()"
   ]
  },
  {
   "cell_type": "code",
   "execution_count": 25,
   "metadata": {},
   "outputs": [
    {
     "name": "stdout",
     "output_type": "stream",
     "text": [
      "Total Subjects: 25\n",
      "[ 1  2  3  4  5  6  7  8  9 10 13 15 16 17 22 23 24 26 28 29 30 31 32 41\n",
      " 12]\n",
      "\n",
      "\n",
      "After removing NA rows, Total Subjects: 20\n",
      "[ 1  2  3  4  5  6  7  9 10 13 15 16 17 22 24 26 29 30 31 32]\n"
     ]
    }
   ],
   "source": [
    "print('Total Subjects: ' + str(len(df.Subject.unique())))\n",
    "unique_subjs = df.Subject.unique()\n",
    "print(unique_subjs)\n",
    "print('\\n')\n",
    "\n",
    "\n",
    "print('After removing NA rows, Total Subjects: ' + str(len(df_arousal.Subject.unique())))\n",
    "unique_subjs = df_arousal.Subject.unique()\n",
    "print(unique_subjs)"
   ]
  },
  {
   "cell_type": "code",
   "execution_count": null,
   "metadata": {},
   "outputs": [],
   "source": [
    "\n",
    "\n",
    "\n",
    "\n",
    "\n",
    "\n",
    "\n",
    "\n",
    "\n",
    "\n",
    "\n"
   ]
  },
  {
   "cell_type": "code",
   "execution_count": 26,
   "metadata": {},
   "outputs": [],
   "source": [
    "def get_mean(df, col_name):\n",
    "    return df[col_name].mean() \n",
    "\n",
    "def get_sd(df, col_name):\n",
    "    return stdev(df[col_name])\n",
    "\n",
    "def convert_str(num):\n",
    "    return(str(round(num, 2)))\n",
    "\n",
    "def print_mean_sd_stress_marker(signal, mean, sd, stress_marker): \n",
    "    print(signal + \":\\t\" + convert_str(mean) + u\" \\u00B1 \" + convert_str(sd) \n",
    "          + \"\\tstress_marker: \" + convert_str(stress_marker))\n"
   ]
  },
  {
   "cell_type": "code",
   "execution_count": 27,
   "metadata": {},
   "outputs": [
    {
     "name": "stdout",
     "output_type": "stream",
     "text": [
      "PP:\t0.07 ± 0.15\tstress_marker: 0.15\n",
      "PP_2:\t0.07 ± 0.15\tstress_marker: 0.07\n",
      "HR:\t-0.75 ± 6.08\tstress_marker: 0\n",
      "BR:\t-0.09 ± 4.15\tstress_marker: 0\n"
     ]
    }
   ],
   "source": [
    "############################################################################################\n",
    "pp_diff_mean = get_mean(df_arousal, 'PP_Normalized')\n",
    "pp_diff_sd = get_sd(df_arousal, 'PP_Normalized')\n",
    "\n",
    "pp_stress_marker = pp_diff_mean + 0.5*pp_diff_sd\n",
    "\n",
    "df_arousal.loc[df_arousal.PP_Normalized < pp_stress_marker, 'PP_Arousal'] = 'relaxed'\n",
    "df_arousal.loc[df_arousal.PP_Normalized >= pp_stress_marker, 'PP_Arousal'] = 'stressed'\n",
    "############################################################################################\n",
    "\n",
    "\n",
    "\n",
    "############################################################################################\n",
    "pp_2_stress_marker = pp_diff_mean\n",
    "\n",
    "df_arousal.loc[df_arousal.PP_Normalized < pp_2_stress_marker, 'PP_Arousal_2'] = 'relaxed'\n",
    "df_arousal.loc[df_arousal.PP_Normalized >= pp_2_stress_marker, 'PP_Arousal_2'] = 'stressed'\n",
    "############################################################################################\n",
    "\n",
    "\n",
    "\n",
    "\n",
    "############################################################################################\n",
    "hr_diff_mean = get_mean(df_arousal, 'HR_Normalized')\n",
    "hr_diff_sd = get_sd(df_arousal, 'HR_Normalized')\n",
    "\n",
    "hr_stress_marker = 0\n",
    "\n",
    "df_arousal.loc[df_arousal.HR_Normalized < hr_stress_marker, 'HR_Arousal'] = 'relaxed'\n",
    "df_arousal.loc[df_arousal.HR_Normalized >= hr_stress_marker, 'HR_Arousal'] = 'stressed'\n",
    "############################################################################################\n",
    "\n",
    "\n",
    "\n",
    "\n",
    "############################################################################################\n",
    "br_diff_mean = get_mean(df_arousal, 'BR_Normalized')\n",
    "br_diff_sd = get_sd(df_arousal, 'BR_Normalized')\n",
    "\n",
    "br_stress_marker = 0\n",
    "\n",
    "df_arousal.loc[df_arousal.BR_Normalized < br_stress_marker, 'BR_Arousal'] = 'relaxed'\n",
    "df_arousal.loc[df_arousal.BR_Normalized >= br_stress_marker, 'BR_Arousal'] = 'stressed'\n",
    "############################################################################################\n",
    "\n",
    "    \n",
    "    \n",
    "############################################################################################\n",
    "print_mean_sd_stress_marker('PP', pp_diff_mean, pp_diff_sd, pp_stress_marker)\n",
    "print_mean_sd_stress_marker('PP_2', pp_diff_mean, pp_diff_sd, pp_2_stress_marker)\n",
    "print_mean_sd_stress_marker('HR', hr_diff_mean, hr_diff_sd, hr_stress_marker)\n",
    "print_mean_sd_stress_marker('BR', br_diff_mean, br_diff_sd, br_stress_marker)\n",
    "############################################################################################\n",
    "\n",
    "# ############################################################################################\n",
    "# print(round(pp_diff_mean, 2), round(pp_diff_sd, 2), round(pp_stress_marker, 2))\n",
    "# print(round(pp_diff_mean, 2), round(pp_diff_sd, 2), round(pp_2_stress_marker, 2))\n",
    "# print(round(hr_diff_mean, 2), round(hr_diff_sd, 2), round(hr_stress_marker, 2))\n",
    "# print(round(br_diff_mean, 2), round(br_diff_sd, 2), round(br_stress_marker, 2))\n",
    "# ############################################################################################\n",
    "\n",
    "\n",
    "\n",
    "# 'PP_Normalized', 'HR_Normalized', 'BR_Normalized'"
   ]
  },
  {
   "cell_type": "code",
   "execution_count": 28,
   "metadata": {},
   "outputs": [
    {
     "name": "stderr",
     "output_type": "stream",
     "text": [
      "No artists with labels found to put in legend.  Note that artists whose label start with an underscore are ignored when legend() is called with no argument.\n",
      "No artists with labels found to put in legend.  Note that artists whose label start with an underscore are ignored when legend() is called with no argument.\n",
      "No artists with labels found to put in legend.  Note that artists whose label start with an underscore are ignored when legend() is called with no argument.\n",
      "No artists with labels found to put in legend.  Note that artists whose label start with an underscore are ignored when legend() is called with no argument.\n"
     ]
    },
    {
     "data": {
      "image/png": "[encoded data removed]",
      "text/plain": [
       "<Figure size 1440x864 with 4 Axes>"
      ]
     },
     "metadata": {
      "needs_background": "light"
     },
     "output_type": "display_data"
    }
   ],
   "source": [
    "line_width = 2\n",
    "palette ={\"relaxed\": \"lightgreen\", \n",
    "          \"stressed\": \"red\"}\n",
    "\n",
    "    \n",
    "fig = plt.figure()\n",
    "\n",
    "# https://stackoverflow.com/questions/332289/how-do-you-change-the-size-of-figures-drawn-with-matplotlib\n",
    "fig.set_size_inches(20, 12, forward=True)\n",
    "fig.subplots_adjust(\n",
    "    top=0.98,\n",
    "    bottom=0.049,\n",
    "    left=0.042,\n",
    "    right=0.98,\n",
    "    hspace=0.4,\n",
    "    wspace=0.15\n",
    ")\n",
    "\n",
    "for i, label in enumerate(('A', 'B', 'C', 'D')):\n",
    "# for i, label in enumerate(('A')):\n",
    "    ax = fig.add_subplot(2, 2, i+1)\n",
    "    generate_arousal_extraction_plots(df_arousal, i)\n",
    "    ax.text(-0.05, \n",
    "            1.1, \n",
    "            label, \n",
    "            transform=ax.transAxes,\n",
    "            fontsize=24, \n",
    "            fontweight='bold', \n",
    "            va='top', \n",
    "            ha='left')\n",
    "    \n",
    "      \n",
    "# fig.tight_layout()\n",
    "fig.savefig(fig_dir + 'tt1_pp_br_hr_arousal_extraction.pdf', dpi=300, bbox_inches='tight')\n",
    "plt.show()"
   ]
  },
  {
   "cell_type": "code",
   "execution_count": 29,
   "metadata": {},
   "outputs": [
    {
     "data": {
      "image/png": "[encoded data removed]",
      "text/plain": [
       "<Figure size 1440x864 with 3 Axes>"
      ]
     },
     "metadata": {
      "needs_background": "light"
     },
     "output_type": "display_data"
    }
   ],
   "source": [
    "fig = plt.figure()\n",
    "\n",
    "# https://stackoverflow.com/questions/332289/how-do-you-change-the-size-of-figures-drawn-with-matplotlib\n",
    "fig.set_size_inches(20, 12, forward=True)\n",
    "fig.subplots_adjust(\n",
    "    top=0.98,\n",
    "    bottom=0.049,\n",
    "    left=0.042,\n",
    "    right=0.98,\n",
    "    hspace=0.4,\n",
    "    wspace=0.15\n",
    ")\n",
    "\n",
    "for i, label in enumerate(('A', 'B', 'C')):\n",
    "# for i, label in enumerate(('A')):\n",
    "    ax = fig.add_subplot(2, 2, i+1)\n",
    "    df_arousal = generate_ecdf_plots(df_arousal, i)\n",
    "    ax.text(-0.05, \n",
    "            1.1, \n",
    "            label, \n",
    "            transform=ax.transAxes,\n",
    "            fontsize=24, \n",
    "            fontweight='bold', \n",
    "            va='top', \n",
    "            ha='left')\n",
    "    \n",
    "      \n",
    "# fig.tight_layout()\n",
    "fig.savefig(fig_dir + 'tt1_pp_br_hr_ecdf.png', dpi=300, bbox_inches='tight')\n",
    "fig.savefig(fig_dir + 'tt1_pp_br_hr_ecdf.pdf', dpi=300, bbox_inches='tight')\n",
    "plt.show()"
   ]
  },
  {
   "cell_type": "code",
   "execution_count": 30,
   "metadata": {},
   "outputs": [],
   "source": [
    "signals = ['PP', 'HR', 'BR']\n",
    "df_arousal = generate_ecdf_arousal_cols(df_arousal, signals)"
   ]
  },
  {
   "cell_type": "code",
   "execution_count": 31,
   "metadata": {},
   "outputs": [
    {
     "name": "stdout",
     "output_type": "stream",
     "text": [
      "['MD']\n",
      "Index(['Subject', 'Drive', 'Perinasal', 'Breathing', 'Heart', 'Perinasal_Log',\n",
      "       'Drive_Label', 'Gender', 'Age', 'STAI', 'Type_AB', 'Effort',\n",
      "       'Frustration', 'Mental Demand', 'Performance', 'Physical Demand',\n",
      "       'Temporal Demand', 'NASA Total Sum', 'Treatment', 'TimeElapsed',\n",
      "       'PP_Mean', 'HR_Mean', 'BR_Mean', 'PP_Normalized', 'HR_Normalized',\n",
      "       'BR_Normalized', 'PP_Arousal', 'PP_Arousal_2', 'HR_Arousal',\n",
      "       'BR_Arousal', 'PP_ecdf', 'HR_ecdf', 'BR_ecdf', 'PP_HR_ecdf',\n",
      "       'PP_BR_ecdf', 'HR_BR_ecdf', 'PP_HR_BR_ecdf', 'PP_Arousal_ecdf',\n",
      "       'HR_Arousal_ecdf', 'BR_Arousal_ecdf', 'PP_HR_Arousal_ecdf',\n",
      "       'PP_BR_Arousal_ecdf', 'HR_BR_Arousal_ecdf', 'PP_HR_BR_Arousal_ecdf'],\n",
      "      dtype='object')\n"
     ]
    }
   ],
   "source": [
    "df_arousal.to_csv(data_dir + \"data_2.5.csv\", sep=',')\n",
    "print(df_arousal.Treatment.unique())\n",
    "print(df_arousal.columns)"
   ]
  },
  {
   "cell_type": "code",
   "execution_count": null,
   "metadata": {},
   "outputs": [],
   "source": [
    "\n",
    "\n",
    "\n",
    "\n",
    "\n",
    "\n",
    "\n"
   ]
  },
  {
   "cell_type": "code",
   "execution_count": 32,
   "metadata": {},
   "outputs": [
    {
     "name": "stdout",
     "output_type": "stream",
     "text": [
      "Subject Processing: \n",
      "1\n",
      "2\n",
      "3\n",
      "4\n",
      "5\n",
      "6\n",
      "7\n",
      "9\n",
      "10\n",
      "13\n",
      "15\n",
      "16\n",
      "17\n",
      "22\n",
      "24\n",
      "26\n",
      "29\n",
      "30\n",
      "31\n",
      "32\n",
      "                 PP_Arousal_Mode\n",
      "PP_Arousal_Mode                 \n",
      "arousal                    34.83\n",
      "neutral                    33.95\n",
      "non-arousal                31.22 \n",
      "\n",
      "                 HR_Arousal_Mode\n",
      "HR_Arousal_Mode                 \n",
      "arousal                    35.05\n",
      "neutral                    32.09\n",
      "non-arousal                32.86 \n",
      "\n",
      "                 BR_Arousal_Mode\n",
      "BR_Arousal_Mode                 \n",
      "arousal                    33.30\n",
      "neutral                    34.17\n",
      "non-arousal                32.53 \n",
      "\n",
      "                    PP_HR_Arousal_Mode\n",
      "PP_HR_Arousal_Mode                    \n",
      "arousal                          25.19\n",
      "neutral                          53.78\n",
      "non-arousal                      21.03 \n",
      "\n",
      "                    PP_BR_Arousal_Mode\n",
      "PP_BR_Arousal_Mode                    \n",
      "arousal                          18.73\n",
      "neutral                          64.62\n",
      "non-arousal                      16.65 \n",
      "\n",
      "                    HR_BR_Arousal_Mode\n",
      "HR_BR_Arousal_Mode                    \n",
      "arousal                          22.89\n",
      "neutral                          58.27\n",
      "non-arousal                      18.84 \n",
      "\n",
      "                       PP_HR_BR_Arousal_Mode\n",
      "PP_HR_BR_Arousal_Mode                       \n",
      "arousal                                15.55\n",
      "neutral                                70.97\n",
      "non-arousal                            13.47 \n",
      "\n"
     ]
    }
   ],
   "source": [
    "final_df = get_non_overlapping_aggregrated_df(df_arousal)"
   ]
  },
  {
   "cell_type": "code",
   "execution_count": 33,
   "metadata": {},
   "outputs": [
    {
     "data": {
      "text/plain": [
       "Subject                  0\n",
       "Treatment                0\n",
       "Age                      0\n",
       "Effort                   0\n",
       "Frustration              0\n",
       "Mental_Demand            0\n",
       "Performance              0\n",
       "Physical_Demand          0\n",
       "Temporal_Demand          0\n",
       "NASA_Total_Sum           0\n",
       "PP_Arousal_Mode          0\n",
       "HR_Arousal_Mode          0\n",
       "BR_Arousal_Mode          0\n",
       "PP_HR_Arousal_Mode       0\n",
       "PP_BR_Arousal_Mode       0\n",
       "HR_BR_Arousal_Mode       0\n",
       "PP_HR_BR_Arousal_Mode    0\n",
       "PP_Mean                  0\n",
       "PP_Median                0\n",
       "PP_SD                    0\n",
       "PP_SS                    0\n",
       "Hr_Mean                  0\n",
       "Hr_Median                0\n",
       "Hr_SD                    0\n",
       "Hr_SS                    0\n",
       "Br_Mean                  0\n",
       "Br_Median                0\n",
       "Br_SD                    0\n",
       "Br_SS                    0\n",
       "Gender_Female            0\n",
       "Gender_Male              0\n",
       "dtype: int64"
      ]
     },
     "execution_count": 33,
     "metadata": {},
     "output_type": "execute_result"
    }
   ],
   "source": [
    "final_df.isnull().sum()"
   ]
  },
  {
   "cell_type": "code",
   "execution_count": 34,
   "metadata": {},
   "outputs": [
    {
     "name": "stdout",
     "output_type": "stream",
     "text": [
      "           Treatment\n",
      "Treatment           \n",
      "MD               913 \n",
      "\n",
      "(913, 31) ['MD']\n",
      "(913, 31) ['MD']\n",
      "           Treatment\n",
      "Treatment           \n",
      "MD               913 \n",
      "\n"
     ]
    }
   ],
   "source": [
    "print_row_count(final_df, 'Treatment')\n",
    "\n",
    "# Removing 'ND' from dataset, as 'ND' will not be included in the model\n",
    "print(final_df.shape, final_df.Treatment.unique())\n",
    "final_df = final_df[~final_df.Treatment.isin(['ND'])]\n",
    "print(final_df.shape, final_df.Treatment.unique())\n",
    "\n",
    "print_row_count(final_df, 'Treatment')"
   ]
  },
  {
   "cell_type": "code",
   "execution_count": 35,
   "metadata": {},
   "outputs": [],
   "source": [
    "final_df.to_csv(data_dir + \"data_3.csv\", sep=',', index=False)"
   ]
  },
  {
   "cell_type": "code",
   "execution_count": null,
   "metadata": {},
   "outputs": [],
   "source": [
    "\n",
    "\n",
    "\n",
    "\n",
    "\n",
    "\n",
    "\n",
    "\n",
    "\n",
    "\n",
    "\n",
    "\n",
    "\n",
    "\n"
   ]
  },
  {
   "cell_type": "markdown",
   "metadata": {},
   "source": [
    "-----------------------------------------------------\n",
    "# This part is to get info for paper/report\n",
    "-----------------------------------------------------"
   ]
  },
  {
   "cell_type": "code",
   "execution_count": 36,
   "metadata": {},
   "outputs": [
    {
     "data": {
      "text/html": [
       "<div>\n",
       "<style scoped>\n",
       "    .dataframe tbody tr th:only-of-type {\n",
       "        vertical-align: middle;\n",
       "    }\n",
       "\n",
       "    .dataframe tbody tr th {\n",
       "        vertical-align: top;\n",
       "    }\n",
       "\n",
       "    .dataframe thead th {\n",
       "        text-align: right;\n",
       "    }\n",
       "</style>\n",
       "<table border=\"1\" class=\"dataframe\">\n",
       "  <thead>\n",
       "    <tr style=\"text-align: right;\">\n",
       "      <th></th>\n",
       "      <th>Subject</th>\n",
       "      <th>Treatment</th>\n",
       "      <th>Age</th>\n",
       "      <th>Effort</th>\n",
       "      <th>Frustration</th>\n",
       "      <th>Mental_Demand</th>\n",
       "      <th>Performance</th>\n",
       "      <th>Physical_Demand</th>\n",
       "      <th>Temporal_Demand</th>\n",
       "      <th>NASA_Total_Sum</th>\n",
       "      <th>PP_Arousal_Mode</th>\n",
       "      <th>HR_Arousal_Mode</th>\n",
       "      <th>BR_Arousal_Mode</th>\n",
       "      <th>PP_HR_Arousal_Mode</th>\n",
       "      <th>PP_BR_Arousal_Mode</th>\n",
       "      <th>HR_BR_Arousal_Mode</th>\n",
       "      <th>PP_HR_BR_Arousal_Mode</th>\n",
       "      <th>PP_Mean</th>\n",
       "      <th>PP_Median</th>\n",
       "      <th>PP_SD</th>\n",
       "      <th>PP_SS</th>\n",
       "      <th>Hr_Mean</th>\n",
       "      <th>Hr_Median</th>\n",
       "      <th>Hr_SD</th>\n",
       "      <th>Hr_SS</th>\n",
       "      <th>Br_Mean</th>\n",
       "      <th>Br_Median</th>\n",
       "      <th>Br_SD</th>\n",
       "      <th>Br_SS</th>\n",
       "      <th>Gender_Female</th>\n",
       "      <th>Gender_Male</th>\n",
       "    </tr>\n",
       "  </thead>\n",
       "  <tbody>\n",
       "    <tr>\n",
       "      <th>0</th>\n",
       "      <td>1</td>\n",
       "      <td>MD</td>\n",
       "      <td>69</td>\n",
       "      <td>20</td>\n",
       "      <td>18.0</td>\n",
       "      <td>18</td>\n",
       "      <td>4</td>\n",
       "      <td>18</td>\n",
       "      <td>18</td>\n",
       "      <td>96.0</td>\n",
       "      <td>arousal</td>\n",
       "      <td>neutral</td>\n",
       "      <td>non-arousal</td>\n",
       "      <td>arousal</td>\n",
       "      <td>neutral</td>\n",
       "      <td>neutral</td>\n",
       "      <td>neutral</td>\n",
       "      <td>0.351573</td>\n",
       "      <td>0.341204</td>\n",
       "      <td>0.051904</td>\n",
       "      <td>1.260279</td>\n",
       "      <td>1.623077</td>\n",
       "      <td>0.923077</td>\n",
       "      <td>2.201010</td>\n",
       "      <td>69.943787</td>\n",
       "      <td>-7.237949</td>\n",
       "      <td>-7.317949</td>\n",
       "      <td>1.575542</td>\n",
       "      <td>546.220016</td>\n",
       "      <td>1</td>\n",
       "      <td>0</td>\n",
       "    </tr>\n",
       "    <tr>\n",
       "      <th>1</th>\n",
       "      <td>1</td>\n",
       "      <td>MD</td>\n",
       "      <td>69</td>\n",
       "      <td>20</td>\n",
       "      <td>18.0</td>\n",
       "      <td>18</td>\n",
       "      <td>4</td>\n",
       "      <td>18</td>\n",
       "      <td>18</td>\n",
       "      <td>96.0</td>\n",
       "      <td>arousal</td>\n",
       "      <td>neutral</td>\n",
       "      <td>non-arousal</td>\n",
       "      <td>arousal</td>\n",
       "      <td>neutral</td>\n",
       "      <td>neutral</td>\n",
       "      <td>neutral</td>\n",
       "      <td>0.204618</td>\n",
       "      <td>0.205720</td>\n",
       "      <td>0.032257</td>\n",
       "      <td>0.428048</td>\n",
       "      <td>1.823077</td>\n",
       "      <td>1.423077</td>\n",
       "      <td>1.646545</td>\n",
       "      <td>57.636095</td>\n",
       "      <td>-2.307949</td>\n",
       "      <td>-2.417949</td>\n",
       "      <td>1.389804</td>\n",
       "      <td>70.650273</td>\n",
       "      <td>1</td>\n",
       "      <td>0</td>\n",
       "    </tr>\n",
       "    <tr>\n",
       "      <th>2</th>\n",
       "      <td>1</td>\n",
       "      <td>MD</td>\n",
       "      <td>69</td>\n",
       "      <td>20</td>\n",
       "      <td>18.0</td>\n",
       "      <td>18</td>\n",
       "      <td>4</td>\n",
       "      <td>18</td>\n",
       "      <td>18</td>\n",
       "      <td>96.0</td>\n",
       "      <td>arousal</td>\n",
       "      <td>arousal</td>\n",
       "      <td>neutral</td>\n",
       "      <td>arousal</td>\n",
       "      <td>neutral</td>\n",
       "      <td>arousal</td>\n",
       "      <td>arousal</td>\n",
       "      <td>0.180598</td>\n",
       "      <td>0.174439</td>\n",
       "      <td>0.023698</td>\n",
       "      <td>0.331209</td>\n",
       "      <td>5.023077</td>\n",
       "      <td>4.923077</td>\n",
       "      <td>0.966092</td>\n",
       "      <td>260.713018</td>\n",
       "      <td>0.302051</td>\n",
       "      <td>0.232051</td>\n",
       "      <td>0.245176</td>\n",
       "      <td>1.453350</td>\n",
       "      <td>1</td>\n",
       "      <td>0</td>\n",
       "    </tr>\n",
       "    <tr>\n",
       "      <th>3</th>\n",
       "      <td>1</td>\n",
       "      <td>MD</td>\n",
       "      <td>69</td>\n",
       "      <td>20</td>\n",
       "      <td>18.0</td>\n",
       "      <td>18</td>\n",
       "      <td>4</td>\n",
       "      <td>18</td>\n",
       "      <td>18</td>\n",
       "      <td>96.0</td>\n",
       "      <td>arousal</td>\n",
       "      <td>neutral</td>\n",
       "      <td>neutral</td>\n",
       "      <td>arousal</td>\n",
       "      <td>arousal</td>\n",
       "      <td>neutral</td>\n",
       "      <td>arousal</td>\n",
       "      <td>0.150828</td>\n",
       "      <td>0.152782</td>\n",
       "      <td>0.012827</td>\n",
       "      <td>0.228972</td>\n",
       "      <td>1.523077</td>\n",
       "      <td>1.423077</td>\n",
       "      <td>0.875595</td>\n",
       "      <td>30.097633</td>\n",
       "      <td>1.632051</td>\n",
       "      <td>1.782051</td>\n",
       "      <td>0.388730</td>\n",
       "      <td>27.995914</td>\n",
       "      <td>1</td>\n",
       "      <td>0</td>\n",
       "    </tr>\n",
       "    <tr>\n",
       "      <th>4</th>\n",
       "      <td>1</td>\n",
       "      <td>MD</td>\n",
       "      <td>69</td>\n",
       "      <td>20</td>\n",
       "      <td>18.0</td>\n",
       "      <td>18</td>\n",
       "      <td>4</td>\n",
       "      <td>18</td>\n",
       "      <td>18</td>\n",
       "      <td>96.0</td>\n",
       "      <td>arousal</td>\n",
       "      <td>arousal</td>\n",
       "      <td>arousal</td>\n",
       "      <td>arousal</td>\n",
       "      <td>arousal</td>\n",
       "      <td>arousal</td>\n",
       "      <td>arousal</td>\n",
       "      <td>0.126932</td>\n",
       "      <td>0.122527</td>\n",
       "      <td>0.015668</td>\n",
       "      <td>0.163328</td>\n",
       "      <td>2.323077</td>\n",
       "      <td>2.423077</td>\n",
       "      <td>0.316228</td>\n",
       "      <td>54.866864</td>\n",
       "      <td>2.592051</td>\n",
       "      <td>2.632051</td>\n",
       "      <td>0.483506</td>\n",
       "      <td>69.291298</td>\n",
       "      <td>1</td>\n",
       "      <td>0</td>\n",
       "    </tr>\n",
       "  </tbody>\n",
       "</table>\n",
       "</div>"
      ],
      "text/plain": [
       "   Subject Treatment  Age  Effort  Frustration  Mental_Demand  Performance  \\\n",
       "0        1        MD   69      20         18.0             18            4   \n",
       "1        1        MD   69      20         18.0             18            4   \n",
       "2        1        MD   69      20         18.0             18            4   \n",
       "3        1        MD   69      20         18.0             18            4   \n",
       "4        1        MD   69      20         18.0             18            4   \n",
       "\n",
       "   Physical_Demand  Temporal_Demand  NASA_Total_Sum PP_Arousal_Mode  \\\n",
       "0               18               18            96.0         arousal   \n",
       "1               18               18            96.0         arousal   \n",
       "2               18               18            96.0         arousal   \n",
       "3               18               18            96.0         arousal   \n",
       "4               18               18            96.0         arousal   \n",
       "\n",
       "  HR_Arousal_Mode BR_Arousal_Mode PP_HR_Arousal_Mode PP_BR_Arousal_Mode  \\\n",
       "0         neutral     non-arousal            arousal            neutral   \n",
       "1         neutral     non-arousal            arousal            neutral   \n",
       "2         arousal         neutral            arousal            neutral   \n",
       "3         neutral         neutral            arousal            arousal   \n",
       "4         arousal         arousal            arousal            arousal   \n",
       "\n",
       "  HR_BR_Arousal_Mode PP_HR_BR_Arousal_Mode   PP_Mean  PP_Median     PP_SD  \\\n",
       "0            neutral               neutral  0.351573   0.341204  0.051904   \n",
       "1            neutral               neutral  0.204618   0.205720  0.032257   \n",
       "2            arousal               arousal  0.180598   0.174439  0.023698   \n",
       "3            neutral               arousal  0.150828   0.152782  0.012827   \n",
       "4            arousal               arousal  0.126932   0.122527  0.015668   \n",
       "\n",
       "      PP_SS   Hr_Mean  Hr_Median     Hr_SD       Hr_SS   Br_Mean  Br_Median  \\\n",
       "0  1.260279  1.623077   0.923077  2.201010   69.943787 -7.237949  -7.317949   \n",
       "1  0.428048  1.823077   1.423077  1.646545   57.636095 -2.307949  -2.417949   \n",
       "2  0.331209  5.023077   4.923077  0.966092  260.713018  0.302051   0.232051   \n",
       "3  0.228972  1.523077   1.423077  0.875595   30.097633  1.632051   1.782051   \n",
       "4  0.163328  2.323077   2.423077  0.316228   54.866864  2.592051   2.632051   \n",
       "\n",
       "      Br_SD       Br_SS  Gender_Female  Gender_Male  \n",
       "0  1.575542  546.220016              1            0  \n",
       "1  1.389804   70.650273              1            0  \n",
       "2  0.245176    1.453350              1            0  \n",
       "3  0.388730   27.995914              1            0  \n",
       "4  0.483506   69.291298              1            0  "
      ]
     },
     "execution_count": 36,
     "metadata": {},
     "output_type": "execute_result"
    }
   ],
   "source": [
    "final_df = pd.read_csv(data_dir + \"data_3.csv\")\n",
    "final_df.head()"
   ]
  },
  {
   "cell_type": "code",
   "execution_count": 37,
   "metadata": {},
   "outputs": [
    {
     "name": "stdout",
     "output_type": "stream",
     "text": [
      "Male: 8\n",
      "Female: 11\n"
     ]
    }
   ],
   "source": [
    "# final_df.groupby('Subject')['Gender_Male'].sum()\n",
    "\n",
    "print(\"Male: \" + str(final_df.groupby(['Subject', 'Gender_Male'])['Gender_Male'].sum().agg(lambda x: x.ne(0).sum())))\n",
    "print(\"Female: \" + str(final_df.groupby(['Subject', 'Gender_Male'])['Gender_Male'].sum().agg(lambda x: x.eq(0).sum())))"
   ]
  },
  {
   "cell_type": "code",
   "execution_count": 38,
   "metadata": {},
   "outputs": [
    {
     "name": "stdout",
     "output_type": "stream",
     "text": [
      "18 85\n"
     ]
    }
   ],
   "source": [
    "print(final_df.Age.min(), final_df.Age.max())"
   ]
  },
  {
   "cell_type": "code",
   "execution_count": 39,
   "metadata": {},
   "outputs": [
    {
     "name": "stdout",
     "output_type": "stream",
     "text": [
      "Total Subjects: 19\n",
      "Total Data: 913\n"
     ]
    }
   ],
   "source": [
    "print(\"Total Subjects: \" + str(len(final_df.Subject.unique())))\n",
    "print(\"Total Data: \" + str(final_df.shape[0]))"
   ]
  },
  {
   "cell_type": "code",
   "execution_count": null,
   "metadata": {},
   "outputs": [],
   "source": [
    "\n",
    "\n",
    "\n",
    "\n",
    "\n",
    "\n",
    "\n",
    "\n"
   ]
  },
  {
   "cell_type": "code",
   "execution_count": 40,
   "metadata": {},
   "outputs": [],
   "source": [
    "# def get_non_overlapping_window_df(df_arousal):\n",
    "#     window_df = pd.DataFrame()\n",
    "    \n",
    "#     print('Subject Processing: ')\n",
    "#     for subj in df_arousal.Subject.unique():\n",
    "# #     for subj in ['T002']:\n",
    "#         print(subj)\n",
    "        \n",
    "#         for drive in df_arousal.Drive.unique():\n",
    "#             subj_drive_df = df_arousal.copy()[(df_arousal['Subject'] == subj) & (df_arousal['Drive'] == drive )]\n",
    "#             # print(subj, drive, len(subj_drive_df))\n",
    "\n",
    "#             i = 0\n",
    "#             totalRows = subj_drive_df.shape[0]\n",
    "            \n",
    "#             while i+2 < totalRows: # proceed for atleast 3 rows\n",
    "#                 subj_drive_window_df = subj_drive_df.copy().iloc[i: min(totalRows, i+10)]\n",
    "#                 i += 10\n",
    "                \n",
    "#                 subj_drive_window_first_row = subj_drive_window_df.iloc[0]\n",
    "                \n",
    "#                 temp_df = pd.DataFrame({'Subject': [subj], \n",
    "#                                         'Drive': [drive], \n",
    "#                                         'Treatment': [subj_drive_window_first_row.Treatment],\n",
    "#                                         'Gender': [subj_drive_window_first_row.Gender],\n",
    "#                                         'Age': [subj_drive_window_first_row.Age],\n",
    "#                                         'STAI': [subj_drive_window_first_row.STAI],\n",
    "#                                         'Type_AB': [subj_drive_window_first_row.Type_AB],\n",
    "#                                         'Effort': [subj_drive_window_first_row.Effort],\n",
    "#                                         'Frustration': [subj_drive_window_first_row.Frustration],\n",
    "#                                         'Mental_Demand': [subj_drive_window_first_row['Mental Demand']],\n",
    "#                                         'Performance': [subj_drive_window_first_row['Performance']],\n",
    "#                                         'Physical_Demand': [subj_drive_window_first_row['Physical Demand']],\n",
    "#                                         'Temporal_Demand': [subj_drive_window_first_row['Temporal Demand']],\n",
    "#                                         'NASA_Total_Sum': [subj_drive_window_first_row['NASA Total Sum']],\n",
    "#                                        })\n",
    "                \n",
    "#                 # temp_df['PP_Arousal_Mode'] = subj_drive_window_df.PP_Arousal.mode()\n",
    "#                 # temp_df['PP_2_Arousal_Mode'] = subj_drive_window_df.PP_Arousal_2.mode()\n",
    "#                 # temp_df['HR_Arousal_Mode'] = subj_drive_window_df.HR_Arousal.mode()\n",
    "#                 # temp_df['BR_Arousal_Mode'] = subj_drive_window_df.BR_Arousal.mode()\n",
    "                \n",
    "                \n",
    "#                 temp_df['PP_Arousal_Mode_Hist'] = subj_drive_window_df.PP_Arousal.mode()\n",
    "#                 temp_df['PP_2_Arousal_Mode_Hist'] = subj_drive_window_df.PP_Arousal_2.mode()\n",
    "#                 temp_df['HR_Arousal_Mode_Hist'] = subj_drive_window_df.HR_Arousal.mode()\n",
    "#                 temp_df['BR_Arousal_Mode_Hist'] = subj_drive_window_df.BR_Arousal.mode()\n",
    "                \n",
    "#                 temp_df['PP_Arousal_Mode_ecdf'] = subj_drive_window_df.PP_Arousal_ecdf.mode()\n",
    "#                 temp_df['HR_Arousal_Mode_ecdf'] = subj_drive_window_df.HR_Arousal_ecdf.mode()\n",
    "#                 temp_df['BR_Arousal_Mode_ecdf'] = subj_drive_window_df.BR_Arousal_ecdf.mode()\n",
    "                \n",
    "                \n",
    "\n",
    "#                 temp_df['Perinasal_Mean'] = subj_drive_window_df.Perinasal_Log.mean()\n",
    "#                 temp_df['Perinasal_Median'] = subj_drive_window_df.Perinasal_Log.median()\n",
    "#                 temp_df['Perinasal_SD'] = stdev(subj_drive_window_df.Perinasal_Log)\n",
    "#                 temp_df['Perinasal_SS'] = sum_of_squares(subj_drive_window_df.Perinasal_Log)\n",
    "\n",
    "                \n",
    "#                 temp_df['Hr_Mean'] = subj_drive_window_df.Heart.mean()\n",
    "#                 temp_df['Hr_Median'] = subj_drive_window_df.Heart.median()\n",
    "#                 temp_df['Hr_SD'] = stdev(subj_drive_window_df.Heart)\n",
    "#                 temp_df['Hr_SS'] = sum_of_squares(subj_drive_window_df.Heart)\n",
    "                \n",
    "#                 temp_df['Br_Mean'] = subj_drive_window_df.Breathing.mean()\n",
    "#                 temp_df['Br_Median'] = subj_drive_window_df.Breathing.median()\n",
    "#                 temp_df['Br_SD'] = stdev(subj_drive_window_df.Breathing)\n",
    "#                 temp_df['Br_SS'] = sum_of_squares(subj_drive_window_df.Breathing)\n",
    "  \n",
    "#                 window_df = window_df.append(temp_df)\n",
    "                \n",
    "#     return window_df\n",
    "\n",
    "# final_df = get_non_overlapping_window_df(df_arousal)"
   ]
  }
 ],
 "metadata": {
  "kernelspec": {
   "display_name": "Python 3 (ipykernel)",
   "language": "python",
   "name": "python3"
  },
  "language_info": {
   "codemirror_mode": {
    "name": "ipython",
    "version": 3
   },
   "file_extension": ".py",
   "mimetype": "text/x-python",
   "name": "python",
   "nbconvert_exporter": "python",
   "pygments_lexer": "ipython3",
   "version": "3.7.4"
  }
 },
 "nbformat": 4,
 "nbformat_minor": 4
}
