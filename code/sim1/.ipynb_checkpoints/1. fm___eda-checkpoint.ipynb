{
 "cells": [
  {
   "cell_type": "code",
   "execution_count": 31,
   "metadata": {},
   "outputs": [],
   "source": [
    "import pandas as pd\n",
    "import numpy as np\n",
    "\n",
    "import matplotlib.pyplot as plt\n",
    "import seaborn as sns\n",
    "\n",
    "%matplotlib inline"
   ]
  },
  {
   "cell_type": "code",
   "execution_count": 32,
   "metadata": {},
   "outputs": [
    {
     "name": "stdout",
     "output_type": "stream",
     "text": [
      "(132789, 12)\n"
     ]
    }
   ],
   "source": [
    "df = pd.read_csv(\"../../data/sim1/forecasting_markers/data_1.csv\")\n",
    "print(df.shape)"
   ]
  },
  {
   "cell_type": "code",
   "execution_count": 33,
   "metadata": {},
   "outputs": [
    {
     "name": "stdout",
     "output_type": "stream",
     "text": [
      "   Time     Speed  Acceleration  Steering  Lane.Position  Breathing  Heart  \\\n",
      "0     1  0.013002           0.0  0.001534        1.92500        NaN    NaN   \n",
      "1     2  0.012978           0.0  0.001534        1.92500        NaN    NaN   \n",
      "2     3  0.012996           0.0  0.001534        1.92500        NaN    NaN   \n",
      "3     4  0.017026           0.0  0.001534        1.92500        NaN    NaN   \n",
      "4     5  0.366060           0.0  0.012454        1.92499       17.1   58.8   \n",
      "\n",
      "         Palm  Perinasal  Distraction  Drive  Subject  \n",
      "0         NaN        NaN            0      0        1  \n",
      "1         NaN        NaN            0      0        1  \n",
      "2         NaN        NaN            0      0        1  \n",
      "3         NaN        NaN            0      0        1  \n",
      "4  103.449492   0.005336            0      0        1  \n"
     ]
    }
   ],
   "source": [
    "print(df.head())"
   ]
  },
  {
   "cell_type": "code",
   "execution_count": 34,
   "metadata": {},
   "outputs": [
    {
     "name": "stdout",
     "output_type": "stream",
     "text": [
      "46\n",
      "[ 1  2  3  4  5  6  8 10 13 14 16 17 18 20 22 23 24 25 29 31 33 34 36 38\n",
      " 39 43 44 45 47 50 54 55 60 61 62 66 68 75 76 77 79 80 81 83 84 86]\n"
     ]
    }
   ],
   "source": [
    "print(len(df.Subject.unique()))\n",
    "print(df.Subject.unique())"
   ]
  },
  {
   "cell_type": "code",
   "execution_count": 35,
   "metadata": {},
   "outputs": [
    {
     "data": {
      "text/plain": [
       "Index(['Time', 'Speed', 'Acceleration', 'Steering', 'Lane.Position',\n",
       "       'Breathing', 'Heart', 'Palm', 'Perinasal', 'Distraction', 'Drive',\n",
       "       'Subject'],\n",
       "      dtype='object')"
      ]
     },
     "execution_count": 35,
     "metadata": {},
     "output_type": "execute_result"
    }
   ],
   "source": [
    "df.columns"
   ]
  },
  {
   "cell_type": "code",
   "execution_count": 36,
   "metadata": {},
   "outputs": [],
   "source": [
    "df = df[['Subject', 'Drive', 'Time', 'Breathing', 'Heart', 'Palm', 'Perinasal']]"
   ]
  },
  {
   "cell_type": "code",
   "execution_count": 37,
   "metadata": {},
   "outputs": [],
   "source": [
    "# Ref: https://numpy.org/doc/stable/reference/generated/numpy.log.html\n",
    "\n",
    "# Natural logarithm, element-wise.\n",
    "# The natural logarithm log is the inverse of the exponential function, so that log(exp(x)) = x. \n",
    "# The natural logarithm is logarithm in base e.\n",
    "\n",
    "\n",
    "df['Perinasal_Log'] = np.log(df['Perinasal'])\n",
    "df['Palm_Log'] = np.log(df['Palm'])"
   ]
  },
  {
   "cell_type": "code",
   "execution_count": 38,
   "metadata": {},
   "outputs": [],
   "source": [
    "##################################################################\n",
    "# No Need to export, done in feature engineering\n",
    "##################################################################\n",
    "# df.to_csv(\"../../data/sim1/forecasting_markers/data_1_log_transformed.csv\", sep=',')"
   ]
  },
  {
   "cell_type": "code",
   "execution_count": null,
   "metadata": {},
   "outputs": [],
   "source": [
    "\n",
    "\n",
    "\n",
    "\n",
    "\n",
    "\n"
   ]
  },
  {
   "cell_type": "code",
   "execution_count": 39,
   "metadata": {},
   "outputs": [
    {
     "data": {
      "text/plain": [
       "<matplotlib.axes._subplots.AxesSubplot at 0x7fc05be96690>"
      ]
     },
     "execution_count": 39,
     "metadata": {},
     "output_type": "execute_result"
    },
    {
     "data": {
      "image/png": "[encoded data removed]",
      "text/plain": [
       "<Figure size 720x432 with 1 Axes>"
      ]
     },
     "metadata": {
      "needs_background": "light"
     },
     "output_type": "display_data"
    }
   ],
   "source": [
    "plt.figure(figsize=(10, 6))\n",
    "sns.histplot(df.Perinasal)"
   ]
  },
  {
   "cell_type": "code",
   "execution_count": 40,
   "metadata": {},
   "outputs": [
    {
     "data": {
      "text/plain": [
       "<matplotlib.axes._subplots.AxesSubplot at 0x7fc05d5719d0>"
      ]
     },
     "execution_count": 40,
     "metadata": {},
     "output_type": "execute_result"
    },
    {
     "data": {
      "image/png": "[encoded data removed]",
      "text/plain": [
       "<Figure size 720x432 with 1 Axes>"
      ]
     },
     "metadata": {
      "needs_background": "light"
     },
     "output_type": "display_data"
    }
   ],
   "source": [
    "plt.figure(figsize=(10, 6))\n",
    "sns.histplot(df.Perinasal_Log)"
   ]
  },
  {
   "cell_type": "code",
   "execution_count": 41,
   "metadata": {},
   "outputs": [
    {
     "data": {
      "text/plain": [
       "<matplotlib.axes._subplots.AxesSubplot at 0x7fc05bfecb10>"
      ]
     },
     "execution_count": 41,
     "metadata": {},
     "output_type": "execute_result"
    },
    {
     "data": {
      "image/png": "[encoded data removed]",
      "text/plain": [
       "<Figure size 720x432 with 1 Axes>"
      ]
     },
     "metadata": {
      "needs_background": "light"
     },
     "output_type": "display_data"
    }
   ],
   "source": [
    "plt.figure(figsize=(10, 6))\n",
    "sns.histplot(df.Palm)"
   ]
  },
  {
   "cell_type": "code",
   "execution_count": 42,
   "metadata": {},
   "outputs": [
    {
     "data": {
      "text/plain": [
       "<matplotlib.axes._subplots.AxesSubplot at 0x7fc05bf1a9d0>"
      ]
     },
     "execution_count": 42,
     "metadata": {},
     "output_type": "execute_result"
    },
    {
     "data": {
      "image/png": "[encoded data removed]",
      "text/plain": [
       "<Figure size 720x432 with 1 Axes>"
      ]
     },
     "metadata": {
      "needs_background": "light"
     },
     "output_type": "display_data"
    }
   ],
   "source": [
    "plt.figure(figsize=(10, 6))\n",
    "sns.histplot(df.Palm_Log)"
   ]
  },
  {
   "cell_type": "code",
   "execution_count": 43,
   "metadata": {},
   "outputs": [
    {
     "data": {
      "text/plain": [
       "<matplotlib.axes._subplots.AxesSubplot at 0x7fc05b04ec10>"
      ]
     },
     "execution_count": 43,
     "metadata": {},
     "output_type": "execute_result"
    },
    {
     "data": {
      "image/png": "[encoded data removed]",
      "text/plain": [
       "<Figure size 720x432 with 1 Axes>"
      ]
     },
     "metadata": {
      "needs_background": "light"
     },
     "output_type": "display_data"
    }
   ],
   "source": [
    "plt.figure(figsize=(10, 6))\n",
    "sns.histplot(df.Heart)"
   ]
  },
  {
   "cell_type": "code",
   "execution_count": 44,
   "metadata": {},
   "outputs": [
    {
     "data": {
      "text/plain": [
       "<matplotlib.axes._subplots.AxesSubplot at 0x7fc05d8f8cd0>"
      ]
     },
     "execution_count": 44,
     "metadata": {},
     "output_type": "execute_result"
    },
    {
     "data": {
      "image/png": "[encoded data removed]",
      "text/plain": [
       "<Figure size 720x432 with 1 Axes>"
      ]
     },
     "metadata": {
      "needs_background": "light"
     },
     "output_type": "display_data"
    }
   ],
   "source": [
    "plt.figure(figsize=(10, 6))\n",
    "sns.histplot(df.Breathing)"
   ]
  },
  {
   "cell_type": "code",
   "execution_count": null,
   "metadata": {},
   "outputs": [],
   "source": [
    "\n",
    "\n",
    "\n",
    "\n",
    "\n",
    "\n"
   ]
  },
  {
   "cell_type": "code",
   "execution_count": 45,
   "metadata": {},
   "outputs": [],
   "source": [
    "# -------------------------------\n",
    "# ## OSF Dataset -->\n",
    "# -------------------------\n",
    "# ##### 1 --> Resting Baseline \n",
    "# ##### 2 --> Practice Drive XX (not needed)\n",
    "# ##### 3 --> Relaxing Drive\n",
    "# ##### 4-7 ---------> Loaded Drive\n",
    "# ##### 4 --> Normal Drive\n",
    "# ##### 5 --> Cognitive Drive\n",
    "# ##### 6 --> Emotional Drive\n",
    "# ##### 7 --> Sensorimotor Drive\n",
    "# ##### 8 --> Failure Drive"
   ]
  },
  {
   "cell_type": "markdown",
   "metadata": {},
   "source": [
    "-------------------------------\n",
    "## Dataset from R code -->\n",
    "-------------------------------\n",
    "##### 0 --> Relaxing Drive (RD)\n",
    "##### 1 --> Normal Drive (ND)\n",
    "##### 2 --> Cognitive Drive (CD)\n",
    "##### 3 --> Sensorimotor Drive (MD)\n",
    "##### 4 --> Emotional Drive (ED)\n",
    "##### 5 --> Failure Drive (FD)"
   ]
  },
  {
   "cell_type": "code",
   "execution_count": null,
   "metadata": {},
   "outputs": [],
   "source": []
  },
  {
   "cell_type": "code",
   "execution_count": null,
   "metadata": {},
   "outputs": [],
   "source": []
  },
  {
   "cell_type": "code",
   "execution_count": null,
   "metadata": {},
   "outputs": [],
   "source": []
  }
 ],
 "metadata": {
  "kernelspec": {
   "display_name": "Python 3",
   "language": "python",
   "name": "python3"
  },
  "language_info": {
   "codemirror_mode": {
    "name": "ipython",
    "version": 3
   },
   "file_extension": ".py",
   "mimetype": "text/x-python",
   "name": "python",
   "nbconvert_exporter": "python",
   "pygments_lexer": "ipython3",
   "version": "3.7.4"
  }
 },
 "nbformat": 4,
 "nbformat_minor": 4
}
